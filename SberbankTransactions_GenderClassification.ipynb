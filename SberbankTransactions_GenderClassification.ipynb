{
 "cells": [
  {
   "cell_type": "markdown",
   "metadata": {
    "datalore": {
     "hide_input_from_viewers": false,
     "hide_output_from_viewers": false,
     "type": "MD"
    }
   },
   "source": [
    "# Import libraries"
   ]
  },
  {
   "cell_type": "code",
   "execution_count": 1,
   "metadata": {
    "datalore": {
     "hide_input_from_viewers": false,
     "hide_output_from_viewers": false,
     "type": "CODE"
    }
   },
   "outputs": [],
   "source": [
    "# importing libraries\n",
    "import pandas as pd\n",
    "import numpy as np\n",
    "import matplotlib.pyplot as plt\n",
    "import seaborn as sns\n",
    "import warnings\n",
    "warnings.filterwarnings('ignore')\n",
    "from datetime import datetime\n",
    "import random\n",
    "import math\n",
    "import matplotlib.ticker as tick\n",
    "\n",
    "%matplotlib inline"
   ]
  },
  {
   "cell_type": "markdown",
   "metadata": {
    "datalore": {
     "hide_input_from_viewers": false,
     "hide_output_from_viewers": false,
     "type": "MD"
    }
   },
   "source": [
    "# Import data"
   ]
  },
  {
   "cell_type": "code",
   "execution_count": 2,
   "metadata": {
    "datalore": {
     "hide_input_from_viewers": false,
     "hide_output_from_viewers": false,
     "type": "CODE"
    }
   },
   "outputs": [],
   "source": [
    "# upload datasets \n",
    "data = pd.read_csv('transactions.csv', sep=';')\n",
    "codes = pd.read_csv('codes.csv', sep=';')\n",
    "types = pd.read_csv('types.csv',sep=';')\n",
    "train = pd.read_csv('train_set.csv', sep=';')\n",
    "test = pd.read_csv('test_set.csv', sep=';')"
   ]
  },
  {
   "cell_type": "code",
   "execution_count": 3,
   "metadata": {
    "datalore": {
     "hide_input_from_viewers": false,
     "hide_output_from_viewers": false,
     "type": "CODE"
    }
   },
   "outputs": [
    {
     "data": {
      "text/html": [
       "<div>\n",
       "<style scoped>\n",
       "    .dataframe tbody tr th:only-of-type {\n",
       "        vertical-align: middle;\n",
       "    }\n",
       "\n",
       "    .dataframe tbody tr th {\n",
       "        vertical-align: top;\n",
       "    }\n",
       "\n",
       "    .dataframe thead th {\n",
       "        text-align: right;\n",
       "    }\n",
       "</style>\n",
       "<table border=\"1\" class=\"dataframe\">\n",
       "  <thead>\n",
       "    <tr style=\"text-align: right;\">\n",
       "      <th></th>\n",
       "      <th>client_id</th>\n",
       "      <th>datetime</th>\n",
       "      <th>code</th>\n",
       "      <th>type</th>\n",
       "      <th>sum</th>\n",
       "      <th>target</th>\n",
       "    </tr>\n",
       "  </thead>\n",
       "  <tbody>\n",
       "    <tr>\n",
       "      <th>0</th>\n",
       "      <td>96372458</td>\n",
       "      <td>421 06:33:15</td>\n",
       "      <td>6011</td>\n",
       "      <td>2010</td>\n",
       "      <td>-561478.94</td>\n",
       "      <td>0</td>\n",
       "    </tr>\n",
       "    <tr>\n",
       "      <th>1</th>\n",
       "      <td>96372458</td>\n",
       "      <td>270 06:16:18</td>\n",
       "      <td>6011</td>\n",
       "      <td>7010</td>\n",
       "      <td>224591.58</td>\n",
       "      <td>0</td>\n",
       "    </tr>\n",
       "    <tr>\n",
       "      <th>2</th>\n",
       "      <td>96372458</td>\n",
       "      <td>97 10:48:35</td>\n",
       "      <td>4829</td>\n",
       "      <td>2370</td>\n",
       "      <td>-11229.58</td>\n",
       "      <td>0</td>\n",
       "    </tr>\n",
       "    <tr>\n",
       "      <th>3</th>\n",
       "      <td>96372458</td>\n",
       "      <td>445 07:33:38</td>\n",
       "      <td>4829</td>\n",
       "      <td>2330</td>\n",
       "      <td>-417695.42</td>\n",
       "      <td>0</td>\n",
       "    </tr>\n",
       "    <tr>\n",
       "      <th>4</th>\n",
       "      <td>96372458</td>\n",
       "      <td>4 09:33:46</td>\n",
       "      <td>4814</td>\n",
       "      <td>1030</td>\n",
       "      <td>-2245.92</td>\n",
       "      <td>0</td>\n",
       "    </tr>\n",
       "  </tbody>\n",
       "</table>\n",
       "</div>"
      ],
      "text/plain": [
       "   client_id      datetime  code  type        sum  target\n",
       "0   96372458  421 06:33:15  6011  2010 -561478.94       0\n",
       "1   96372458  270 06:16:18  6011  7010  224591.58       0\n",
       "2   96372458   97 10:48:35  4829  2370  -11229.58       0\n",
       "3   96372458  445 07:33:38  4829  2330 -417695.42       0\n",
       "4   96372458    4 09:33:46  4814  1030   -2245.92       0"
      ]
     },
     "execution_count": 3,
     "metadata": {},
     "output_type": "execute_result"
    }
   ],
   "source": [
    "# only clients from train\n",
    "data = data.merge(train)\n",
    "data.head()"
   ]
  },
  {
   "cell_type": "markdown",
   "metadata": {
    "datalore": {
     "hide_input_from_viewers": false,
     "hide_output_from_viewers": false,
     "type": "MD"
    }
   },
   "source": [
    "# 1. Data Observe"
   ]
  },
  {
   "cell_type": "markdown",
   "metadata": {
    "datalore": {
     "hide_input_from_viewers": false,
     "hide_output_from_viewers": false,
     "type": "MD"
    }
   },
   "source": [
    "## 1.1 Data description"
   ]
  },
  {
   "cell_type": "code",
   "execution_count": 4,
   "metadata": {
    "datalore": {
     "hide_input_from_viewers": false,
     "hide_output_from_viewers": false,
     "type": "CODE"
    }
   },
   "outputs": [
    {
     "data": {
      "text/plain": [
       "count    9.182600e+04\n",
       "mean    -1.666997e+04\n",
       "std      6.232297e+05\n",
       "min     -4.150030e+07\n",
       "25%     -2.156079e+04\n",
       "50%     -5.239160e+03\n",
       "75%     -1.122960e+03\n",
       "max      6.737747e+07\n",
       "Name: sum, dtype: float64"
      ]
     },
     "execution_count": 4,
     "metadata": {},
     "output_type": "execute_result"
    }
   ],
   "source": [
    "# representing description of sum column(quartiles, median, mean, std, max, min)\n",
    "data['sum'].describe()"
   ]
  },
  {
   "cell_type": "code",
   "execution_count": 5,
   "metadata": {
    "datalore": {
     "hide_input_from_viewers": false,
     "hide_output_from_viewers": false,
     "type": "CODE"
    }
   },
   "outputs": [],
   "source": [
    "# get rid of '-' sign\n",
    "data_abs = data.copy()\n",
    "data_abs['abs_sum'] = data['sum'].apply(lambda x: abs(x))"
   ]
  },
  {
   "cell_type": "code",
   "execution_count": 6,
   "metadata": {
    "datalore": {
     "hide_input_from_viewers": false,
     "hide_output_from_viewers": false,
     "type": "CODE"
    }
   },
   "outputs": [
    {
     "data": {
      "text/plain": [
       "count    9.182600e+04\n",
       "mean     8.147385e+04\n",
       "std      6.181061e+05\n",
       "min      2.200000e-01\n",
       "25%      3.520925e+03\n",
       "50%      1.082531e+04\n",
       "75%      3.630467e+04\n",
       "max      6.737747e+07\n",
       "Name: abs_sum, dtype: float64"
      ]
     },
     "execution_count": 6,
     "metadata": {},
     "output_type": "execute_result"
    }
   ],
   "source": [
    "# describe absolute values for sum\n",
    "data_abs['abs_sum'].describe()"
   ]
  },
  {
   "cell_type": "markdown",
   "metadata": {
    "datalore": {
     "hide_input_from_viewers": false,
     "hide_output_from_viewers": false,
     "type": "MD"
    }
   },
   "source": [
    "## 1.3 Searching for outliers"
   ]
  },
  {
   "cell_type": "code",
   "execution_count": 7,
   "metadata": {
    "datalore": {
     "hide_input_from_viewers": false,
     "hide_output_from_viewers": false,
     "type": "CODE"
    }
   },
   "outputs": [
    {
     "data": {
      "image/png": "[encoded data removed]",
      "text/plain": [
       "<Figure size 432x288 with 1 Axes>"
      ]
     },
     "metadata": {},
     "output_type": "display_data"
    }
   ],
   "source": [
    "# boxplot which represents ouliers in absolute sum column\n",
    "sns.set_theme(style=\"whitegrid\")\n",
    "ax = sns.boxplot(x=data_abs[\"abs_sum\"])"
   ]
  },
  {
   "cell_type": "code",
   "execution_count": 8,
   "metadata": {
    "datalore": {
     "hide_input_from_viewers": false,
     "hide_output_from_viewers": false,
     "type": "CODE"
    }
   },
   "outputs": [
    {
     "data": {
      "text/plain": [
       "Text(0.5, 1.0, 'Absolute sum boxplot')"
      ]
     },
     "execution_count": 8,
     "metadata": {},
     "output_type": "execute_result"
    },
    {
     "data": {
      "image/png": "[encoded data removed]",
      "text/plain": [
       "<Figure size 1440x360 with 1 Axes>"
      ]
     },
     "metadata": {},
     "output_type": "display_data"
    }
   ],
   "source": [
    "\n",
    "# observing the box plot of absolute sum values without outliers based on IQR\n",
    "Q1 = data_abs['abs_sum'].quantile(0.25)\n",
    "Q3 = data_abs['abs_sum'].quantile(0.75)\n",
    "IQR = Q3 - Q1\n",
    "\n",
    "No_outliers = []\n",
    "for i in data_abs['abs_sum']:\n",
    "    if i > (Q1 - 1.5 * IQR) and i < (Q3 + 1.5 * IQR):\n",
    "        No_outliers.append(i)\n",
    "\n",
    "No_outliers = pd.DataFrame(No_outliers)\n",
    "No_outliers = No_outliers.rename(columns={0:'sum'})\n",
    "\n",
    "plt.figure(figsize=(20, 5))\n",
    "\n",
    "plt.subplot(1, 1, 1)\n",
    "plt.boxplot(No_outliers['sum'], showfliers=False)\n",
    "plt.title('Absolute sum boxplot')"
   ]
  },
  {
   "cell_type": "markdown",
   "metadata": {
    "datalore": {
     "hide_input_from_viewers": false,
     "hide_output_from_viewers": false,
     "type": "MD"
    }
   },
   "source": [
    "## 1.5 Conclusion"
   ]
  },
  {
   "cell_type": "markdown",
   "metadata": {
    "datalore": {
     "hide_input_from_viewers": false,
     "hide_output_from_viewers": false,
     "type": "MD"
    }
   },
   "source": [
    "**Clearing such a large number of outliers will lead to the loss of the essence of the entire clustering, so the decision was made to keep everything.**"
   ]
  },
  {
   "cell_type": "markdown",
   "metadata": {
    "datalore": {
     "hide_input_from_viewers": false,
     "hide_output_from_viewers": false,
     "type": "MD"
    }
   },
   "source": [
    "# 2. Data Cleaning"
   ]
  },
  {
   "cell_type": "markdown",
   "metadata": {
    "datalore": {
     "hide_input_from_viewers": false,
     "hide_output_from_viewers": false,
     "type": "MD"
    }
   },
   "source": [
    "## 2.1 Missing values"
   ]
  },
  {
   "cell_type": "code",
   "execution_count": 9,
   "metadata": {
    "datalore": {
     "hide_input_from_viewers": false,
     "hide_output_from_viewers": false,
     "type": "CODE"
    }
   },
   "outputs": [],
   "source": [
    "# copy dataset to identify missing values\n",
    "data_missing_values = data.copy()\n",
    "data_missing_value = data_missing_values.dropna(subset=['client_id'])"
   ]
  },
  {
   "cell_type": "code",
   "execution_count": 10,
   "metadata": {
    "datalore": {
     "hide_input_from_viewers": false,
     "hide_output_from_viewers": false,
     "type": "CODE"
    }
   },
   "outputs": [
    {
     "name": "stdout",
     "output_type": "stream",
     "text": [
      "<class 'pandas.core.frame.DataFrame'>\n",
      "Int64Index: 91826 entries, 0 to 91825\n",
      "Data columns (total 6 columns):\n",
      " #   Column     Non-Null Count  Dtype  \n",
      "---  ------     --------------  -----  \n",
      " 0   client_id  91826 non-null  int64  \n",
      " 1   datetime   91826 non-null  object \n",
      " 2   code       91826 non-null  int64  \n",
      " 3   type       91826 non-null  int64  \n",
      " 4   sum        91826 non-null  float64\n",
      " 5   target     91826 non-null  int64  \n",
      "dtypes: float64(1), int64(4), object(1)\n",
      "memory usage: 4.9+ MB\n"
     ]
    }
   ],
   "source": [
    "# information about columns in dataset \n",
    "data_missing_values.info()"
   ]
  },
  {
   "cell_type": "code",
   "execution_count": 11,
   "metadata": {
    "datalore": {
     "hide_input_from_viewers": false,
     "hide_output_from_viewers": false,
     "type": "CODE"
    }
   },
   "outputs": [
    {
     "data": {
      "text/plain": [
       "Text(0.5, 1.0, 'Ratio of missing values per columns')"
      ]
     },
     "execution_count": 11,
     "metadata": {},
     "output_type": "execute_result"
    },
    {
     "data": {
      "image/png": "[encoded data removed]",
      "text/plain": [
       "<Figure size 360x360 with 1 Axes>"
      ]
     },
     "metadata": {},
     "output_type": "display_data"
    }
   ],
   "source": [
    "# at this plot we can see that \n",
    "plt.figure(figsize=(5, 5))\n",
    "data_missing_values.isnull().mean(axis=0).plot.barh()\n",
    "plt.title(\"Ratio of missing values per columns\")"
   ]
  },
  {
   "cell_type": "markdown",
   "metadata": {
    "datalore": {
     "hide_input_from_viewers": false,
     "hide_output_from_viewers": false,
     "type": "MD"
    }
   },
   "source": [
    "As the result, we can observe that the dataset has no missing values in it. Hence, it means that data was correctly scrapped."
   ]
  },
  {
   "cell_type": "markdown",
   "metadata": {
    "datalore": {
     "hide_input_from_viewers": false,
     "hide_output_from_viewers": false,
     "type": "MD"
    }
   },
   "source": [
    "## 2.2 Drop duplicates"
   ]
  },
  {
   "cell_type": "code",
   "execution_count": 12,
   "metadata": {
    "datalore": {
     "hide_input_from_viewers": false,
     "hide_output_from_viewers": false,
     "type": "CODE"
    }
   },
   "outputs": [],
   "source": [
    "# create new dataframe by making a copy from initial dataset\n",
    "data_duplicates = data.copy()"
   ]
  },
  {
   "cell_type": "code",
   "execution_count": 13,
   "metadata": {
    "datalore": {
     "hide_input_from_viewers": false,
     "hide_output_from_viewers": false,
     "type": "CODE"
    }
   },
   "outputs": [
    {
     "name": "stdout",
     "output_type": "stream",
     "text": [
      "Dupplicate entries: 19\n"
     ]
    }
   ],
   "source": [
    "# representing number of exactly the same entries in dataframe\n",
    "print('Dupplicate entries: {}'.format(data_duplicates.duplicated().sum()))\n",
    "data_duplicates.drop_duplicates(inplace = True)"
   ]
  },
  {
   "cell_type": "markdown",
   "metadata": {
    "datalore": {
     "hide_input_from_viewers": false,
     "hide_output_from_viewers": false,
     "type": "MD"
    }
   },
   "source": [
    "## 2.3 Data with invalid code/type values"
   ]
  },
  {
   "cell_type": "markdown",
   "metadata": {
    "datalore": {
     "hide_input_from_viewers": false,
     "hide_output_from_viewers": false,
     "type": "MD"
    }
   },
   "source": [
    "### 2.3.1 Removing rows if their type/code is not found in codes/types tables"
   ]
  },
  {
   "cell_type": "code",
   "execution_count": 14,
   "metadata": {
    "datalore": {
     "hide_input_from_viewers": false,
     "hide_output_from_viewers": false,
     "type": "CODE"
    }
   },
   "outputs": [],
   "source": [
    "# converting codes and types to lists \n",
    "type_list = types['type'].to_list()\n",
    "code_list = codes['code'].to_list()\n",
    "data = data[data['type'].isin(type_list) & data['code'].isin(code_list)]\n",
    "\n",
    "# delete unnecessary lists\n",
    "del type_list, code_list"
   ]
  },
  {
   "cell_type": "markdown",
   "metadata": {
    "datalore": {
     "hide_input_from_viewers": false,
     "hide_output_from_viewers": false,
     "type": "MD"
    }
   },
   "source": [
    "### 2.3.2 Removing rows if the description of their code/type values are invalid in codes/types tables"
   ]
  },
  {
   "cell_type": "code",
   "execution_count": 15,
   "metadata": {
    "datalore": {
     "hide_input_from_viewers": false,
     "hide_output_from_viewers": false,
     "type": "CODE"
    }
   },
   "outputs": [],
   "source": [
    "# removing н/д\n",
    "nan_types = types['type'][types['type_description'] == 'н/д'].to_list()\n",
    "data = data[~data['type'].isin(nan_types)]"
   ]
  },
  {
   "cell_type": "markdown",
   "metadata": {
    "datalore": {
     "hide_input_from_viewers": false,
     "hide_output_from_viewers": false,
     "type": "MD"
    }
   },
   "source": [
    "### 2.3.3 Due to types table contains duplicates in type description we shoud remove these duplicates and replace invalid types in general dataframe "
   ]
  },
  {
   "cell_type": "code",
   "execution_count": 16,
   "metadata": {
    "datalore": {
     "hide_input_from_viewers": false,
     "hide_output_from_viewers": false,
     "type": "CODE"
    }
   },
   "outputs": [],
   "source": [
    "# deleting duplicates of types from general data\n",
    "\n",
    "dict_for_types = {}\n",
    "for row in types.values:\n",
    "    list_of_types = []\n",
    "    for row2 in types.values:\n",
    "        if row[1] == row2[1]:\n",
    "            list_of_types.append(row2[0])\n",
    "    while len(list_of_types) > 1:\n",
    "        dict_for_types[list_of_types[-1]] = list_of_types[0]\n",
    "        list_of_types = list_of_types[:-1]\n",
    "data['type'] = data['type'].apply(lambda x: dict_for_types.get(x) if dict_for_types.get(x) != None else x)"
   ]
  },
  {
   "cell_type": "markdown",
   "metadata": {
    "datalore": {
     "hide_input_from_viewers": false,
     "hide_output_from_viewers": false,
     "type": "MD"
    }
   },
   "source": [
    "### 2.3.4 Removing duplicates and ivalid data from types table"
   ]
  },
  {
   "cell_type": "code",
   "execution_count": 17,
   "metadata": {
    "datalore": {
     "hide_input_from_viewers": false,
     "hide_output_from_viewers": false,
     "type": "CODE"
    }
   },
   "outputs": [],
   "source": [
    "# deleting all 'garbage' values from table 'types'\n",
    "types = types.drop_duplicates('type_description', keep='first')\n",
    "types = types[~types['type_description'].str.contains('н/д')]\n",
    "types = types[~types['type_description'].str.contains('н/д(нет данных)')]\n",
    "types = types[~types['type_description'].str.contains('XXX')]"
   ]
  },
  {
   "cell_type": "markdown",
   "metadata": {
    "datalore": {
     "hide_input_from_viewers": false,
     "hide_output_from_viewers": false,
     "type": "MD"
    }
   },
   "source": [
    "# 3. Exploratory Data Analysis"
   ]
  },
  {
   "cell_type": "markdown",
   "metadata": {
    "datalore": {
     "hide_input_from_viewers": false,
     "hide_output_from_viewers": false,
     "type": "CODE"
    }
   },
   "source": [
    "## 3.1 Analysis of transactions distributed according to hours"
   ]
  },
  {
   "cell_type": "code",
   "execution_count": 18,
   "metadata": {
    "datalore": {
     "hide_input_from_viewers": false,
     "hide_output_from_viewers": false,
     "type": "CODE"
    }
   },
   "outputs": [],
   "source": [
    "# eda \n",
    "hours_distribution = data.copy()\n",
    "# copy dataset to work with time\n",
    "hours_distribution = data.copy()\n",
    "# split days and time from column datetime\n",
    "hours_distribution[['day', 'time']] = hours_distribution['datetime'].str.split(' ', 1, expand=True)\n",
    "# get only hours from time column\n",
    "hours_distribution['time'] = pd.to_datetime(hours_distribution['time'], format='%H:%M:%S')\n",
    "hours_distribution['hh']= hours_distribution['time'].dt.hour\n",
    "\n",
    "time_hh = []\n",
    "for i in hours_distribution['hh']:\n",
    "    if i >=0 and i < 13:\n",
    "        time_hh.append(\"Morning\")\n",
    "    elif i >= 13 and i<=17:\n",
    "        time_hh.append(\"Afternoon\")\n",
    "    elif i > 17 and i <= 19:\n",
    "        time_hh.append(\"Evening\")\n",
    "    elif i > 19:\n",
    "        time_hh.append(\"Night\")\n",
    "\n",
    "# inserting times in transactions time of day column\n",
    "hours_distribution[\"TransactionTimeOfDay\"] = time_hh\n",
    "hours_distribution['abs_sum'] = hours_distribution['sum'].apply(lambda x: abs(x))"
   ]
  },
  {
   "cell_type": "code",
   "execution_count": 19,
   "metadata": {
    "datalore": {
     "hide_input_from_viewers": false,
     "hide_output_from_viewers": false,
     "type": "CODE"
    }
   },
   "outputs": [
    {
     "data": {
      "text/plain": [
       "count    9.172500e+04\n",
       "mean     8.147748e+04\n",
       "std      6.184290e+05\n",
       "min      2.200000e-01\n",
       "25%      3.520700e+03\n",
       "50%      1.081408e+04\n",
       "75%      3.623852e+04\n",
       "max      6.737747e+07\n",
       "Name: abs_sum, dtype: float64"
      ]
     },
     "execution_count": 19,
     "metadata": {},
     "output_type": "execute_result"
    }
   ],
   "source": [
    "# take a description of abs_sum column\n",
    "hours_distribution['abs_sum'].describe()"
   ]
  },
  {
   "cell_type": "code",
   "execution_count": 20,
   "metadata": {
    "datalore": {
     "hide_input_from_viewers": false,
     "hide_output_from_viewers": false,
     "type": "CODE"
    }
   },
   "outputs": [
    {
     "data": {
      "image/png": "[encoded data removed]",
      "text/plain": [
       "<Figure size 806.4x288 with 4 Axes>"
      ]
     },
     "metadata": {},
     "output_type": "display_data"
    }
   ],
   "source": [
    "# graph represents abs_sum based on time distribution between targets\n",
    "graph1 = sns.catplot(x=\"target\", y=\"abs_sum\",\n",
    "                hue=\"target\", col=\"TransactionTimeOfDay\",\n",
    "                data=hours_distribution, kind=\"box\",\n",
    "                height=4, aspect=.7);\n"
   ]
  },
  {
   "cell_type": "code",
   "execution_count": 21,
   "metadata": {
    "datalore": {
     "hide_input_from_viewers": false,
     "hide_output_from_viewers": false,
     "type": "CODE"
    }
   },
   "outputs": [],
   "source": [
    "# removing outlires from abs sum in [-2] represents 0.75, [-4] represents 0.25\n",
    "iqr = hours_distribution['abs_sum'].describe()[-2] - hours_distribution['abs_sum'].describe()[-4]\n",
    "high_lim = iqr*1.5 + hours_distribution['abs_sum'].describe()[-2]\n",
    "low_lim = iqr*1/5 - hours_distribution['abs_sum'].describe()[-4]\n",
    "df_no_outliers = hours_distribution[(hours_distribution['abs_sum'] > low_lim) & (hours_distribution['abs_sum'] < high_lim)]"
   ]
  },
  {
   "cell_type": "code",
   "execution_count": 22,
   "metadata": {
    "datalore": {
     "hide_input_from_viewers": false,
     "hide_output_from_viewers": false,
     "type": "CODE"
    }
   },
   "outputs": [
    {
     "data": {
      "image/png": "[encoded data removed]",
      "text/plain": [
       "<Figure size 1382.4x288 with 4 Axes>"
      ]
     },
     "metadata": {},
     "output_type": "display_data"
    }
   ],
   "source": [
    "# same graph above but without outliers\n",
    "graph2 = sns.catplot(x=\"target\", y=\"abs_sum\",\n",
    "                hue=\"target\", col=\"TransactionTimeOfDay\",\n",
    "                data=df_no_outliers, kind=\"box\",\n",
    "                height=4, aspect=1.2);"
   ]
  },
  {
   "cell_type": "code",
   "execution_count": 23,
   "metadata": {
    "datalore": {
     "hide_input_from_viewers": false,
     "hide_output_from_viewers": false,
     "type": "CODE"
    }
   },
   "outputs": [],
   "source": [
    "# creating dataframe to make anasysis on sums based on the copy of original dataset \n",
    "data_sum_analysis = data.copy()\n",
    "data_sum_analysis['abs_sum'] = data_sum_analysis['sum'].apply(lambda x: abs(x))\n",
    "data_sum_analysis = data_sum_analysis[['sum', 'abs_sum', 'client_id']].groupby('client_id').sum()"
   ]
  },
  {
   "cell_type": "code",
   "execution_count": 24,
   "metadata": {
    "datalore": {
     "hide_input_from_viewers": false,
     "hide_output_from_viewers": false,
     "type": "CODE"
    }
   },
   "outputs": [],
   "source": [
    "# creating number of transactions\n",
    "data_sum_analysis = data_sum_analysis.join(data['client_id'].value_counts()).rename(columns={'client_id':'n_transactions'})"
   ]
  },
  {
   "cell_type": "code",
   "execution_count": 25,
   "metadata": {
    "datalore": {
     "hide_input_from_viewers": false,
     "hide_output_from_viewers": false,
     "type": "CODE"
    }
   },
   "outputs": [],
   "source": [
    "# finding amount of average transactions by divinding abs_sum on number of transactions\n",
    "data_sum_analysis['average_transaction'] = data_sum_analysis['abs_sum']/data_sum_analysis['n_transactions']"
   ]
  },
  {
   "cell_type": "code",
   "execution_count": 26,
   "metadata": {
    "datalore": {
     "hide_input_from_viewers": false,
     "hide_output_from_viewers": false,
     "type": "CODE"
    }
   },
   "outputs": [],
   "source": [
    "# final representation of dataframe\n",
    "data_sum_analysis = data_sum_analysis.join(data[['client_id', 'target']].drop_duplicates('client_id').set_index('client_id'))"
   ]
  },
  {
   "cell_type": "code",
   "execution_count": 27,
   "metadata": {
    "datalore": {
     "hide_input_from_viewers": false,
     "hide_output_from_viewers": false,
     "type": "CODE"
    }
   },
   "outputs": [
    {
     "data": {
      "image/png": "[encoded data removed]",
      "text/plain": [
       "<Figure size 432x288 with 1 Axes>"
      ]
     },
     "metadata": {},
     "output_type": "display_data"
    }
   ],
   "source": [
    "# graph which depicts distribution of average transactions by target\n",
    "graph3 = sns.boxplot(x=\"target\", y=\"average_transaction\", hue=\"target\",\n",
    "                 data=data_sum_analysis, palette=\"Set3\")"
   ]
  },
  {
   "cell_type": "code",
   "execution_count": 28,
   "metadata": {
    "datalore": {
     "hide_input_from_viewers": false,
     "hide_output_from_viewers": false,
     "type": "CODE"
    }
   },
   "outputs": [],
   "source": [
    "# deleting outlires from average transactions\n",
    "iqr = data_sum_analysis['average_transaction'].describe()[-2] - data_sum_analysis['average_transaction'].describe()[-4]\n",
    "high_lim = iqr*1.5 + data_sum_analysis['average_transaction'].describe()[-2]\n",
    "low_lim = iqr*1/5 - data_sum_analysis['average_transaction'].describe()[-4]\n",
    "df_no_outliers_avg = data_sum_analysis[(data_sum_analysis['average_transaction'] > low_lim) & (data_sum_analysis['average_transaction'] < high_lim)]"
   ]
  },
  {
   "cell_type": "code",
   "execution_count": 29,
   "metadata": {
    "datalore": {
     "hide_input_from_viewers": false,
     "hide_output_from_viewers": false,
     "type": "CODE"
    }
   },
   "outputs": [
    {
     "data": {
      "image/png": "[encoded data removed]",
      "text/plain": [
       "<Figure size 432x288 with 1 Axes>"
      ]
     },
     "metadata": {},
     "output_type": "display_data"
    }
   ],
   "source": [
    "# this graph represents above distribution but without outliers\n",
    "graph4 = sns.boxplot(x=\"target\", y=\"average_transaction\", hue=\"target\",\n",
    "                 data=df_no_outliers_avg, palette=\"Set3\")"
   ]
  },
  {
   "cell_type": "code",
   "execution_count": 30,
   "metadata": {
    "datalore": {
     "hide_input_from_viewers": false,
     "hide_output_from_viewers": false,
     "type": "CODE"
    }
   },
   "outputs": [
    {
     "data": {
      "image/png": "[encoded data removed]",
      "text/plain": [
       "<Figure size 360x360 with 1 Axes>"
      ]
     },
     "metadata": {},
     "output_type": "display_data"
    }
   ],
   "source": [
    "# graph shows how does number of transactions distributed by target\n",
    "graph5 = sns.catplot(x=\"target\", y=\"n_transactions\", hue=\"target\",\n",
    "               data=data_sum_analysis, kind=\"violin\")"
   ]
  },
  {
   "cell_type": "code",
   "execution_count": 31,
   "metadata": {
    "datalore": {
     "hide_input_from_viewers": false,
     "hide_output_from_viewers": false,
     "type": "CODE"
    }
   },
   "outputs": [],
   "source": [
    "# removing outliers from number of transactions \n",
    "iqr = data_sum_analysis['n_transactions'].describe()[-2] - data_sum_analysis['n_transactions'].describe()[-4]\n",
    "high_lim = iqr*1.5 + data_sum_analysis['n_transactions'].describe()[-2]\n",
    "low_lim = iqr*1/5 - data_sum_analysis['n_transactions'].describe()[-4]\n",
    "df_no_outliers_n_transactions = data_sum_analysis[(data_sum_analysis['n_transactions'] > low_lim) & (data_sum_analysis['n_transactions'] < high_lim)]"
   ]
  },
  {
   "cell_type": "code",
   "execution_count": 32,
   "metadata": {
    "datalore": {
     "hide_input_from_viewers": false,
     "hide_output_from_viewers": false,
     "type": "CODE"
    },
    "scrolled": true
   },
   "outputs": [
    {
     "data": {
      "image/png": "[encoded data removed]",
      "text/plain": [
       "<Figure size 360x360 with 1 Axes>"
      ]
     },
     "metadata": {},
     "output_type": "display_data"
    }
   ],
   "source": [
    "# representing number of transactions distribution by target without outliers, via violin plot\n",
    "graph6 = sns.catplot(x=\"target\", y=\"n_transactions\", hue=\"target\",\n",
    "               data=df_no_outliers_n_transactions, kind=\"violin\")"
   ]
  },
  {
   "cell_type": "markdown",
   "metadata": {},
   "source": [
    "### Conclusion: According to all the graphs above, difference between all transactions and relation of transactions based on genders is negligible"
   ]
  },
  {
   "cell_type": "markdown",
   "metadata": {
    "datalore": {
     "hide_input_from_viewers": false,
     "hide_output_from_viewers": false,
     "type": "MD"
    }
   },
   "source": [
    "## 3.2 Transaction distribution according to day of week and gender"
   ]
  },
  {
   "cell_type": "code",
   "execution_count": 33,
   "metadata": {
    "datalore": {
     "hide_input_from_viewers": false,
     "hide_output_from_viewers": false,
     "type": "CODE"
    }
   },
   "outputs": [],
   "source": [
    "# copying new dataframe from original \n",
    "day_of_week_distibution = data.copy()\n",
    "day_of_week_distibution.drop(['client_id', 'code', 'type', 'sum'], axis=1, inplace=True)\n",
    "day_of_week_distibution['day_of_week'] = day_of_week_distibution['datetime'].apply(lambda x: int(x.split()[0]) % 7)\n",
    "\n",
    "# declaring new variables and assigning particular values, for man - 0, for woman - 1\n",
    "number_man = sum(data['target'] == 0)\n",
    "number_woman = sum(data['target'] == 1)"
   ]
  },
  {
   "cell_type": "code",
   "execution_count": 34,
   "metadata": {
    "datalore": {
     "hide_input_from_viewers": false,
     "hide_output_from_viewers": false,
     "type": "CODE"
    }
   },
   "outputs": [
    {
     "data": {
      "text/html": [
       "<div>\n",
       "<style scoped>\n",
       "    .dataframe tbody tr th:only-of-type {\n",
       "        vertical-align: middle;\n",
       "    }\n",
       "\n",
       "    .dataframe tbody tr th {\n",
       "        vertical-align: top;\n",
       "    }\n",
       "\n",
       "    .dataframe thead th {\n",
       "        text-align: right;\n",
       "    }\n",
       "</style>\n",
       "<table border=\"1\" class=\"dataframe\">\n",
       "  <thead>\n",
       "    <tr style=\"text-align: right;\">\n",
       "      <th></th>\n",
       "      <th>datetime</th>\n",
       "      <th>target</th>\n",
       "      <th>day_of_week</th>\n",
       "    </tr>\n",
       "  </thead>\n",
       "  <tbody>\n",
       "    <tr>\n",
       "      <th>0</th>\n",
       "      <td>421 06:33:15</td>\n",
       "      <td>0</td>\n",
       "      <td>1</td>\n",
       "    </tr>\n",
       "    <tr>\n",
       "      <th>1</th>\n",
       "      <td>270 06:16:18</td>\n",
       "      <td>0</td>\n",
       "      <td>4</td>\n",
       "    </tr>\n",
       "    <tr>\n",
       "      <th>2</th>\n",
       "      <td>97 10:48:35</td>\n",
       "      <td>0</td>\n",
       "      <td>6</td>\n",
       "    </tr>\n",
       "    <tr>\n",
       "      <th>3</th>\n",
       "      <td>445 07:33:38</td>\n",
       "      <td>0</td>\n",
       "      <td>4</td>\n",
       "    </tr>\n",
       "    <tr>\n",
       "      <th>4</th>\n",
       "      <td>4 09:33:46</td>\n",
       "      <td>0</td>\n",
       "      <td>4</td>\n",
       "    </tr>\n",
       "  </tbody>\n",
       "</table>\n",
       "</div>"
      ],
      "text/plain": [
       "       datetime  target  day_of_week\n",
       "0  421 06:33:15       0            1\n",
       "1  270 06:16:18       0            4\n",
       "2   97 10:48:35       0            6\n",
       "3  445 07:33:38       0            4\n",
       "4    4 09:33:46       0            4"
      ]
     },
     "execution_count": 34,
     "metadata": {},
     "output_type": "execute_result"
    }
   ],
   "source": [
    "# dataframe consists of datetime, target and new column day_of_week which represents the order of the days\n",
    "day_of_week_distibution.head()"
   ]
  },
  {
   "cell_type": "code",
   "execution_count": 35,
   "metadata": {
    "datalore": {
     "hide_input_from_viewers": false,
     "hide_output_from_viewers": false,
     "type": "CODE"
    }
   },
   "outputs": [
    {
     "data": {
      "text/plain": [
       "array([-0.00148523, -0.00840523, -0.00994649,  0.00522179,  0.00700979,\n",
       "        0.00400467,  0.0036007 ])"
      ]
     },
     "execution_count": 35,
     "metadata": {},
     "output_type": "execute_result"
    }
   ],
   "source": [
    "# ratio between transactions distributed by target completed in each dat of the week \n",
    "np.unique(day_of_week_distibution[day_of_week_distibution['target'] == 0]['day_of_week'], return_counts=True)[1] / number_man - np.unique(day_of_week_distibution[day_of_week_distibution['target'] == 1]['day_of_week'], return_counts=True)[1] / number_woman"
   ]
  },
  {
   "cell_type": "markdown",
   "metadata": {},
   "source": [
    "### Conclusion: Small deviation concludes that correlation between genders is almost absent and could be negligible"
   ]
  },
  {
   "cell_type": "markdown",
   "metadata": {
    "datalore": {
     "hide_input_from_viewers": false,
     "hide_output_from_viewers": false,
     "type": "MD"
    }
   },
   "source": [
    "## 3.3 Working with code/type"
   ]
  },
  {
   "cell_type": "markdown",
   "metadata": {
    "datalore": {
     "hide_input_from_viewers": false,
     "hide_output_from_viewers": false,
     "type": "MD"
    }
   },
   "source": [
    "### 3.3.1 Get the ratio of code/type according to gender"
   ]
  },
  {
   "cell_type": "code",
   "execution_count": 36,
   "metadata": {
    "datalore": {
     "hide_input_from_viewers": false,
     "hide_output_from_viewers": false,
     "type": "CODE"
    }
   },
   "outputs": [],
   "source": [
    "# data copy\n",
    "data_to_classification = data.copy()\n",
    "data_to_classification = data_to_classification.drop(['sum', 'datetime','client_id'], axis=1)\n",
    "\n",
    "# get codes for men and women, and its occurrences\n",
    "data_only_man = data_to_classification[['code', 'target']][data_to_classification['target'] == 0]\n",
    "codes_only_man = np.unique(data_only_man['code'])\n",
    "occur_only_man = np.unique(data_only_man['code'], return_counts=True)[1]\n",
    "data_only_woman = data_to_classification[['code', 'target']][data_to_classification['target'] == 1]\n",
    "codes_only_woman = np.unique(data_only_woman['code'])\n",
    "occur_only_woman = np.unique(data_only_woman['code'], return_counts=True)[1]\n",
    "\n",
    "codes_all = np.unique(data_to_classification['code'])\n",
    "\n",
    "# get the number of transactions for men and women\n",
    "number_man = sum(data_to_classification['target'] == 0)\n",
    "number_woman = sum(data_to_classification['target'] == 1)\n",
    "\n",
    "# count the frequency for codes according to gender(positive - 0, negative - 1, value - deflection)\n",
    "in_both_codes = {}\n",
    "only_man_codes = {}\n",
    "only_woman_codes = {}\n",
    "for code in codes_all:\n",
    "    if code in codes_only_man and code in codes_only_woman:\n",
    "        in_both_codes[code] = round(100 * occur_only_man[np.where(codes_only_man == code)[0][0]] / number_man - 100 * occur_only_woman[np.where(codes_only_woman == code)[0][0]] / number_woman, 4)\n",
    "    elif code in codes_only_man:\n",
    "        only_man_codes[code] = round(100 * occur_only_man[np.where(codes_only_man == code)[0][0]] / number_man, 4)\n",
    "    else:\n",
    "        only_woman_codes[code] = round(100 * occur_only_woman[np.where(codes_only_woman == code)[0][0]] / number_woman, 4)"
   ]
  },
  {
   "cell_type": "code",
   "execution_count": 37,
   "metadata": {
    "datalore": {
     "hide_input_from_viewers": false,
     "hide_output_from_viewers": false,
     "type": "CODE"
    }
   },
   "outputs": [],
   "source": [
    "# get types for man and woman, and its occurrences\n",
    "data_only_man = data_to_classification[['type', 'target']][data_to_classification['target'] == 0]\n",
    "types_only_man = np.unique(data_only_man['type'])\n",
    "occur_only_man = np.unique(data_only_man['type'], return_counts=True)[1]\n",
    "data_only_woman = data_to_classification[['type', 'target']][data_to_classification['target'] == 1]\n",
    "types_only_woman = np.unique(data_only_woman['type'])\n",
    "occur_only_woman = np.unique(data_only_woman['type'], return_counts=True)[1]\n",
    "\n",
    "types_all = np.unique(data_to_classification['type'])\n",
    "\n",
    "# count the frequency for types according to gender(positive - 0, negative - 1, value - deflection)\n",
    "in_both_types = {}\n",
    "only_man_types = {}\n",
    "only_woman_types = {}\n",
    "for type in types_all:\n",
    "    if type in types_only_man and type in types_only_woman:\n",
    "        in_both_types[type] = round(100 * occur_only_man[np.where(types_only_man == type)[0][0]] / number_man - 100 * occur_only_woman[np.where(types_only_woman == type)[0][0]] / number_woman, 4)\n",
    "    elif type in types_only_man:\n",
    "        only_man_types[type] = round(100 * occur_only_man[np.where(types_only_man == type)[0][0]] / number_man, 4)\n",
    "    else:\n",
    "        only_woman_types[type] = round(100 * occur_only_woman[np.where(types_only_woman == type)[0][0]] / number_woman, 4)"
   ]
  },
  {
   "cell_type": "code",
   "execution_count": 38,
   "metadata": {
    "datalore": {
     "hide_input_from_viewers": false,
     "hide_output_from_viewers": false,
     "type": "CODE"
    }
   },
   "outputs": [],
   "source": [
    "# if code or type occur only for women then do it negative\n",
    "for key, value in only_woman_codes.items():\n",
    "    only_woman_codes[key] = value * -1\n",
    "for key, value in only_woman_types.items():\n",
    "    only_woman_types[key] = value * -1\n",
    "\n",
    "# concat all dicts ith code\n",
    "codes_merged = in_both_codes.copy()\n",
    "codes_merged.update(only_man_codes)\n",
    "codes_merged.update(only_woman_codes)\n",
    "\n",
    "# concat all dicts ith type\n",
    "types_merged = in_both_types.copy()\n",
    "types_merged.update(only_man_types)\n",
    "types_merged.update(only_woman_types)"
   ]
  },
  {
   "cell_type": "code",
   "execution_count": 39,
   "metadata": {
    "datalore": {
     "hide_input_from_viewers": false,
     "hide_output_from_viewers": false,
     "type": "CODE"
    }
   },
   "outputs": [],
   "source": [
    "# creating dataframe from dictionary based on previously prepared dictionary\n",
    "df_types_merged = pd.DataFrame.from_dict(types_merged, orient='index').reset_index()\n",
    "df_types_merged['values'] = df_types_merged.iloc[:,1]\n",
    "df_types_merged = df_types_merged.rename(columns={\"index\": \"type\"})"
   ]
  },
  {
   "cell_type": "code",
   "execution_count": 40,
   "metadata": {
    "datalore": {
     "hide_input_from_viewers": false,
     "hide_output_from_viewers": false,
     "type": "CODE"
    }
   },
   "outputs": [
    {
     "data": {
      "image/png": "[encoded data removed]",
      "text/plain": [
       "<Figure size 2160x216 with 1 Axes>"
      ]
     },
     "metadata": {},
     "output_type": "display_data"
    }
   ],
   "source": [
    "# plotting graph which represents values deviation between genders according to types from types table \n",
    "plt.figure(figsize=(30,3))\n",
    "ax = sns.barplot(x=\"type\", y=\"values\", data=df_types_merged,\n",
    "                 color=\"salmon\", saturation=2.5)"
   ]
  },
  {
   "cell_type": "code",
   "execution_count": 41,
   "metadata": {
    "datalore": {
     "hide_input_from_viewers": false,
     "hide_output_from_viewers": false,
     "type": "CODE"
    }
   },
   "outputs": [],
   "source": [
    "# creating dataframe from dictionary which consist of values and codes prepared on difference of genders\n",
    "df_codes_merged = pd.DataFrame.from_dict(codes_merged, orient='index').reset_index()\n",
    "df_codes_merged['values'] = df_codes_merged.iloc[:,1]\n",
    "df_codes_merged = df_codes_merged.rename(columns={\"index\": \"code\"})"
   ]
  },
  {
   "cell_type": "code",
   "execution_count": 42,
   "metadata": {
    "datalore": {
     "hide_input_from_viewers": false,
     "hide_output_from_viewers": false,
     "type": "CODE"
    }
   },
   "outputs": [
    {
     "data": {
      "image/png": "[encoded data removed]",
      "text/plain": [
       "<Figure size 3600x720 with 1 Axes>"
      ]
     },
     "metadata": {},
     "output_type": "display_data"
    }
   ],
   "source": [
    "# plotting graph which represents values deviation between genders accordong to codes from codes table \n",
    "plt.figure(figsize=(50,10))\n",
    "ax1 = sns.barplot(x=\"code\", y=\"values\", data=df_codes_merged,\n",
    "                 color=\"salmon\", saturation=2.5)"
   ]
  },
  {
   "cell_type": "markdown",
   "metadata": {
    "datalore": {
     "hide_input_from_viewers": false,
     "hide_output_from_viewers": false,
     "type": "MD"
    }
   },
   "source": [
    "**Conclusion: The deviation values are too small, with a few exceptions, to indicate that there is a relationship between the type or code of the transaction and the gender of the client.**"
   ]
  },
  {
   "cell_type": "markdown",
   "metadata": {
    "datalore": {
     "hide_input_from_viewers": false,
     "hide_output_from_viewers": false,
     "type": "MD"
    }
   },
   "source": [
    "### 3.3.2 Trying to predict gender according to the most characteristic transactions"
   ]
  },
  {
   "cell_type": "code",
   "execution_count": 43,
   "metadata": {
    "datalore": {
     "hide_input_from_viewers": false,
     "hide_output_from_viewers": false,
     "type": "CODE"
    }
   },
   "outputs": [],
   "source": [
    "data_exp = data.copy()\n",
    "data_exp = data_exp.drop(['datetime', 'sum'], axis=1)"
   ]
  },
  {
   "cell_type": "code",
   "execution_count": 44,
   "metadata": {
    "datalore": {
     "hide_input_from_viewers": false,
     "hide_output_from_viewers": false,
     "type": "CODE"
    }
   },
   "outputs": [],
   "source": [
    "list_of_corr_x_codes = []\n",
    "list_of_corr_y_codes = []\n",
    "\n",
    "n_0 = sum(data['target'] == 0)\n",
    "n_1 = sum(data['target'] == 1)\n",
    "\n",
    "for code in codes['code'].to_list():\n",
    "    nums = list(np.unique(data[data['code'] == code]['target'], return_counts=True)[0])\n",
    "    corr = list(np.unique(data[data['code'] == code]['target'], return_counts=True)[1])\n",
    "    if len(nums) == 0:\n",
    "        continue\n",
    "        \n",
    "    if len(nums) == 1:\n",
    "        if nums == [0]:\n",
    "            corr.append(0)\n",
    "        if nums == [1]:\n",
    "            corr = [0, corr[0]]\n",
    "    list_of_corr_x_codes.append(corr[0]/n_0)\n",
    "    list_of_corr_y_codes.append(corr[1]/n_1)"
   ]
  },
  {
   "cell_type": "code",
   "execution_count": 45,
   "metadata": {
    "datalore": {
     "hide_input_from_viewers": false,
     "hide_output_from_viewers": false,
     "type": "CODE"
    }
   },
   "outputs": [
    {
     "data": {
      "text/plain": [
       "[(0.0, 0.01), (0.0, 0.01)]"
      ]
     },
     "execution_count": 45,
     "metadata": {},
     "output_type": "execute_result"
    },
    {
     "data": {
      "image/png": "[encoded data removed]",
      "text/plain": [
       "<Figure size 720x720 with 1 Axes>"
      ]
     },
     "metadata": {},
     "output_type": "display_data"
    }
   ],
   "source": [
    "# graph represents relation of each point to axes, where axes are targets\n",
    "plt.rcParams[\"figure.figsize\"] = (10,10)\n",
    "sns.scatterplot(x=list_of_corr_x_codes, y=list_of_corr_y_codes).set(xlim=(0, 0.01), ylim=(0,0.01))"
   ]
  },
  {
   "cell_type": "code",
   "execution_count": 46,
   "metadata": {
    "datalore": {
     "hide_input_from_viewers": false,
     "hide_output_from_viewers": false,
     "type": "CODE"
    }
   },
   "outputs": [],
   "source": [
    "res_codes = [x/y for x ,y in zip(list_of_corr_x_codes, list_of_corr_y_codes)]\n",
    "dict_codes = {}\n",
    "for code , result in zip(codes['code'].to_list(), res_codes):\n",
    "    if math.isinf(result):\n",
    "        dict_codes[code] = -1 #man\n",
    "    elif result == 0: \n",
    "        dict_codes[code] = 1 #woman\n",
    "    else:\n",
    "        if result > 2:\n",
    "            dict_codes[code] = -1\n",
    "        elif result < 0.4:\n",
    "            dict_codes[code] = 1\n",
    "        else:\n",
    "            dict_codes[code] = 0"
   ]
  },
  {
   "cell_type": "code",
   "execution_count": 47,
   "metadata": {
    "datalore": {
     "hide_input_from_viewers": false,
     "hide_output_from_viewers": false,
     "type": "CODE"
    }
   },
   "outputs": [],
   "source": [
    "list_of_corr_x_types = []\n",
    "list_of_corr_y_types = []\n",
    "\n",
    "n_0 = sum(data['target'] == 0)\n",
    "n_1 = sum(data['target'] == 1)\n",
    "\n",
    "for type in types['type'].to_list():\n",
    "    nums = list(np.unique(data[data['type'] == type]['target'], return_counts=True)[0])\n",
    "    corr = list(np.unique(data[data['type'] == type]['target'], return_counts=True)[1])\n",
    "    if len(nums) == 0:\n",
    "        continue\n",
    "        \n",
    "    if len(nums) == 1:\n",
    "        if nums == [0]:\n",
    "            corr.append(0)\n",
    "        if nums == [1]:\n",
    "            corr = [0, corr[0]]\n",
    "    list_of_corr_x_types.append(corr[0]/n_0)\n",
    "    list_of_corr_y_types.append(corr[1]/n_1)\n",
    "    \n",
    "res_types = [x/y for x ,y in zip(list_of_corr_x_types, list_of_corr_y_types)]\n",
    "dict_types = {}\n",
    "for type , result in zip(types['type'].to_list(), res_types):\n",
    "    if math.isinf(result):\n",
    "        dict_types[type] = -1 #man\n",
    "    elif result == 0: \n",
    "        dict_types[type] = 1 #woman\n",
    "    else:\n",
    "        if result > 2:\n",
    "            dict_types[type] = -1\n",
    "        elif result < 0.4:\n",
    "            dict_types[type] = 1\n",
    "        else:\n",
    "            dict_types[type] = 0"
   ]
  },
  {
   "cell_type": "code",
   "execution_count": 48,
   "metadata": {
    "datalore": {
     "hide_input_from_viewers": false,
     "hide_output_from_viewers": false,
     "type": "CODE"
    }
   },
   "outputs": [
    {
     "data": {
      "text/plain": [
       "[(0.0, 0.01), (0.0, 0.01)]"
      ]
     },
     "execution_count": 48,
     "metadata": {},
     "output_type": "execute_result"
    },
    {
     "data": {
      "image/png": "[encoded data removed]",
      "text/plain": [
       "<Figure size 720x720 with 1 Axes>"
      ]
     },
     "metadata": {},
     "output_type": "display_data"
    }
   ],
   "source": [
    "# graph represents relation of each point to axes, where axes are targets according to types\n",
    "plt.rcParams[\"figure.figsize\"] = (10,10)\n",
    "sns.scatterplot(x=list_of_corr_x_types, y=list_of_corr_y_types).set(xlim=(0, 0.01), ylim=(0,0.01))"
   ]
  },
  {
   "cell_type": "markdown",
   "metadata": {
    "datalore": {
     "hide_input_from_viewers": false,
     "hide_output_from_viewers": false,
     "type": "MD"
    }
   },
   "source": [
    "#### Conclusion: We will use the above data in Feature Engineering to try to determine the gender based on the code and type of transactions."
   ]
  },
  {
   "cell_type": "markdown",
   "metadata": {
    "datalore": {
     "hide_input_from_viewers": false,
     "hide_output_from_viewers": false,
     "type": "MD"
    }
   },
   "source": [
    "# 4. Feature engineering"
   ]
  },
  {
   "cell_type": "markdown",
   "metadata": {
    "datalore": {
     "hide_input_from_viewers": false,
     "hide_output_from_viewers": false,
     "type": "MD"
    }
   },
   "source": [
    "## 4.1 Data to classification"
   ]
  },
  {
   "cell_type": "code",
   "execution_count": 49,
   "metadata": {
    "datalore": {
     "hide_input_from_viewers": false,
     "hide_output_from_viewers": false,
     "type": "CODE"
    }
   },
   "outputs": [],
   "source": [
    "data_to_classification = data.copy()\n",
    "#data_to_classification = data_to_classification.drop(['target'], axis=1)\n",
    "data_to_classification['code'] = data_to_classification['code'].apply(lambda x: codes_merged.get(x))\n",
    "data_to_classification['type'] = data_to_classification['type'].apply(lambda x: types_merged.get(x))\n",
    "data_to_classification['avg_trans'] = data_to_classification['sum'].apply(lambda x: abs(x))\n",
    "data_to_classification['codetype'] = data_to_classification['code'].add(data_to_classification['type'])\n",
    "\n",
    "data_to_classification['n_trans'] = 1\n",
    "data_to_classification = data_to_classification.groupby('client_id').aggregate({ 'sum' : 'mean', 'codetype':'mean',\n",
    "                                                                                 'type':'mean', 'code':'mean',\n",
    "                                                                                'n_trans' : 'sum', 'target': 'max',\n",
    "                                                                               'avg_trans':'mean'})\n",
    "\n",
    "rfmData = data.copy()\n",
    "rfmData.drop_duplicates(inplace = True)\n",
    "rfmData[['day', 'datetime']] = rfmData['datetime'].str.split(' ', 1, expand=True)\n",
    "rfmData2 = rfmData.copy()\n",
    "rfmData2['monetary'] = rfmData2['sum'].apply(lambda x: float(abs(x)))\n",
    "groupedRfm = rfmData2.groupby('client_id').sum().drop(['code', 'type', 'target', 'sum'], axis = 1)\n",
    "groupedRfm['recency'] = rfmData2.groupby('client_id').max()['day'].apply(lambda x: 457 - int(x)).to_list()\n",
    "groupedRfm['frequency'] = rfmData2.groupby('client_id').count()['day'].to_list()\n",
    "\n",
    "groupedRfm[\"recencyScore\"] = pd.cut(groupedRfm[\"recency\"],\n",
    "                                       bins=[0, \n",
    "                                         np.percentile(groupedRfm[\"recency\"], 25), \n",
    "                                             np.percentile(groupedRfm[\"recency\"], 50), \n",
    "                                             np.percentile(groupedRfm[\"recency\"], 75), \n",
    "                                             groupedRfm[\"recency\"].max()], \n",
    "                                       labels=[4, 3, 2, 1]).astype(\"int\")\n",
    "groupedRfm[\"frequencyScore\"] = pd.cut(groupedRfm[\"frequency\"], \n",
    "                                       bins=[0, \n",
    "                                         np.percentile(groupedRfm[\"frequency\"], 25), \n",
    "                                             np.percentile(groupedRfm[\"frequency\"], 50), \n",
    "                                             np.percentile(groupedRfm[\"frequency\"], 75), \n",
    "                                             groupedRfm[\"frequency\"].max()], \n",
    "                                       labels=[1, 2, 3, 4]).astype(\"int\")\n",
    "groupedRfm[\"monetaryScore\"] = pd.cut(groupedRfm[\"monetary\"], \n",
    "                                       bins=[0, \n",
    "                                         np.percentile(groupedRfm[\"monetary\"], 25), \n",
    "                                             np.percentile(groupedRfm[\"monetary\"], 50), \n",
    "                                             np.percentile(groupedRfm[\"monetary\"], 75), \n",
    "                                             groupedRfm[\"monetary\"].max()], \n",
    "                                       labels=[1, 2, 3, 4]).astype(\"int\")\n",
    "groupedRfm['rfmScore'] = groupedRfm[\"monetaryScore\"] + groupedRfm[\"recencyScore\"] + groupedRfm[\"frequencyScore\"]\n",
    "\n",
    "data_to_classification = data_to_classification.join(groupedRfm[['rfmScore', 'monetaryScore']])"
   ]
  },
  {
   "cell_type": "code",
   "execution_count": 50,
   "metadata": {
    "datalore": {
     "hide_input_from_viewers": false,
     "hide_output_from_viewers": false,
     "type": "CODE"
    }
   },
   "outputs": [
    {
     "data": {
      "text/html": [
       "<div>\n",
       "<style scoped>\n",
       "    .dataframe tbody tr th:only-of-type {\n",
       "        vertical-align: middle;\n",
       "    }\n",
       "\n",
       "    .dataframe tbody tr th {\n",
       "        vertical-align: top;\n",
       "    }\n",
       "\n",
       "    .dataframe thead th {\n",
       "        text-align: right;\n",
       "    }\n",
       "</style>\n",
       "<table border=\"1\" class=\"dataframe\">\n",
       "  <thead>\n",
       "    <tr style=\"text-align: right;\">\n",
       "      <th></th>\n",
       "      <th>sum</th>\n",
       "      <th>codetype</th>\n",
       "      <th>type</th>\n",
       "      <th>code</th>\n",
       "      <th>n_trans</th>\n",
       "      <th>target</th>\n",
       "      <th>avg_trans</th>\n",
       "      <th>rfmScore</th>\n",
       "      <th>monetaryScore</th>\n",
       "    </tr>\n",
       "    <tr>\n",
       "      <th>client_id</th>\n",
       "      <th></th>\n",
       "      <th></th>\n",
       "      <th></th>\n",
       "      <th></th>\n",
       "      <th></th>\n",
       "      <th></th>\n",
       "      <th></th>\n",
       "      <th></th>\n",
       "      <th></th>\n",
       "    </tr>\n",
       "  </thead>\n",
       "  <tbody>\n",
       "    <tr>\n",
       "      <th>22899</th>\n",
       "      <td>5649.726667</td>\n",
       "      <td>-0.382978</td>\n",
       "      <td>-0.069789</td>\n",
       "      <td>-0.313189</td>\n",
       "      <td>9</td>\n",
       "      <td>1</td>\n",
       "      <td>13315.786667</td>\n",
       "      <td>4</td>\n",
       "      <td>1</td>\n",
       "    </tr>\n",
       "    <tr>\n",
       "      <th>27914</th>\n",
       "      <td>18528.802500</td>\n",
       "      <td>3.050475</td>\n",
       "      <td>1.826725</td>\n",
       "      <td>1.223750</td>\n",
       "      <td>4</td>\n",
       "      <td>1</td>\n",
       "      <td>20774.722500</td>\n",
       "      <td>5</td>\n",
       "      <td>1</td>\n",
       "    </tr>\n",
       "    <tr>\n",
       "      <th>28753</th>\n",
       "      <td>-199215.406923</td>\n",
       "      <td>0.943738</td>\n",
       "      <td>-0.072192</td>\n",
       "      <td>1.015931</td>\n",
       "      <td>13</td>\n",
       "      <td>0</td>\n",
       "      <td>302873.057692</td>\n",
       "      <td>9</td>\n",
       "      <td>4</td>\n",
       "    </tr>\n",
       "    <tr>\n",
       "      <th>38084</th>\n",
       "      <td>26672.910000</td>\n",
       "      <td>0.829392</td>\n",
       "      <td>0.104604</td>\n",
       "      <td>0.724788</td>\n",
       "      <td>26</td>\n",
       "      <td>0</td>\n",
       "      <td>108082.036923</td>\n",
       "      <td>10</td>\n",
       "      <td>4</td>\n",
       "    </tr>\n",
       "    <tr>\n",
       "      <th>49793</th>\n",
       "      <td>-65829.236667</td>\n",
       "      <td>1.218857</td>\n",
       "      <td>0.201510</td>\n",
       "      <td>1.017348</td>\n",
       "      <td>21</td>\n",
       "      <td>1</td>\n",
       "      <td>68395.997619</td>\n",
       "      <td>10</td>\n",
       "      <td>4</td>\n",
       "    </tr>\n",
       "    <tr>\n",
       "      <th>...</th>\n",
       "      <td>...</td>\n",
       "      <td>...</td>\n",
       "      <td>...</td>\n",
       "      <td>...</td>\n",
       "      <td>...</td>\n",
       "      <td>...</td>\n",
       "      <td>...</td>\n",
       "      <td>...</td>\n",
       "      <td>...</td>\n",
       "    </tr>\n",
       "    <tr>\n",
       "      <th>99900908</th>\n",
       "      <td>-14410.426000</td>\n",
       "      <td>-1.247660</td>\n",
       "      <td>-1.377820</td>\n",
       "      <td>0.130160</td>\n",
       "      <td>5</td>\n",
       "      <td>0</td>\n",
       "      <td>14410.426000</td>\n",
       "      <td>5</td>\n",
       "      <td>1</td>\n",
       "    </tr>\n",
       "    <tr>\n",
       "      <th>99911226</th>\n",
       "      <td>-55632.494167</td>\n",
       "      <td>-0.171292</td>\n",
       "      <td>-0.719275</td>\n",
       "      <td>0.547983</td>\n",
       "      <td>12</td>\n",
       "      <td>0</td>\n",
       "      <td>55632.494167</td>\n",
       "      <td>9</td>\n",
       "      <td>3</td>\n",
       "    </tr>\n",
       "    <tr>\n",
       "      <th>99967537</th>\n",
       "      <td>-336887.370000</td>\n",
       "      <td>-0.132700</td>\n",
       "      <td>-0.019900</td>\n",
       "      <td>-0.112800</td>\n",
       "      <td>1</td>\n",
       "      <td>1</td>\n",
       "      <td>336887.370000</td>\n",
       "      <td>6</td>\n",
       "      <td>2</td>\n",
       "    </tr>\n",
       "    <tr>\n",
       "      <th>99985917</th>\n",
       "      <td>-224591.580000</td>\n",
       "      <td>-0.132700</td>\n",
       "      <td>-0.019900</td>\n",
       "      <td>-0.112800</td>\n",
       "      <td>1</td>\n",
       "      <td>0</td>\n",
       "      <td>224591.580000</td>\n",
       "      <td>4</td>\n",
       "      <td>2</td>\n",
       "    </tr>\n",
       "    <tr>\n",
       "      <th>99991245</th>\n",
       "      <td>142402.290000</td>\n",
       "      <td>0.009675</td>\n",
       "      <td>-0.223525</td>\n",
       "      <td>0.233200</td>\n",
       "      <td>4</td>\n",
       "      <td>1</td>\n",
       "      <td>184378.455000</td>\n",
       "      <td>7</td>\n",
       "      <td>3</td>\n",
       "    </tr>\n",
       "  </tbody>\n",
       "</table>\n",
       "<p>6000 rows × 9 columns</p>\n",
       "</div>"
      ],
      "text/plain": [
       "                     sum  codetype      type      code  n_trans  target  \\\n",
       "client_id                                                                 \n",
       "22899        5649.726667 -0.382978 -0.069789 -0.313189        9       1   \n",
       "27914       18528.802500  3.050475  1.826725  1.223750        4       1   \n",
       "28753     -199215.406923  0.943738 -0.072192  1.015931       13       0   \n",
       "38084       26672.910000  0.829392  0.104604  0.724788       26       0   \n",
       "49793      -65829.236667  1.218857  0.201510  1.017348       21       1   \n",
       "...                  ...       ...       ...       ...      ...     ...   \n",
       "99900908   -14410.426000 -1.247660 -1.377820  0.130160        5       0   \n",
       "99911226   -55632.494167 -0.171292 -0.719275  0.547983       12       0   \n",
       "99967537  -336887.370000 -0.132700 -0.019900 -0.112800        1       1   \n",
       "99985917  -224591.580000 -0.132700 -0.019900 -0.112800        1       0   \n",
       "99991245   142402.290000  0.009675 -0.223525  0.233200        4       1   \n",
       "\n",
       "               avg_trans  rfmScore  monetaryScore  \n",
       "client_id                                          \n",
       "22899       13315.786667         4              1  \n",
       "27914       20774.722500         5              1  \n",
       "28753      302873.057692         9              4  \n",
       "38084      108082.036923        10              4  \n",
       "49793       68395.997619        10              4  \n",
       "...                  ...       ...            ...  \n",
       "99900908    14410.426000         5              1  \n",
       "99911226    55632.494167         9              3  \n",
       "99967537   336887.370000         6              2  \n",
       "99985917   224591.580000         4              2  \n",
       "99991245   184378.455000         7              3  \n",
       "\n",
       "[6000 rows x 9 columns]"
      ]
     },
     "execution_count": 50,
     "metadata": {},
     "output_type": "execute_result"
    }
   ],
   "source": [
    "data_to_classification"
   ]
  },
  {
   "cell_type": "markdown",
   "metadata": {
    "datalore": {
     "hide_input_from_viewers": false,
     "hide_output_from_viewers": false,
     "type": "MD"
    }
   },
   "source": [
    "## 4.2 Data to classification scaled"
   ]
  },
  {
   "cell_type": "code",
   "execution_count": 51,
   "metadata": {
    "datalore": {
     "hide_input_from_viewers": false,
     "hide_output_from_viewers": false,
     "type": "CODE"
    }
   },
   "outputs": [],
   "source": [
    "from sklearn import preprocessing\n",
    "data_to_classification_scaled = data_to_classification.copy()\n",
    "data_to_classification_scaled['sum'] = preprocessing.StandardScaler().fit(data_to_classification['sum'].to_numpy().reshape(-1, 1)).transform(data_to_classification['sum'].to_numpy().reshape(-1, 1))\n",
    "data_to_classification_scaled['avg_trans'] = preprocessing.StandardScaler().fit(data_to_classification['avg_trans'].to_numpy().reshape(-1, 1)).transform(data_to_classification['avg_trans'].to_numpy().reshape(-1, 1))\n",
    "data_to_classification_scaled['n_trans'] = preprocessing.StandardScaler().fit(data_to_classification['n_trans'].to_numpy().reshape(-1, 1)).transform(data_to_classification['n_trans'].to_numpy().reshape(-1, 1))\n",
    "data_to_classification_scaled['rfmScore'] = preprocessing.StandardScaler().fit(data_to_classification['rfmScore'].to_numpy().reshape(-1, 1)).transform(data_to_classification['rfmScore'].to_numpy().reshape(-1, 1))\n",
    "data_to_classification_scaled['monetaryScore'] = preprocessing.StandardScaler().fit(data_to_classification['monetaryScore'].to_numpy().reshape(-1, 1)).transform(data_to_classification['monetaryScore'].to_numpy().reshape(-1, 1))"
   ]
  },
  {
   "cell_type": "code",
   "execution_count": 52,
   "metadata": {},
   "outputs": [
    {
     "data": {
      "text/html": [
       "<div>\n",
       "<style scoped>\n",
       "    .dataframe tbody tr th:only-of-type {\n",
       "        vertical-align: middle;\n",
       "    }\n",
       "\n",
       "    .dataframe tbody tr th {\n",
       "        vertical-align: top;\n",
       "    }\n",
       "\n",
       "    .dataframe thead th {\n",
       "        text-align: right;\n",
       "    }\n",
       "</style>\n",
       "<table border=\"1\" class=\"dataframe\">\n",
       "  <thead>\n",
       "    <tr style=\"text-align: right;\">\n",
       "      <th></th>\n",
       "      <th>sum</th>\n",
       "      <th>codetype</th>\n",
       "      <th>type</th>\n",
       "      <th>code</th>\n",
       "      <th>n_trans</th>\n",
       "      <th>target</th>\n",
       "      <th>avg_trans</th>\n",
       "      <th>rfmScore</th>\n",
       "      <th>monetaryScore</th>\n",
       "    </tr>\n",
       "    <tr>\n",
       "      <th>client_id</th>\n",
       "      <th></th>\n",
       "      <th></th>\n",
       "      <th></th>\n",
       "      <th></th>\n",
       "      <th></th>\n",
       "      <th></th>\n",
       "      <th></th>\n",
       "      <th></th>\n",
       "      <th></th>\n",
       "    </tr>\n",
       "  </thead>\n",
       "  <tbody>\n",
       "    <tr>\n",
       "      <th>22899</th>\n",
       "      <td>0.276787</td>\n",
       "      <td>-0.382978</td>\n",
       "      <td>-0.069789</td>\n",
       "      <td>-0.313189</td>\n",
       "      <td>-0.150982</td>\n",
       "      <td>1</td>\n",
       "      <td>-0.303329</td>\n",
       "      <td>-1.687562</td>\n",
       "      <td>-1.341641</td>\n",
       "    </tr>\n",
       "    <tr>\n",
       "      <th>27914</th>\n",
       "      <td>0.377899</td>\n",
       "      <td>3.050475</td>\n",
       "      <td>1.826725</td>\n",
       "      <td>1.223750</td>\n",
       "      <td>-0.271047</td>\n",
       "      <td>1</td>\n",
       "      <td>-0.269117</td>\n",
       "      <td>-1.197063</td>\n",
       "      <td>-1.341641</td>\n",
       "    </tr>\n",
       "    <tr>\n",
       "      <th>28753</th>\n",
       "      <td>-1.331596</td>\n",
       "      <td>0.943738</td>\n",
       "      <td>-0.072192</td>\n",
       "      <td>1.015931</td>\n",
       "      <td>-0.054930</td>\n",
       "      <td>0</td>\n",
       "      <td>1.024804</td>\n",
       "      <td>0.764933</td>\n",
       "      <td>1.341641</td>\n",
       "    </tr>\n",
       "    <tr>\n",
       "      <th>38084</th>\n",
       "      <td>0.441838</td>\n",
       "      <td>0.829392</td>\n",
       "      <td>0.104604</td>\n",
       "      <td>0.724788</td>\n",
       "      <td>0.257239</td>\n",
       "      <td>0</td>\n",
       "      <td>0.131342</td>\n",
       "      <td>1.255432</td>\n",
       "      <td>1.341641</td>\n",
       "    </tr>\n",
       "    <tr>\n",
       "      <th>49793</th>\n",
       "      <td>-0.284390</td>\n",
       "      <td>1.218857</td>\n",
       "      <td>0.201510</td>\n",
       "      <td>1.017348</td>\n",
       "      <td>0.137174</td>\n",
       "      <td>1</td>\n",
       "      <td>-0.050689</td>\n",
       "      <td>1.255432</td>\n",
       "      <td>1.341641</td>\n",
       "    </tr>\n",
       "  </tbody>\n",
       "</table>\n",
       "</div>"
      ],
      "text/plain": [
       "                sum  codetype      type      code   n_trans  target  \\\n",
       "client_id                                                             \n",
       "22899      0.276787 -0.382978 -0.069789 -0.313189 -0.150982       1   \n",
       "27914      0.377899  3.050475  1.826725  1.223750 -0.271047       1   \n",
       "28753     -1.331596  0.943738 -0.072192  1.015931 -0.054930       0   \n",
       "38084      0.441838  0.829392  0.104604  0.724788  0.257239       0   \n",
       "49793     -0.284390  1.218857  0.201510  1.017348  0.137174       1   \n",
       "\n",
       "           avg_trans  rfmScore  monetaryScore  \n",
       "client_id                                      \n",
       "22899      -0.303329 -1.687562      -1.341641  \n",
       "27914      -0.269117 -1.197063      -1.341641  \n",
       "28753       1.024804  0.764933       1.341641  \n",
       "38084       0.131342  1.255432       1.341641  \n",
       "49793      -0.050689  1.255432       1.341641  "
      ]
     },
     "execution_count": 52,
     "metadata": {},
     "output_type": "execute_result"
    }
   ],
   "source": [
    "data_to_classification_scaled.head()"
   ]
  },
  {
   "cell_type": "markdown",
   "metadata": {
    "datalore": {
     "hide_input_from_viewers": false,
     "hide_output_from_viewers": false,
     "type": "MD"
    }
   },
   "source": [
    "## 4.3 Data_exp_grouped"
   ]
  },
  {
   "cell_type": "code",
   "execution_count": 53,
   "metadata": {
    "datalore": {
     "hide_input_from_viewers": false,
     "hide_output_from_viewers": false,
     "type": "CODE"
    }
   },
   "outputs": [],
   "source": [
    "data_exp = data.copy()\n",
    "data_exp = data_exp.drop(['datetime', 'sum'], axis=1)"
   ]
  },
  {
   "cell_type": "code",
   "execution_count": 54,
   "metadata": {
    "datalore": {
     "hide_input_from_viewers": false,
     "hide_output_from_viewers": false,
     "type": "CODE"
    }
   },
   "outputs": [],
   "source": [
    "data_exp['codes_man'] = data_exp['code'].apply(lambda x: 1 if dict_codes.get(x) == -1 else 0)\n",
    "data_exp['codes_undef'] = data_exp['code'].apply(lambda x: 1 if dict_codes.get(x) == 0 else 0)\n",
    "data_exp['codes_woman'] = data_exp['code'].apply(lambda x: 1 if dict_codes.get(x) == 1 else 0)\n",
    "\n",
    "data_exp['types_man'] = data_exp['type'].apply(lambda x: 1 if dict_types.get(x) == -1 else 0)\n",
    "data_exp['types_undef'] = data_exp['type'].apply(lambda x: 1 if dict_types.get(x) == 0 else 0)\n",
    "data_exp['types_woman'] = data_exp['type'].apply(lambda x: 1 if dict_types.get(x) == 1 else 0)"
   ]
  },
  {
   "cell_type": "code",
   "execution_count": 55,
   "metadata": {
    "datalore": {
     "hide_input_from_viewers": false,
     "hide_output_from_viewers": false,
     "type": "CODE"
    }
   },
   "outputs": [],
   "source": [
    "data_exp_grouped = data_exp.groupby('client_id').agg({'target':'max', 'codes_man':'sum', 'codes_undef':'sum', 'codes_woman':'sum',\n",
    "                                                     'types_man':'sum', 'types_undef':'sum', 'types_woman':'sum'})"
   ]
  },
  {
   "cell_type": "code",
   "execution_count": 56,
   "metadata": {
    "datalore": {
     "hide_input_from_viewers": false,
     "hide_output_from_viewers": false,
     "type": "CODE"
    }
   },
   "outputs": [],
   "source": [
    "predicted_codes = []\n",
    "for row in data_exp_grouped.iterrows():\n",
    "    if row[1][2] > row[1][3] and row[1][2] > row[1][1]:\n",
    "        predicted_codes.append(0.5)\n",
    "        continue\n",
    "    \n",
    "    if row[1][3] > row[1][1]:\n",
    "        predicted_codes.append(1)\n",
    "    elif row[1][3] < row[1][1]:\n",
    "        predicted_codes.append(0)\n",
    "    else:\n",
    "        predicted_codes.append(0.5)\n",
    "\n",
    "predicted_types = []\n",
    "for row in data_exp_grouped.iterrows():\n",
    "    if row[1][5] > row[1][6] and row[1][5] > row[1][4]:\n",
    "        predicted_types.append(0.5)\n",
    "        continue\n",
    "    \n",
    "    if row[1][6] > row[1][4]:\n",
    "        predicted_types.append(1)\n",
    "    elif row[1][6] < row[1][4]:\n",
    "        predicted_types.append(0)\n",
    "    else:\n",
    "        predicted_types.append(0.5)\n",
    "\n",
    "data_exp_grouped['res_codes'] = predicted_codes\n",
    "data_exp_grouped['res_types'] = predicted_types"
   ]
  },
  {
   "cell_type": "code",
   "execution_count": 57,
   "metadata": {},
   "outputs": [
    {
     "data": {
      "text/html": [
       "<div>\n",
       "<style scoped>\n",
       "    .dataframe tbody tr th:only-of-type {\n",
       "        vertical-align: middle;\n",
       "    }\n",
       "\n",
       "    .dataframe tbody tr th {\n",
       "        vertical-align: top;\n",
       "    }\n",
       "\n",
       "    .dataframe thead th {\n",
       "        text-align: right;\n",
       "    }\n",
       "</style>\n",
       "<table border=\"1\" class=\"dataframe\">\n",
       "  <thead>\n",
       "    <tr style=\"text-align: right;\">\n",
       "      <th></th>\n",
       "      <th>target</th>\n",
       "      <th>codes_man</th>\n",
       "      <th>codes_undef</th>\n",
       "      <th>codes_woman</th>\n",
       "      <th>types_man</th>\n",
       "      <th>types_undef</th>\n",
       "      <th>types_woman</th>\n",
       "      <th>res_codes</th>\n",
       "      <th>res_types</th>\n",
       "    </tr>\n",
       "    <tr>\n",
       "      <th>client_id</th>\n",
       "      <th></th>\n",
       "      <th></th>\n",
       "      <th></th>\n",
       "      <th></th>\n",
       "      <th></th>\n",
       "      <th></th>\n",
       "      <th></th>\n",
       "      <th></th>\n",
       "      <th></th>\n",
       "    </tr>\n",
       "  </thead>\n",
       "  <tbody>\n",
       "    <tr>\n",
       "      <th>22899</th>\n",
       "      <td>1</td>\n",
       "      <td>0</td>\n",
       "      <td>3</td>\n",
       "      <td>6</td>\n",
       "      <td>0</td>\n",
       "      <td>1</td>\n",
       "      <td>1</td>\n",
       "      <td>1.0</td>\n",
       "      <td>1.0</td>\n",
       "    </tr>\n",
       "    <tr>\n",
       "      <th>27914</th>\n",
       "      <td>1</td>\n",
       "      <td>0</td>\n",
       "      <td>3</td>\n",
       "      <td>1</td>\n",
       "      <td>0</td>\n",
       "      <td>1</td>\n",
       "      <td>2</td>\n",
       "      <td>0.5</td>\n",
       "      <td>1.0</td>\n",
       "    </tr>\n",
       "    <tr>\n",
       "      <th>28753</th>\n",
       "      <td>0</td>\n",
       "      <td>2</td>\n",
       "      <td>8</td>\n",
       "      <td>2</td>\n",
       "      <td>0</td>\n",
       "      <td>3</td>\n",
       "      <td>3</td>\n",
       "      <td>0.5</td>\n",
       "      <td>1.0</td>\n",
       "    </tr>\n",
       "    <tr>\n",
       "      <th>38084</th>\n",
       "      <td>0</td>\n",
       "      <td>0</td>\n",
       "      <td>17</td>\n",
       "      <td>9</td>\n",
       "      <td>0</td>\n",
       "      <td>11</td>\n",
       "      <td>6</td>\n",
       "      <td>0.5</td>\n",
       "      <td>0.5</td>\n",
       "    </tr>\n",
       "    <tr>\n",
       "      <th>49793</th>\n",
       "      <td>1</td>\n",
       "      <td>0</td>\n",
       "      <td>7</td>\n",
       "      <td>14</td>\n",
       "      <td>0</td>\n",
       "      <td>2</td>\n",
       "      <td>6</td>\n",
       "      <td>1.0</td>\n",
       "      <td>1.0</td>\n",
       "    </tr>\n",
       "  </tbody>\n",
       "</table>\n",
       "</div>"
      ],
      "text/plain": [
       "           target  codes_man  codes_undef  codes_woman  types_man  \\\n",
       "client_id                                                           \n",
       "22899           1          0            3            6          0   \n",
       "27914           1          0            3            1          0   \n",
       "28753           0          2            8            2          0   \n",
       "38084           0          0           17            9          0   \n",
       "49793           1          0            7           14          0   \n",
       "\n",
       "           types_undef  types_woman  res_codes  res_types  \n",
       "client_id                                                  \n",
       "22899                1            1        1.0        1.0  \n",
       "27914                1            2        0.5        1.0  \n",
       "28753                3            3        0.5        1.0  \n",
       "38084               11            6        0.5        0.5  \n",
       "49793                2            6        1.0        1.0  "
      ]
     },
     "execution_count": 57,
     "metadata": {},
     "output_type": "execute_result"
    }
   ],
   "source": [
    "data_exp_grouped.head()"
   ]
  },
  {
   "cell_type": "markdown",
   "metadata": {},
   "source": [
    "target - gender \n",
    " \n",
    "codes_man - number of transactions for male(code). \n",
    " \n",
    "codes_woman - number of transactions for female(code). \n",
    " \n",
    "codes_undefined - number of transactions of undefined(code). \n",
    " \n",
    "types_man - number of transactions for male(type). \n",
    " \n",
    "types_woman - number of transactions for female(type). \n",
    " \n",
    "types_undefined - number of transactions of undefined(types). \n",
    " \n",
    "res_codes - result of transactions either male or female codes \n",
    " \n",
    "res_types - result of transactions either male or female types"
   ]
  },
  {
   "cell_type": "markdown",
   "metadata": {
    "datalore": {
     "hide_input_from_viewers": false,
     "hide_output_from_viewers": false,
     "type": "MD"
    }
   },
   "source": [
    "## 4.4 Trying to predict gender according to transaction codes/types"
   ]
  },
  {
   "cell_type": "code",
   "execution_count": 58,
   "metadata": {
    "datalore": {
     "hide_input_from_viewers": false,
     "hide_output_from_viewers": false,
     "type": "CODE"
    }
   },
   "outputs": [
    {
     "data": {
      "text/plain": [
       "0.5185537583254044"
      ]
     },
     "execution_count": 58,
     "metadata": {},
     "output_type": "execute_result"
    }
   ],
   "source": [
    "data_exp_grouped_only_strong = data_exp_grouped[(data_exp_grouped['res_codes'] != 0.5) & (data_exp_grouped['res_types'] != 0.5) & (data_exp_grouped['res_codes'] == data_exp_grouped['res_types'])]\n",
    "sum(data_exp_grouped_only_strong['target'] == data_exp_grouped_only_strong['res_codes']) / len(data_exp_grouped_only_strong)"
   ]
  },
  {
   "cell_type": "markdown",
   "metadata": {},
   "source": [
    "**The result is approximately 0.52 which allows us to conclude that value is small to talk about the appearance of correlation. Answer could be biased**"
   ]
  },
  {
   "cell_type": "markdown",
   "metadata": {
    "datalore": {
     "hide_input_from_viewers": false,
     "hide_output_from_viewers": false,
     "type": "MD"
    }
   },
   "source": [
    "## 4.5 Data_c (combined)"
   ]
  },
  {
   "cell_type": "code",
   "execution_count": 59,
   "metadata": {
    "datalore": {
     "hide_input_from_viewers": false,
     "hide_output_from_viewers": false,
     "type": "CODE"
    }
   },
   "outputs": [],
   "source": [
    "# assigning additional features\n",
    "data_c = data.groupby('client_id') \\\n",
    "                    .apply(lambda x: x[['code']].unstack().value_counts()) \\\n",
    "                    .unstack() \\\n",
    "                    .fillna(0)"
   ]
  },
  {
   "cell_type": "code",
   "execution_count": 60,
   "metadata": {
    "datalore": {
     "hide_input_from_viewers": false,
     "hide_output_from_viewers": false,
     "type": "CODE"
    }
   },
   "outputs": [],
   "source": [
    "# combining previous datasets\n",
    "data_c = data_c.join(data_exp_grouped.drop('target', axis=1))\n",
    "data_c = data_c.join(data.groupby('client_id').agg({'sum':'mean'}))\n",
    "data_c = data_c.join(data_to_classification.drop(['sum'], axis=1))"
   ]
  },
  {
   "cell_type": "code",
   "execution_count": 61,
   "metadata": {},
   "outputs": [
    {
     "data": {
      "text/html": [
       "<div>\n",
       "<style scoped>\n",
       "    .dataframe tbody tr th:only-of-type {\n",
       "        vertical-align: middle;\n",
       "    }\n",
       "\n",
       "    .dataframe tbody tr th {\n",
       "        vertical-align: top;\n",
       "    }\n",
       "\n",
       "    .dataframe thead th {\n",
       "        text-align: right;\n",
       "    }\n",
       "</style>\n",
       "<table border=\"1\" class=\"dataframe\">\n",
       "  <thead>\n",
       "    <tr style=\"text-align: right;\">\n",
       "      <th></th>\n",
       "      <th>742</th>\n",
       "      <th>1711</th>\n",
       "      <th>1799</th>\n",
       "      <th>3000</th>\n",
       "      <th>3351</th>\n",
       "      <th>3501</th>\n",
       "      <th>4111</th>\n",
       "      <th>4112</th>\n",
       "      <th>4121</th>\n",
       "      <th>4131</th>\n",
       "      <th>...</th>\n",
       "      <th>res_types</th>\n",
       "      <th>sum</th>\n",
       "      <th>codetype</th>\n",
       "      <th>type</th>\n",
       "      <th>code</th>\n",
       "      <th>n_trans</th>\n",
       "      <th>target</th>\n",
       "      <th>avg_trans</th>\n",
       "      <th>rfmScore</th>\n",
       "      <th>monetaryScore</th>\n",
       "    </tr>\n",
       "    <tr>\n",
       "      <th>client_id</th>\n",
       "      <th></th>\n",
       "      <th></th>\n",
       "      <th></th>\n",
       "      <th></th>\n",
       "      <th></th>\n",
       "      <th></th>\n",
       "      <th></th>\n",
       "      <th></th>\n",
       "      <th></th>\n",
       "      <th></th>\n",
       "      <th></th>\n",
       "      <th></th>\n",
       "      <th></th>\n",
       "      <th></th>\n",
       "      <th></th>\n",
       "      <th></th>\n",
       "      <th></th>\n",
       "      <th></th>\n",
       "      <th></th>\n",
       "      <th></th>\n",
       "      <th></th>\n",
       "    </tr>\n",
       "  </thead>\n",
       "  <tbody>\n",
       "    <tr>\n",
       "      <th>22899</th>\n",
       "      <td>0.0</td>\n",
       "      <td>0.0</td>\n",
       "      <td>0.0</td>\n",
       "      <td>0.0</td>\n",
       "      <td>0.0</td>\n",
       "      <td>0.0</td>\n",
       "      <td>0.0</td>\n",
       "      <td>0.0</td>\n",
       "      <td>0.0</td>\n",
       "      <td>0.0</td>\n",
       "      <td>...</td>\n",
       "      <td>1.0</td>\n",
       "      <td>5649.726667</td>\n",
       "      <td>-0.382978</td>\n",
       "      <td>-0.069789</td>\n",
       "      <td>-0.313189</td>\n",
       "      <td>9</td>\n",
       "      <td>1</td>\n",
       "      <td>13315.786667</td>\n",
       "      <td>4</td>\n",
       "      <td>1</td>\n",
       "    </tr>\n",
       "    <tr>\n",
       "      <th>27914</th>\n",
       "      <td>0.0</td>\n",
       "      <td>0.0</td>\n",
       "      <td>0.0</td>\n",
       "      <td>0.0</td>\n",
       "      <td>0.0</td>\n",
       "      <td>0.0</td>\n",
       "      <td>0.0</td>\n",
       "      <td>0.0</td>\n",
       "      <td>0.0</td>\n",
       "      <td>0.0</td>\n",
       "      <td>...</td>\n",
       "      <td>1.0</td>\n",
       "      <td>18528.802500</td>\n",
       "      <td>3.050475</td>\n",
       "      <td>1.826725</td>\n",
       "      <td>1.223750</td>\n",
       "      <td>4</td>\n",
       "      <td>1</td>\n",
       "      <td>20774.722500</td>\n",
       "      <td>5</td>\n",
       "      <td>1</td>\n",
       "    </tr>\n",
       "    <tr>\n",
       "      <th>28753</th>\n",
       "      <td>0.0</td>\n",
       "      <td>0.0</td>\n",
       "      <td>0.0</td>\n",
       "      <td>0.0</td>\n",
       "      <td>0.0</td>\n",
       "      <td>0.0</td>\n",
       "      <td>0.0</td>\n",
       "      <td>0.0</td>\n",
       "      <td>0.0</td>\n",
       "      <td>0.0</td>\n",
       "      <td>...</td>\n",
       "      <td>1.0</td>\n",
       "      <td>-199215.406923</td>\n",
       "      <td>0.943738</td>\n",
       "      <td>-0.072192</td>\n",
       "      <td>1.015931</td>\n",
       "      <td>13</td>\n",
       "      <td>0</td>\n",
       "      <td>302873.057692</td>\n",
       "      <td>9</td>\n",
       "      <td>4</td>\n",
       "    </tr>\n",
       "    <tr>\n",
       "      <th>38084</th>\n",
       "      <td>0.0</td>\n",
       "      <td>0.0</td>\n",
       "      <td>0.0</td>\n",
       "      <td>0.0</td>\n",
       "      <td>0.0</td>\n",
       "      <td>0.0</td>\n",
       "      <td>0.0</td>\n",
       "      <td>0.0</td>\n",
       "      <td>0.0</td>\n",
       "      <td>0.0</td>\n",
       "      <td>...</td>\n",
       "      <td>0.5</td>\n",
       "      <td>26672.910000</td>\n",
       "      <td>0.829392</td>\n",
       "      <td>0.104604</td>\n",
       "      <td>0.724788</td>\n",
       "      <td>26</td>\n",
       "      <td>0</td>\n",
       "      <td>108082.036923</td>\n",
       "      <td>10</td>\n",
       "      <td>4</td>\n",
       "    </tr>\n",
       "    <tr>\n",
       "      <th>49793</th>\n",
       "      <td>0.0</td>\n",
       "      <td>0.0</td>\n",
       "      <td>0.0</td>\n",
       "      <td>0.0</td>\n",
       "      <td>0.0</td>\n",
       "      <td>0.0</td>\n",
       "      <td>0.0</td>\n",
       "      <td>0.0</td>\n",
       "      <td>0.0</td>\n",
       "      <td>0.0</td>\n",
       "      <td>...</td>\n",
       "      <td>1.0</td>\n",
       "      <td>-65829.236667</td>\n",
       "      <td>1.218857</td>\n",
       "      <td>0.201510</td>\n",
       "      <td>1.017348</td>\n",
       "      <td>21</td>\n",
       "      <td>1</td>\n",
       "      <td>68395.997619</td>\n",
       "      <td>10</td>\n",
       "      <td>4</td>\n",
       "    </tr>\n",
       "  </tbody>\n",
       "</table>\n",
       "<p>5 rows × 190 columns</p>\n",
       "</div>"
      ],
      "text/plain": [
       "           742  1711  1799  3000  3351  3501  4111  4112  4121  4131  ...  \\\n",
       "client_id                                                             ...   \n",
       "22899      0.0   0.0   0.0   0.0   0.0   0.0   0.0   0.0   0.0   0.0  ...   \n",
       "27914      0.0   0.0   0.0   0.0   0.0   0.0   0.0   0.0   0.0   0.0  ...   \n",
       "28753      0.0   0.0   0.0   0.0   0.0   0.0   0.0   0.0   0.0   0.0  ...   \n",
       "38084      0.0   0.0   0.0   0.0   0.0   0.0   0.0   0.0   0.0   0.0  ...   \n",
       "49793      0.0   0.0   0.0   0.0   0.0   0.0   0.0   0.0   0.0   0.0  ...   \n",
       "\n",
       "           res_types            sum  codetype      type      code  n_trans  \\\n",
       "client_id                                                                    \n",
       "22899            1.0    5649.726667 -0.382978 -0.069789 -0.313189        9   \n",
       "27914            1.0   18528.802500  3.050475  1.826725  1.223750        4   \n",
       "28753            1.0 -199215.406923  0.943738 -0.072192  1.015931       13   \n",
       "38084            0.5   26672.910000  0.829392  0.104604  0.724788       26   \n",
       "49793            1.0  -65829.236667  1.218857  0.201510  1.017348       21   \n",
       "\n",
       "           target      avg_trans  rfmScore  monetaryScore  \n",
       "client_id                                                  \n",
       "22899           1   13315.786667         4              1  \n",
       "27914           1   20774.722500         5              1  \n",
       "28753           0  302873.057692         9              4  \n",
       "38084           0  108082.036923        10              4  \n",
       "49793           1   68395.997619        10              4  \n",
       "\n",
       "[5 rows x 190 columns]"
      ]
     },
     "execution_count": 61,
     "metadata": {},
     "output_type": "execute_result"
    }
   ],
   "source": [
    "data_c.head()"
   ]
  },
  {
   "cell_type": "markdown",
   "metadata": {},
   "source": [
    "data_c: two merged data_frames(data_exp_grouped, Data to classification) with exctra features"
   ]
  },
  {
   "cell_type": "markdown",
   "metadata": {
    "datalore": {
     "hide_input_from_viewers": false,
     "hide_output_from_viewers": false,
     "type": "MD"
    }
   },
   "source": [
    "# 5. Model Selection"
   ]
  },
  {
   "cell_type": "markdown",
   "metadata": {
    "datalore": {
     "hide_input_from_viewers": false,
     "hide_output_from_viewers": false,
     "type": "MD"
    }
   },
   "source": [
    "## Import models & metrics"
   ]
  },
  {
   "cell_type": "code",
   "execution_count": 62,
   "metadata": {
    "datalore": {
     "hide_input_from_viewers": false,
     "hide_output_from_viewers": false,
     "type": "CODE"
    }
   },
   "outputs": [],
   "source": [
    "from sklearn.model_selection import train_test_split\n",
    "from sklearn.metrics import confusion_matrix\n",
    "from sklearn.model_selection import GridSearchCV\n",
    "from sklearn.neighbors import KNeighborsClassifier\n",
    "from sklearn.tree import DecisionTreeClassifier\n",
    "from sklearn.ensemble import RandomForestClassifier, GradientBoostingClassifier, AdaBoostClassifier\n",
    "from sklearn.svm import SVC\n",
    "from sklearn.neural_network import MLPClassifier\n",
    "from sklearn.discriminant_analysis import QuadraticDiscriminantAnalysis\n",
    "from sklearn.naive_bayes import GaussianNB\n",
    "\n",
    "from sklearn.metrics import classification_report\n",
    "from sklearn.metrics import roc_curve, auc"
   ]
  },
  {
   "cell_type": "markdown",
   "metadata": {
    "datalore": {
     "hide_input_from_viewers": false,
     "hide_output_from_viewers": false,
     "type": "MD"
    }
   },
   "source": [
    "## 5.1 Estimate best parameters and accuracy for 10 different models and 3 datasets"
   ]
  },
  {
   "cell_type": "code",
   "execution_count": 63,
   "metadata": {
    "datalore": {
     "hide_input_from_viewers": false,
     "hide_output_from_viewers": false,
     "type": "CODE"
    }
   },
   "outputs": [],
   "source": [
    "def parameter_selector(data, model_name, rturn=False):\n",
    "    \"\"\"\n",
    "    For given data and model name(optional), estimate best parameters and return model(optional, only for unique model)\n",
    "\n",
    "    All models - 'all'\n",
    "    KNeighborsClassifier - 'knn'\n",
    "    DecisionTreeClassifier - 'dtree'\n",
    "    RandomForestClassifier - 'rand_forest'\n",
    "    GradientBoostingClassifier - 'gboost'\n",
    "    AdaBoostClassifier - 'adaboost'\n",
    "    Linear SVM - 'linear_svm'\n",
    "    RBF - 'rbf'\n",
    "    MLPClassifier - 'mlp'\n",
    "    QuadraticDiscriminantAnalysis - 'qda'\n",
    "    GaussianNB - 'gausnb'\n",
    "    \"\"\"\n",
    "\n",
    "\n",
    "    X = data.drop('target', axis=1)\n",
    "    y = data['target']\n",
    "    X_train, X_test, y_train, y_test = train_test_split(X, y, test_size=0.25, random_state=0)\n",
    "    \n",
    "    if model_name == 'all' or model_name == 'knn':\n",
    "        model = KNeighborsClassifier(n_jobs=-1)\n",
    "        params = {\n",
    "            'n_neighbors':[i for i in range(3, 15, 2)],\n",
    "            'metric':['euclidean', 'manhattan', 'chebyshev', 'minkowski', 'cosine']\n",
    "        }\n",
    "        \n",
    "        gsearch = GridSearchCV(estimator = model, \n",
    "        param_grid = params, scoring='roc_auc', n_jobs=4, cv=5)\n",
    "        gsearch.fit(X_train, y_train)\n",
    "        print('knn')\n",
    "        print(gsearch.best_params_)\n",
    "        print(gsearch.best_score_)\n",
    "        print(gsearch.score(X_test, y_test))\n",
    "        print(confusion_matrix(y_test, gsearch.predict(X_test)))\n",
    "        print('-'*60)\n",
    "        if model_name != 'all' and rturn == True:\n",
    "            return gsearch\n",
    "    \n",
    "    if model_name == 'all' or model_name == 'dtree':\n",
    "        model = DecisionTreeClassifier(random_state=42)\n",
    "        params = {\n",
    "            'criterion' : ['gini', 'entropy'],\n",
    "            'max_depth' : [i for i in range(1, 15, 2)]\n",
    "        }\n",
    "        \n",
    "        gsearch = GridSearchCV(estimator = model, \n",
    "        param_grid = params, scoring='roc_auc', n_jobs=4, cv=5)\n",
    "        gsearch.fit(X_train, y_train)\n",
    "        print('dtree')\n",
    "        print(gsearch.best_params_)\n",
    "        print(gsearch.best_score_)\n",
    "        print(gsearch.score(X_test, y_test))\n",
    "        print(confusion_matrix(y_test, gsearch.predict(X_test)))\n",
    "        print('-'*60)\n",
    "        if model_name != 'all' and rturn == True:\n",
    "            return gsearch\n",
    "        \n",
    "    if model_name == 'all' or model_name == 'rand_forest':\n",
    "        model = RandomForestClassifier(random_state=42, n_jobs=-1)\n",
    "        params = {\n",
    "            'n_estimators' : [i for i in range(10, 100, 10)],\n",
    "            'max_depth' : [i for i in range(1, 15, 2)],\n",
    "            'criterion' : ['gini', 'entropy']\n",
    "        }\n",
    "        \n",
    "        gsearch = GridSearchCV(estimator = model, \n",
    "        param_grid = params, scoring='roc_auc', n_jobs=4, cv=5)\n",
    "        gsearch.fit(X_train, y_train)\n",
    "        print('rand_forest')\n",
    "        print(gsearch.best_params_)\n",
    "        print(gsearch.best_score_)\n",
    "        print(gsearch.score(X_test, y_test))\n",
    "        print(confusion_matrix(y_test, gsearch.predict(X_test)))\n",
    "        print('-'*60)\n",
    "        if model_name != 'all' and rturn == True:\n",
    "            return gsearch\n",
    "    \n",
    "    if model_name == 'all' or model_name == 'linear_svm':\n",
    "        model = SVC(kernel='linear', random_state=42)\n",
    "        params = {\n",
    "            'C' : [0.1, 0.5, 1, 2, 5],\n",
    "            'max_iter': [100, 500, 1000, 2000]\n",
    "        }\n",
    "        \n",
    "        gsearch = GridSearchCV(estimator = model, \n",
    "        param_grid = params, scoring='roc_auc', n_jobs=4, cv=5)\n",
    "        gsearch.fit(X_train, y_train)\n",
    "        print('linear_svm')\n",
    "        print(gsearch.best_params_)\n",
    "        print(gsearch.best_score_)\n",
    "        print(gsearch.score(X_test, y_test))\n",
    "        print(confusion_matrix(y_test, gsearch.predict(X_test)))\n",
    "        print('-'*60)\n",
    "        if model_name != 'all' and rturn == True:\n",
    "            return gsearch\n",
    "    \n",
    "    if model_name == 'all' or model_name == 'rbf':\n",
    "        model = SVC(random_state=42)\n",
    "        params = {\n",
    "            'C' : [0.1, 0.5, 1, 2, 5],\n",
    "            'max_iter': [100, 500, 1000, 2000],\n",
    "            'gamma' : [0.1, 0.5, 1, 2]\n",
    "        }\n",
    "        \n",
    "        gsearch = GridSearchCV(estimator = model, \n",
    "        param_grid = params, scoring='roc_auc', n_jobs=4, cv=5)\n",
    "        gsearch.fit(X_train, y_train)\n",
    "        print('rbf')\n",
    "        print(gsearch.best_params_)\n",
    "        print(gsearch.best_score_)\n",
    "        print(gsearch.score(X_test, y_test))\n",
    "        print(confusion_matrix(y_test, gsearch.predict(X_test)))\n",
    "        print('-'*60)\n",
    "        if model_name != 'all' and rturn == True:\n",
    "            return gsearch\n",
    "    \n",
    "    if model_name == 'all' or model_name == 'mlp':\n",
    "        model = MLPClassifier(alpha=0.01, max_iter=1000, random_state=42)\n",
    "        params = {\n",
    "            'max_iter': [100, 500, 1000, 2000],\n",
    "            'alpha' : [0.1, 0.5, 1, 2]\n",
    "        }\n",
    "        \n",
    "        gsearch = GridSearchCV(estimator = model, \n",
    "        param_grid = params, scoring='roc_auc', n_jobs=4, cv=5)\n",
    "        gsearch.fit(X_train, y_train)\n",
    "        print('mlp')\n",
    "        print(gsearch.best_params_)\n",
    "        print(gsearch.best_score_)\n",
    "        print(gsearch.score(X_test, y_test))\n",
    "        print(confusion_matrix(y_test, gsearch.predict(X_test)))\n",
    "        print('-'*60)\n",
    "        if model_name != 'all' and rturn == True:\n",
    "            return gsearch\n",
    "    \n",
    "    if model_name == 'all' or model_name == 'adaboost':\n",
    "        model = AdaBoostClassifier(n_estimators=3, learning_rate=1, random_state=42)\n",
    "        params = {\n",
    "            'n_estimators': [i for i in range(1, 30, 2)],\n",
    "            'learning_rate' : [0.01, 0.1, 0.5, 1, 2]\n",
    "        }\n",
    "        \n",
    "        gsearch = GridSearchCV(estimator = model, \n",
    "        param_grid = params, scoring='roc_auc', n_jobs=4, cv=5)\n",
    "        gsearch.fit(X_train, y_train)\n",
    "        print('adaboost')\n",
    "        print(gsearch.best_params_)\n",
    "        print(gsearch.best_score_)\n",
    "        print(gsearch.score(X_test, y_test))\n",
    "        print(confusion_matrix(y_test, gsearch.predict(X_test)))\n",
    "        print('-'*60)\n",
    "        if model_name != 'all' and rturn == True:\n",
    "            return gsearch\n",
    "    \n",
    "    if model_name == 'all' or model_name == 'gausnb':\n",
    "        model = GaussianNB(var_smoothing=1e-9)\n",
    "        params = {\n",
    "            'var_smoothing': [1e-9, 1e-7, 1e-5, 1e-3, 1e-1]\n",
    "        }\n",
    "        \n",
    "        gsearch = GridSearchCV(estimator = model, \n",
    "        param_grid = params, scoring='roc_auc', n_jobs=4, cv=5)\n",
    "        gsearch.fit(X_train, y_train)\n",
    "        print('gausnb')\n",
    "        print(gsearch.best_params_)\n",
    "        print(gsearch.best_score_)\n",
    "        print(gsearch.score(X_test, y_test))\n",
    "        print(confusion_matrix(y_test, gsearch.predict(X_test)))\n",
    "        print('-'*60)\n",
    "        if model_name != 'all' and rturn == True:\n",
    "            return gsearch\n",
    "    \n",
    "    if model_name == 'all' or model_name == 'qda':\n",
    "        model = QuadraticDiscriminantAnalysis(reg_param=0)\n",
    "        params = {\n",
    "            'reg_param': [i/10 for i in range(1, 10, 1)],\n",
    "            'store_covariance' : [True, False]\n",
    "        }\n",
    "        \n",
    "        gsearch = GridSearchCV(estimator = model, \n",
    "        param_grid = params, scoring='roc_auc', n_jobs=4, cv=5)\n",
    "        gsearch.fit(X_train, y_train)\n",
    "        print('qda')\n",
    "        print(gsearch.best_params_)\n",
    "        print(gsearch.best_score_)\n",
    "        print(gsearch.score(X_test, y_test))\n",
    "        print(confusion_matrix(y_test, gsearch.predict(X_test)))\n",
    "        print('-'*60)\n",
    "        if model_name != 'all' and rturn == True:\n",
    "            return gsearch\n",
    "    \n",
    "    if model_name == 'all' or model_name == 'gboost':\n",
    "        model = GradientBoostingClassifier(random_state=42, n_estimators=100, max_depth=6)\n",
    "        params = {\n",
    "            'n_estimators': [10, 50, 100, 200, 500],\n",
    "            'max_depth' : [i for i in range(1, 5, 2)]\n",
    "        }\n",
    "        \n",
    "        gsearch = GridSearchCV(estimator = model, \n",
    "        param_grid = params, scoring='roc_auc', n_jobs=4, cv=5)\n",
    "        gsearch.fit(X_train, y_train)\n",
    "        print('gboost')\n",
    "        print(gsearch.best_params_)\n",
    "        print(gsearch.best_score_)\n",
    "        print(gsearch.score(X_test, y_test))\n",
    "        print(confusion_matrix(y_test, gsearch.predict(X_test)))\n",
    "        print('-'*60)\n",
    "        if model_name != 'all' and rturn == True:\n",
    "            return gsearch"
   ]
  },
  {
   "cell_type": "code",
   "execution_count": 67,
   "metadata": {
    "datalore": {
     "hide_input_from_viewers": false,
     "hide_output_from_viewers": false,
     "type": "CODE"
    }
   },
   "outputs": [
    {
     "name": "stdout",
     "output_type": "stream",
     "text": [
      "++++++++++++++++++++++++++++++++++++++++++++++++++++++++++++\n",
      "++++++++++++++++++++++++++++++++++++++++++++++++++++++++++++\n",
      "all\n",
      "{'metric': 'euclidean', 'n_neighbors': 3}\n",
      "0.527354262335308\n",
      "0.5093863075196409\n",
      "[[497 328]\n",
      " [384 291]]\n",
      "------------------------------------------------------------\n",
      "all\n",
      "{'criterion': 'entropy', 'max_depth': 5}\n",
      "0.6099133160733332\n",
      "0.610270707070707\n",
      "[[646 179]\n",
      " [420 255]]\n",
      "------------------------------------------------------------\n",
      "all\n",
      "{'criterion': 'gini', 'max_depth': 5, 'n_estimators': 40}\n",
      "0.6275886244247362\n",
      "0.6177903479236813\n",
      "[[658 167]\n",
      " [421 254]]\n",
      "------------------------------------------------------------\n",
      "all\n",
      "{'C': 0.5, 'max_iter': 1000}\n",
      "0.5548742807637801\n",
      "0.572616835016835\n",
      "[[823   2]\n",
      " [669   6]]\n",
      "------------------------------------------------------------\n",
      "all\n",
      "{'C': 0.5, 'gamma': 1, 'max_iter': 100}\n",
      "0.5036000620959382\n",
      "0.5006096520763188\n",
      "[[817   8]\n",
      " [674   1]]\n",
      "------------------------------------------------------------\n",
      "all\n",
      "{'alpha': 2, 'max_iter': 100}\n",
      "0.5380733232844745\n",
      "0.5217346801346802\n",
      "[[ 49 776]\n",
      " [ 40 635]]\n",
      "------------------------------------------------------------\n",
      "all\n",
      "{'learning_rate': 0.5, 'n_estimators': 25}\n",
      "0.6185566700552354\n",
      "0.6028947250280583\n",
      "[[634 191]\n",
      " [417 258]]\n",
      "------------------------------------------------------------\n",
      "all\n",
      "{'var_smoothing': 1e-09}\n",
      "0.5635602005097876\n",
      "0.5355196408529742\n",
      "[[130 695]\n",
      " [110 565]]\n",
      "------------------------------------------------------------\n",
      "all\n",
      "{'reg_param': 0.1, 'store_covariance': True}\n",
      "0.5948901052125534\n",
      "0.5707142536475871\n",
      "[[301 524]\n",
      " [196 479]]\n",
      "------------------------------------------------------------\n",
      "all\n",
      "{'max_depth': 3, 'n_estimators': 10}\n",
      "0.6244743128132966\n",
      "0.6095982042648709\n",
      "[[699 126]\n",
      " [481 194]]\n",
      "------------------------------------------------------------\n",
      "++++++++++++++++++++++++++++++++++++++++++++++++++++++++++++\n",
      "++++++++++++++++++++++++++++++++++++++++++++++++++++++++++++\n",
      "++++++++++++++++++++++++++++++++++++++++++++++++++++++++++++\n",
      "++++++++++++++++++++++++++++++++++++++++++++++++++++++++++++\n",
      "all\n",
      "{'metric': 'cosine', 'n_neighbors': 13}\n",
      "0.5319148083789453\n",
      "0.5336897867564534\n",
      "[[574 251]\n",
      " [437 238]]\n",
      "------------------------------------------------------------\n",
      "all\n",
      "{'criterion': 'entropy', 'max_depth': 7}\n",
      "0.6626232529257703\n",
      "0.6377185185185185\n",
      "[[657 168]\n",
      " [387 288]]\n",
      "------------------------------------------------------------\n",
      "all\n",
      "{'criterion': 'entropy', 'max_depth': 13, 'n_estimators': 90}\n",
      "0.7151594213059177\n",
      "0.6868668911335578\n",
      "[[696 129]\n",
      " [390 285]]\n",
      "------------------------------------------------------------\n",
      "all\n",
      "{'C': 2, 'max_iter': 1000}\n",
      "0.514729256701604\n",
      "0.5657840628507296\n",
      "[[793  32]\n",
      " [620  55]]\n",
      "------------------------------------------------------------\n",
      "all\n",
      "{'C': 0.5, 'gamma': 1, 'max_iter': 100}\n",
      "0.5027737854985953\n",
      "0.49978092031425364\n",
      "[[ 17 808]\n",
      " [  6 669]]\n",
      "------------------------------------------------------------\n",
      "all\n",
      "{'alpha': 2, 'max_iter': 100}\n",
      "0.5300639488008974\n",
      "0.5702563411896746\n",
      "[[163 662]\n",
      " [ 97 578]]\n",
      "------------------------------------------------------------\n",
      "all\n",
      "{'learning_rate': 1, 'n_estimators': 25}\n",
      "0.7116990750709846\n",
      "0.6929571268237935\n",
      "[[669 156]\n",
      " [374 301]]\n",
      "------------------------------------------------------------\n",
      "all\n",
      "{'var_smoothing': 1e-09}\n",
      "0.5755512266451668\n",
      "0.5506280583613917\n",
      "[[711 114]\n",
      " [535 140]]\n",
      "------------------------------------------------------------\n",
      "all\n",
      "{'reg_param': 0.1, 'store_covariance': True}\n",
      "0.6684687842716996\n",
      "0.6520915824915826\n",
      "[[751  74]\n",
      " [515 160]]\n",
      "------------------------------------------------------------\n",
      "all\n",
      "{'max_depth': 1, 'n_estimators': 500}\n",
      "0.723621995983795\n",
      "0.7025777777777777\n",
      "[[678 147]\n",
      " [366 309]]\n",
      "------------------------------------------------------------\n",
      "++++++++++++++++++++++++++++++++++++++++++++++++++++++++++++\n",
      "++++++++++++++++++++++++++++++++++++++++++++++++++++++++++++\n",
      "++++++++++++++++++++++++++++++++++++++++++++++++++++++++++++\n",
      "++++++++++++++++++++++++++++++++++++++++++++++++++++++++++++\n",
      "all\n",
      "{'metric': 'cosine', 'n_neighbors': 13}\n",
      "0.543288881321642\n",
      "0.5268848484848485\n",
      "[[599 226]\n",
      " [451 224]]\n",
      "------------------------------------------------------------\n",
      "all\n",
      "{'criterion': 'entropy', 'max_depth': 3}\n",
      "0.5778102167849327\n",
      "0.5954900112233446\n",
      "[[706 119]\n",
      " [494 181]]\n",
      "------------------------------------------------------------\n",
      "all\n",
      "{'criterion': 'entropy', 'max_depth': 3, 'n_estimators': 40}\n",
      "0.5911242870234512\n",
      "0.6002451178451178\n",
      "[[733  92]\n",
      " [528 147]]\n",
      "------------------------------------------------------------\n",
      "all\n",
      "{'C': 1, 'max_iter': 1000}\n",
      "0.5151979808804603\n",
      "0.4503407407407407\n",
      "[[783  42]\n",
      " [647  28]]\n",
      "------------------------------------------------------------\n",
      "all\n",
      "{'C': 0.1, 'gamma': 0.1, 'max_iter': 2000}\n",
      "0.5667686575759548\n",
      "0.5756219977553312\n",
      "[[796  29]\n",
      " [620  55]]\n",
      "------------------------------------------------------------\n",
      "all\n",
      "{'alpha': 2, 'max_iter': 500}\n",
      "0.5907817578158253\n",
      "0.5965117845117844\n",
      "[[683 142]\n",
      " [485 190]]\n",
      "------------------------------------------------------------\n",
      "all\n",
      "{'learning_rate': 0.5, 'n_estimators': 21}\n",
      "0.5917868106224117\n",
      "0.5958383838383837\n",
      "[[726  99]\n",
      " [519 156]]\n",
      "------------------------------------------------------------\n",
      "all\n",
      "{'var_smoothing': 1e-07}\n",
      "0.5800551852612286\n",
      "0.5911658810325477\n",
      "[[779  46]\n",
      " [618  57]]\n",
      "------------------------------------------------------------\n",
      "all\n",
      "{'reg_param': 0.9, 'store_covariance': True}\n",
      "0.5786610312933482\n",
      "0.5774626262626262\n",
      "[[539 286]\n",
      " [361 314]]\n",
      "------------------------------------------------------------\n",
      "all\n",
      "{'max_depth': 1, 'n_estimators': 200}\n",
      "0.5941249230060444\n",
      "0.5969274971941639\n",
      "[[720 105]\n",
      " [504 171]]\n",
      "------------------------------------------------------------\n",
      "++++++++++++++++++++++++++++++++++++++++++++++++++++++++++++\n",
      "++++++++++++++++++++++++++++++++++++++++++++++++++++++++++++\n"
     ]
    }
   ],
   "source": [
    "for dataset in [data_to_classification, data_c, data_exp_grouped]:\n",
    "    print('+'*60)\n",
    "    print('+'*60)\n",
    "    parameter_selector(dataset, 'all')\n",
    "    print('+'*60)\n",
    "    print('+'*60)"
   ]
  },
  {
   "cell_type": "markdown",
   "metadata": {
    "datalore": {
     "hide_input_from_viewers": false,
     "hide_output_from_viewers": false,
     "type": "MD"
    }
   },
   "source": [
    "### Conclusion: Datasets data_to_classification and data_exp_grouped showed poor accuracy and roc/auc scores so we will continue to work only with data_c dataset. Among 10 models we define 5 which showed good accuracy."
   ]
  },
  {
   "cell_type": "markdown",
   "metadata": {
    "datalore": {
     "hide_input_from_viewers": false,
     "hide_output_from_viewers": false,
     "type": "MD"
    }
   },
   "source": [
    "## 5.2 Detailed parameter estimation for perspective models"
   ]
  },
  {
   "cell_type": "code",
   "execution_count": 64,
   "metadata": {},
   "outputs": [],
   "source": [
    "def evaluate_model(test, real):\n",
    "    return classification_report(test, real)\n",
    "\n",
    "def plotROC(model, X_test, y_test, model_name):\n",
    "    y_pred_proba = model.predict_proba(X_test)[:,1]\n",
    "    fpr, tpr, thresholds = roc_curve(y_test, y_pred_proba)\n",
    "    plt.plot([0,1],[0,1],'k--') \n",
    "    plt.plot(fpr,tpr, label='Knn') \n",
    "    plt.xlabel('False positive rate') \n",
    "    plt.ylabel('True positive rate') \n",
    "    plt.title(f'{model_name} ROC curve') \n",
    "    plt.show()"
   ]
  },
  {
   "cell_type": "markdown",
   "metadata": {
    "datalore": {
     "hide_input_from_viewers": false,
     "hide_output_from_viewers": false,
     "type": "MD"
    }
   },
   "source": [
    "### 5.2.1 KNN"
   ]
  },
  {
   "cell_type": "code",
   "execution_count": 65,
   "metadata": {
    "datalore": {
     "hide_input_from_viewers": false,
     "hide_output_from_viewers": false,
     "type": "CODE"
    }
   },
   "outputs": [],
   "source": [
    "X = data_c.drop('target', axis=1)\n",
    "y = data_c['target']\n",
    "X_train, X_test, y_train, y_test = train_test_split(X, y, test_size=0.25, random_state=0)"
   ]
  },
  {
   "cell_type": "code",
   "execution_count": 66,
   "metadata": {
    "datalore": {
     "hide_input_from_viewers": false,
     "hide_output_from_viewers": false,
     "type": "CODE"
    }
   },
   "outputs": [
    {
     "name": "stdout",
     "output_type": "stream",
     "text": [
      "Best parameters are:  {'leaf_size': 10, 'metric': 'cosine', 'n_neighbors': 13} \n",
      "\n",
      "Best score: 0.5319148083789453 \n",
      "\n",
      "Current score: 0.5336897867564534 \n",
      "\n",
      "Confusion matrix: [[574 251]\n",
      " [437 238]] \n",
      "\n",
      "Metrics for model evaluation:\n",
      "               precision    recall  f1-score   support\n",
      "\n",
      "           0       0.57      0.70      0.63       825\n",
      "           1       0.49      0.35      0.41       675\n",
      "\n",
      "    accuracy                           0.54      1500\n",
      "   macro avg       0.53      0.52      0.52      1500\n",
      "weighted avg       0.53      0.54      0.53      1500\n",
      " \n",
      "\n"
     ]
    },
    {
     "data": {
      "image/png": "[encoded data removed]",
      "text/plain": [
       "<Figure size 720x720 with 1 Axes>"
      ]
     },
     "metadata": {},
     "output_type": "display_data"
    }
   ],
   "source": [
    "knn_model = KNeighborsClassifier(n_jobs=-1)\n",
    "params = {\n",
    "    'n_neighbors':[12,13,14],\n",
    "    'metric':['cosine'],\n",
    "    'leaf_size' : [i for i in range(10, 110, 10)],\n",
    "}\n",
    "        \n",
    "gsearch = GridSearchCV(estimator = knn_model, \n",
    "param_grid = params, scoring='roc_auc', n_jobs=4, cv=5)\n",
    "gsearch.fit(X_train, y_train)\n",
    "knn_model = gsearch\n",
    "print('Best parameters are: ', gsearch.best_params_, '\\n')\n",
    "print('Best score:', gsearch.best_score_, '\\n')\n",
    "print('Current score:', gsearch.score(X_test, y_test), '\\n')\n",
    "print('Confusion matrix:', confusion_matrix(y_test, gsearch.predict(X_test)), '\\n')\n",
    "print('Metrics for model evaluation:\\n', evaluate_model(y_test, gsearch.predict(X_test)), '\\n')\n",
    "plotROC(knn_model, X_test, y_test, 'KNN')"
   ]
  },
  {
   "cell_type": "code",
   "execution_count": null,
   "metadata": {},
   "outputs": [],
   "source": []
  },
  {
   "cell_type": "code",
   "execution_count": null,
   "metadata": {},
   "outputs": [],
   "source": []
  },
  {
   "cell_type": "markdown",
   "metadata": {
    "datalore": {
     "hide_input_from_viewers": false,
     "hide_output_from_viewers": false,
     "type": "MD"
    }
   },
   "source": [
    "### 5.2.2 Decision Tree Classifier"
   ]
  },
  {
   "cell_type": "code",
   "execution_count": 67,
   "metadata": {
    "datalore": {
     "hide_input_from_viewers": false,
     "hide_output_from_viewers": false,
     "type": "CODE"
    }
   },
   "outputs": [],
   "source": [
    "X = data_c.drop('target', axis=1)\n",
    "y = data_c['target']\n",
    "X_train, X_test, y_train, y_test = train_test_split(X, y, test_size=0.25, random_state=0)"
   ]
  },
  {
   "cell_type": "code",
   "execution_count": 68,
   "metadata": {
    "datalore": {
     "hide_input_from_viewers": false,
     "hide_output_from_viewers": false,
     "type": "CODE"
    }
   },
   "outputs": [
    {
     "name": "stdout",
     "output_type": "stream",
     "text": [
      "Best parameters are:  {'criterion': 'entropy', 'max_depth': 7, 'max_features': None} \n",
      "\n",
      "Best score: 0.6626232529257703 \n",
      "\n",
      "Current score: 0.6377185185185185 \n",
      "\n",
      "Confusion matrix: [[657 168]\n",
      " [387 288]] \n",
      "\n",
      "Metrics for model evaluation:\n",
      "               precision    recall  f1-score   support\n",
      "\n",
      "           0       0.63      0.80      0.70       825\n",
      "           1       0.63      0.43      0.51       675\n",
      "\n",
      "    accuracy                           0.63      1500\n",
      "   macro avg       0.63      0.61      0.61      1500\n",
      "weighted avg       0.63      0.63      0.62      1500\n",
      " \n",
      "\n"
     ]
    },
    {
     "data": {
      "image/png": "[encoded data removed]",
      "text/plain": [
       "<Figure size 720x720 with 1 Axes>"
      ]
     },
     "metadata": {},
     "output_type": "display_data"
    }
   ],
   "source": [
    "dtree_model = DecisionTreeClassifier(random_state=42)\n",
    "params = {\n",
    "    'criterion' : ['entropy'],\n",
    "    'max_depth' : [6,7,8],\n",
    "    'max_features' : [1,2,None,'sqrt', 'log2']\n",
    "}\n",
    "        \n",
    "gsearch = GridSearchCV(estimator = dtree_model, \n",
    "param_grid = params, scoring='roc_auc', n_jobs=4, cv=5)\n",
    "gsearch.fit(X_train, y_train)\n",
    "dtree_model = gsearch\n",
    "# print(gsearch.best_params_)\n",
    "# print(gsearch.best_score_)\n",
    "# print(gsearch.score(X_test, y_test))\n",
    "# print(confusion_matrix(y_test, gsearch.predict(X_test)))\n",
    "print('Best parameters are: ', gsearch.best_params_, '\\n')\n",
    "print('Best score:', gsearch.best_score_, '\\n')\n",
    "print('Current score:', gsearch.score(X_test, y_test), '\\n')\n",
    "print('Confusion matrix:', confusion_matrix(y_test, gsearch.predict(X_test)), '\\n')\n",
    "print('Metrics for model evaluation:\\n', evaluate_model(y_test, gsearch.predict(X_test)), '\\n')\n",
    "plotROC(dtree_model, X_test, y_test, 'Decision Tree')"
   ]
  },
  {
   "cell_type": "markdown",
   "metadata": {
    "datalore": {
     "hide_input_from_viewers": false,
     "hide_output_from_viewers": false,
     "type": "CODE"
    }
   },
   "source": [
    "We have tested different parameters and features for KNN and Decision Tree. In average we have got the score around 60 for Decision Tree and 54 for KNN. As we have understood, there aren't any special regularities in dataset between males and females that the reason why our score is so low. We also can see the difference between scores of KNN and Decision Tree, according to this it's obvious that logical algorithm shows better result than geometrical"
   ]
  },
  {
   "cell_type": "markdown",
   "metadata": {
    "datalore": {
     "hide_input_from_viewers": false,
     "hide_output_from_viewers": false,
     "type": "MD"
    }
   },
   "source": [
    "### 5.2.3 Random Forest"
   ]
  },
  {
   "cell_type": "code",
   "execution_count": 69,
   "metadata": {
    "datalore": {
     "hide_input_from_viewers": false,
     "hide_output_from_viewers": false,
     "type": "CODE"
    }
   },
   "outputs": [],
   "source": [
    "X = data_c.drop('target', axis=1)\n",
    "y = data_c['target']\n",
    "X_train, X_test, y_train, y_test = train_test_split(X, y, test_size=0.25, random_state=0)"
   ]
  },
  {
   "cell_type": "code",
   "execution_count": 70,
   "metadata": {
    "datalore": {
     "hide_input_from_viewers": false,
     "hide_output_from_viewers": false,
     "type": "CODE"
    }
   },
   "outputs": [
    {
     "name": "stdout",
     "output_type": "stream",
     "text": [
      "Best parameters are:  {'criterion': 'entropy', 'max_depth': 12, 'n_estimators': 86} \n",
      "\n",
      "Best score: 0.7160608139575644 \n",
      "\n",
      "Current score: 0.6911685746352413 \n",
      "\n",
      "Confusion matrix: [[693 132]\n",
      " [404 271]] \n",
      "\n",
      "Metrics for model evaluation:\n",
      "               precision    recall  f1-score   support\n",
      "\n",
      "           0       0.63      0.84      0.72       825\n",
      "           1       0.67      0.40      0.50       675\n",
      "\n",
      "    accuracy                           0.64      1500\n",
      "   macro avg       0.65      0.62      0.61      1500\n",
      "weighted avg       0.65      0.64      0.62      1500\n",
      " \n",
      "\n"
     ]
    },
    {
     "data": {
      "image/png": "[encoded data removed]",
      "text/plain": [
       "<Figure size 720x720 with 1 Axes>"
      ]
     },
     "metadata": {},
     "output_type": "display_data"
    }
   ],
   "source": [
    "rand_forest_model = RandomForestClassifier(random_state=42, n_jobs=-1)\n",
    "params = {\n",
    "    'n_estimators' : [i for i in range(86, 94, 2)],\n",
    "    'max_depth' : [12,13,14],\n",
    "    'criterion' : ['entropy']\n",
    "}\n",
    "        \n",
    "gsearch = GridSearchCV(estimator = rand_forest_model, \n",
    "param_grid = params, scoring='roc_auc', n_jobs=4, cv=5)\n",
    "gsearch.fit(X_train, y_train)\n",
    "rand_forest_model = gsearch\n",
    "# print(gsearch.best_params_)\n",
    "# print(gsearch.best_score_)\n",
    "# print(gsearch.score(X_test, y_test))\n",
    "# print(confusion_matrix(y_test, gsearch.predict(X_test)))\n",
    "print('Best parameters are: ', gsearch.best_params_, '\\n')\n",
    "print('Best score:', gsearch.best_score_, '\\n')\n",
    "print('Current score:', gsearch.score(X_test, y_test), '\\n')\n",
    "print('Confusion matrix:', confusion_matrix(y_test, gsearch.predict(X_test)), '\\n')\n",
    "print('Metrics for model evaluation:\\n', evaluate_model(y_test, gsearch.predict(X_test)), '\\n')\n",
    "plotROC(rand_forest_model, X_test, y_test, 'Random Forest')"
   ]
  },
  {
   "cell_type": "code",
   "execution_count": null,
   "metadata": {
    "datalore": {
     "hide_input_from_viewers": false,
     "hide_output_from_viewers": false,
     "type": "CODE"
    }
   },
   "outputs": [],
   "source": []
  },
  {
   "cell_type": "markdown",
   "metadata": {
    "datalore": {
     "hide_input_from_viewers": false,
     "hide_output_from_viewers": false,
     "type": "MD"
    }
   },
   "source": [
    "### 5.2.4 AdaBoost Classifier"
   ]
  },
  {
   "cell_type": "code",
   "execution_count": 71,
   "metadata": {
    "datalore": {
     "hide_input_from_viewers": false,
     "hide_output_from_viewers": false,
     "type": "CODE"
    }
   },
   "outputs": [],
   "source": [
    "X = data_c.drop('target', axis=1)\n",
    "y = data_c['target']\n",
    "X_train, X_test, y_train, y_test = train_test_split(X, y, test_size=0.25, random_state=0)"
   ]
  },
  {
   "cell_type": "code",
   "execution_count": 72,
   "metadata": {
    "datalore": {
     "hide_input_from_viewers": false,
     "hide_output_from_viewers": false,
     "type": "CODE"
    }
   },
   "outputs": [
    {
     "name": "stdout",
     "output_type": "stream",
     "text": [
      "Best parameters are:  {'learning_rate': 1, 'n_estimators': 25} \n",
      "\n",
      "Best score: 0.7116990750709846 \n",
      "\n",
      "Current score: 0.6929571268237935 \n",
      "\n",
      "Confusion matrix: [[669 156]\n",
      " [374 301]] \n",
      "\n",
      "Metrics for model evaluation:\n",
      "               precision    recall  f1-score   support\n",
      "\n",
      "           0       0.64      0.81      0.72       825\n",
      "           1       0.66      0.45      0.53       675\n",
      "\n",
      "    accuracy                           0.65      1500\n",
      "   macro avg       0.65      0.63      0.62      1500\n",
      "weighted avg       0.65      0.65      0.63      1500\n",
      " \n",
      "\n"
     ]
    },
    {
     "data": {
      "image/png": "[encoded data removed]",
      "text/plain": [
       "<Figure size 720x720 with 1 Axes>"
      ]
     },
     "metadata": {},
     "output_type": "display_data"
    }
   ],
   "source": [
    "adaboost_model = AdaBoostClassifier(n_estimators=3, learning_rate=1, random_state=42)\n",
    "params = {\n",
    "    'n_estimators': [24,25,26],\n",
    "    'learning_rate' : [0.9,1,1.1]\n",
    "}\n",
    "        \n",
    "gsearch = GridSearchCV(estimator = adaboost_model, \n",
    "param_grid = params, scoring='roc_auc', n_jobs=4, cv=5)\n",
    "gsearch.fit(X_train, y_train)\n",
    "adaboost_model = gsearch\n",
    "# print(gsearch.best_params_)\n",
    "# print(gsearch.best_score_)\n",
    "# print(gsearch.score(X_test, y_test))\n",
    "# print(confusion_matrix(y_test, gsearch.predict(X_test)))\n",
    "print('Best parameters are: ', gsearch.best_params_, '\\n')\n",
    "print('Best score:', gsearch.best_score_, '\\n')\n",
    "print('Current score:', gsearch.score(X_test, y_test), '\\n')\n",
    "print('Confusion matrix:', confusion_matrix(y_test, gsearch.predict(X_test)), '\\n')\n",
    "print('Metrics for model evaluation:\\n', evaluate_model(y_test, gsearch.predict(X_test)), '\\n')\n",
    "plotROC(adaboost_model, X_test, y_test, 'AdaBoost')"
   ]
  },
  {
   "cell_type": "code",
   "execution_count": null,
   "metadata": {
    "datalore": {
     "hide_input_from_viewers": false,
     "hide_output_from_viewers": false,
     "type": "CODE"
    }
   },
   "outputs": [],
   "source": []
  },
  {
   "cell_type": "markdown",
   "metadata": {
    "datalore": {
     "hide_input_from_viewers": false,
     "hide_output_from_viewers": false,
     "type": "MD"
    }
   },
   "source": [
    "### 5.2.5 Gradient Boosting Classifier"
   ]
  },
  {
   "cell_type": "code",
   "execution_count": 73,
   "metadata": {
    "datalore": {
     "hide_input_from_viewers": false,
     "hide_output_from_viewers": false,
     "type": "CODE"
    }
   },
   "outputs": [],
   "source": [
    "X = data_c.drop('target', axis=1)\n",
    "y = data_c['target']\n",
    "X_train, X_test, y_train, y_test = train_test_split(X, y, test_size=0.25, random_state=0)"
   ]
  },
  {
   "cell_type": "code",
   "execution_count": 74,
   "metadata": {
    "datalore": {
     "hide_input_from_viewers": false,
     "hide_output_from_viewers": false,
     "type": "CODE"
    }
   },
   "outputs": [
    {
     "name": "stdout",
     "output_type": "stream",
     "text": [
      "Best parameters are:  {'max_depth': 1, 'n_estimators': 1000} \n",
      "\n",
      "Best score: 0.7259070263557196 \n",
      "\n",
      "Current score: 0.7042666666666666 \n",
      "\n",
      "Confusion matrix: [[663 162]\n",
      " [359 316]] \n",
      "\n",
      "Metrics for model evaluation:\n",
      "               precision    recall  f1-score   support\n",
      "\n",
      "           0       0.65      0.80      0.72       825\n",
      "           1       0.66      0.47      0.55       675\n",
      "\n",
      "    accuracy                           0.65      1500\n",
      "   macro avg       0.65      0.64      0.63      1500\n",
      "weighted avg       0.65      0.65      0.64      1500\n",
      " \n",
      "\n"
     ]
    },
    {
     "data": {
      "image/png": "[encoded data removed]",
      "text/plain": [
       "<Figure size 720x720 with 1 Axes>"
      ]
     },
     "metadata": {},
     "output_type": "display_data"
    }
   ],
   "source": [
    "gboost_model = GradientBoostingClassifier(random_state=42)\n",
    "params = {\n",
    "    'n_estimators': [350, 500, 1000],\n",
    "    'max_depth' : [1]\n",
    "}\n",
    "        \n",
    "gsearch = GridSearchCV(estimator = gboost_model, \n",
    "param_grid = params, scoring='roc_auc', n_jobs=4, cv=5)\n",
    "gsearch.fit(X_train, y_train)\n",
    "gboost_model = gsearch\n",
    "# print(gsearch.best_params_)\n",
    "# print(gsearch.best_score_)\n",
    "# print(gsearch.score(X_test, y_test))\n",
    "# print(confusion_matrix(y_test, gsearch.predict(X_test)))\n",
    "print('Best parameters are: ', gsearch.best_params_, '\\n')\n",
    "print('Best score:', gsearch.best_score_, '\\n')\n",
    "print('Current score:', gsearch.score(X_test, y_test), '\\n')\n",
    "print('Confusion matrix:', confusion_matrix(y_test, gsearch.predict(X_test)), '\\n')\n",
    "print('Metrics for model evaluation:\\n', evaluate_model(y_test, gsearch.predict(X_test)), '\\n')\n",
    "plotROC(gboost_model, X_test, y_test, 'Gradient Boosting')"
   ]
  },
  {
   "cell_type": "markdown",
   "metadata": {
    "datalore": {
     "hide_input_from_viewers": false,
     "hide_output_from_viewers": false,
     "type": "CODE"
    }
   },
   "source": [
    "According to ensembles, we can make a conclusion while we used bootstraping for this data and calculating the scores our performance has improved as well. So we decided to use that ensembles for further predictions, because these algorithms are more efficient for usage to this dataset."
   ]
  },
  {
   "cell_type": "code",
   "execution_count": null,
   "metadata": {
    "datalore": {
     "hide_input_from_viewers": false,
     "hide_output_from_viewers": false,
     "type": "CODE"
    }
   },
   "outputs": [],
   "source": []
  },
  {
   "cell_type": "code",
   "execution_count": null,
   "metadata": {
    "datalore": {
     "hide_input_from_viewers": false,
     "hide_output_from_viewers": false,
     "type": "CODE"
    }
   },
   "outputs": [],
   "source": []
  },
  {
   "cell_type": "markdown",
   "metadata": {
    "datalore": {
     "hide_input_from_viewers": false,
     "hide_output_from_viewers": false,
     "type": "MD"
    }
   },
   "source": [
    "## 5.3 XGBoost"
   ]
  },
  {
   "cell_type": "code",
   "execution_count": 75,
   "metadata": {
    "datalore": {
     "hide_input_from_viewers": false,
     "hide_output_from_viewers": false,
     "type": "CODE"
    }
   },
   "outputs": [],
   "source": [
    "import xgboost as xgb\n",
    "from xgboost.sklearn import XGBClassifier\n",
    "from sklearn.model_selection import cross_val_score\n",
    "from sklearn import metrics \n",
    "from sklearn.model_selection import GridSearchCV \n",
    "\n",
    "from matplotlib.pylab import rcParams\n",
    "rcParams['figure.figsize'] = 20, 10"
   ]
  },
  {
   "cell_type": "code",
   "execution_count": 76,
   "metadata": {
    "datalore": {
     "hide_input_from_viewers": false,
     "hide_output_from_viewers": false,
     "type": "CODE"
    }
   },
   "outputs": [],
   "source": [
    "target = 'target'\n",
    "predictors = [x for x in data_c.columns if x not in ['target']]"
   ]
  },
  {
   "cell_type": "markdown",
   "metadata": {},
   "source": [
    "### 5.3.1 Function to estimate best parameters for XGBoost"
   ]
  },
  {
   "cell_type": "code",
   "execution_count": 77,
   "metadata": {
    "datalore": {
     "hide_input_from_viewers": false,
     "hide_output_from_viewers": false,
     "type": "CODE"
    }
   },
   "outputs": [],
   "source": [
    "def modelfit(alg, dtrain, predictors ,useTrainCV=True, cv_folds=5, early_stopping_rounds=50):\n",
    "    \n",
    "    if useTrainCV:\n",
    "        xgb_param = alg.get_xgb_params()\n",
    "        xgtrain = xgb.DMatrix(dtrain[predictors].values, label=dtrain[target].values)\n",
    "        cvresult = xgb.cv(xgb_param, xgtrain, num_boost_round=alg.get_params()['n_estimators'], nfold=cv_folds,\n",
    "            metrics='auc', early_stopping_rounds=early_stopping_rounds)\n",
    "        alg.set_params(n_estimators=cvresult.shape[0])\n",
    "    \n",
    "    print(cvresult)\n",
    "    \n",
    "    #Fit the algorithm on the data\n",
    "    alg.fit(dtrain[predictors], dtrain['target'],eval_metric='auc')\n",
    "        \n",
    "    #Predict training set:\n",
    "    dtrain_predictions = alg.predict(dtrain[predictors])\n",
    "    dtrain_predprob = alg.predict_proba(dtrain[predictors])[:,1]\n",
    "        \n",
    "    #Print model report:\n",
    "    print (\"\\nModel Report\")\n",
    "    print (\"Accuracy (test): %.4g\" % metrics.accuracy_score(dtrain['target'].values, dtrain_predictions))\n",
    "    print (\"AUC Score (test): %f\" % metrics.roc_auc_score(dtrain['target'], dtrain_predprob))\n",
    "    \n",
    "    feat_imp = pd.Series(alg.get_booster().get_fscore()).sort_values(ascending=False)\n",
    "    feat_imp.plot(kind='bar', title='Feature Importances')\n",
    "    plt.ylabel('Feature Importance Score')"
   ]
  },
  {
   "cell_type": "markdown",
   "metadata": {
    "datalore": {
     "hide_input_from_viewers": false,
     "hide_output_from_viewers": false,
     "type": "MD"
    }
   },
   "source": [
    "### 5.3.2 Fix learning rate and number of estimators for tuning tree-based parameters"
   ]
  },
  {
   "cell_type": "code",
   "execution_count": 78,
   "metadata": {
    "datalore": {
     "hide_input_from_viewers": false,
     "hide_output_from_viewers": false,
     "type": "CODE"
    }
   },
   "outputs": [
    {
     "name": "stdout",
     "output_type": "stream",
     "text": [
      "   train-auc-mean  train-auc-std  test-auc-mean  test-auc-std\n",
      "0        0.677946       0.004381       0.646460      0.012827\n",
      "1        0.702421       0.010546       0.671720      0.017486\n",
      "2        0.711185       0.010035       0.681795      0.017616\n",
      "3        0.719003       0.010857       0.683105      0.013493\n",
      "4        0.724514       0.011367       0.685841      0.014346\n",
      "5        0.727757       0.011803       0.686979      0.014034\n",
      "6        0.734514       0.010333       0.689371      0.013051\n",
      "7        0.738190       0.007759       0.693251      0.017099\n",
      "8        0.740791       0.008782       0.694584      0.016097\n",
      "9        0.742996       0.009236       0.696680      0.015801\n",
      "\n",
      "Model Report\n",
      "Accuracy (test): 0.682\n",
      "AUC Score (test): 0.731320\n"
     ]
    },
    {
     "data": {
      "image/png": "[encoded data removed]",
      "text/plain": [
       "<Figure size 1440x720 with 1 Axes>"
      ]
     },
     "metadata": {},
     "output_type": "display_data"
    }
   ],
   "source": [
    "xgb1 = XGBClassifier(\n",
    " learning_rate =0.1,\n",
    " n_estimators=10,\n",
    " max_depth=5,\n",
    " min_child_weight=1,\n",
    " gamma=0,\n",
    " subsample=0.8,\n",
    " colsample_bytree=0.8,\n",
    " objective= 'binary:logistic',\n",
    " nthread=4,\n",
    " scale_pos_weight=1,\n",
    " seed=27,\n",
    " use_label_encoder=False)\n",
    "\n",
    "\n",
    "svresults = modelfit(xgb1, data_c, predictors)"
   ]
  },
  {
   "cell_type": "markdown",
   "metadata": {
    "datalore": {
     "hide_input_from_viewers": false,
     "hide_output_from_viewers": false,
     "type": "MD"
    }
   },
   "source": [
    "### 5.3.3 Tune max_depth and min_child_weight"
   ]
  },
  {
   "cell_type": "code",
   "execution_count": 79,
   "metadata": {
    "datalore": {
     "hide_input_from_viewers": false,
     "hide_output_from_viewers": false,
     "type": "CODE"
    }
   },
   "outputs": [
    {
     "name": "stdout",
     "output_type": "stream",
     "text": [
      "[17:21:45] WARNING: C:/Users/Administrator/workspace/xgboost-win64_release_1.5.1/src/learner.cc:1115: Starting in XGBoost 1.3.0, the default evaluation metric used with the objective 'binary:logistic' was changed from 'error' to 'logloss'. Explicitly set eval_metric if you'd like to restore the old behavior.\n"
     ]
    },
    {
     "data": {
      "text/plain": [
       "({'max_depth': 5, 'min_child_weight': 5}, 0.723242143532484)"
      ]
     },
     "execution_count": 79,
     "metadata": {},
     "output_type": "execute_result"
    }
   ],
   "source": [
    "param_test1 = {\n",
    " 'max_depth':range(3,10,2),\n",
    " 'min_child_weight':range(1,6,2)\n",
    "}\n",
    "\n",
    "gsearch1 = GridSearchCV(estimator = XGBClassifier( learning_rate =0.1, n_estimators=115, max_depth=5,\n",
    " min_child_weight=1, gamma=0, subsample=0.8, colsample_bytree=0.8,\n",
    " objective= 'binary:logistic', nthread=4, scale_pos_weight=1, seed=27), \n",
    " param_grid = param_test1, scoring='roc_auc',n_jobs=4, cv=5)\n",
    "gsearch1.fit(data_c[predictors],data_c[target])\n",
    "gsearch1.best_params_, gsearch1.best_score_"
   ]
  },
  {
   "cell_type": "code",
   "execution_count": 80,
   "metadata": {
    "datalore": {
     "hide_input_from_viewers": false,
     "hide_output_from_viewers": false,
     "type": "CODE"
    }
   },
   "outputs": [
    {
     "name": "stdout",
     "output_type": "stream",
     "text": [
      "[17:34:01] WARNING: C:/Users/Administrator/workspace/xgboost-win64_release_1.5.1/src/learner.cc:1115: Starting in XGBoost 1.3.0, the default evaluation metric used with the objective 'binary:logistic' was changed from 'error' to 'logloss'. Explicitly set eval_metric if you'd like to restore the old behavior.\n"
     ]
    },
    {
     "data": {
      "text/plain": [
       "({'max_depth': 4, 'min_child_weight': 6}, 0.7236248367925804)"
      ]
     },
     "execution_count": 80,
     "metadata": {},
     "output_type": "execute_result"
    }
   ],
   "source": [
    "param_test1 = {\n",
    " 'max_depth':[4,5,6],\n",
    " 'min_child_weight':[4,5,6]\n",
    "}\n",
    "\n",
    "gsearch1 = GridSearchCV(estimator = XGBClassifier( learning_rate =0.1, n_estimators=115, max_depth=3,\n",
    " min_child_weight=5, gamma=0, subsample=0.8, colsample_bytree=0.8,\n",
    " objective= 'binary:logistic', nthread=4, scale_pos_weight=1, seed=27), \n",
    " param_grid = param_test1, scoring='roc_auc',n_jobs=4, cv=5)\n",
    "gsearch1.fit(data_c[predictors],data_c[target])\n",
    "gsearch1.best_params_, gsearch1.best_score_"
   ]
  },
  {
   "cell_type": "markdown",
   "metadata": {
    "datalore": {
     "hide_input_from_viewers": false,
     "hide_output_from_viewers": false,
     "type": "MD"
    }
   },
   "source": [
    "### 5.3.4 Tune gamma"
   ]
  },
  {
   "cell_type": "code",
   "execution_count": 81,
   "metadata": {
    "datalore": {
     "hide_input_from_viewers": false,
     "hide_output_from_viewers": false,
     "type": "CODE"
    }
   },
   "outputs": [
    {
     "name": "stdout",
     "output_type": "stream",
     "text": [
      "[17:35:56] WARNING: C:/Users/Administrator/workspace/xgboost-win64_release_1.5.1/src/learner.cc:1115: Starting in XGBoost 1.3.0, the default evaluation metric used with the objective 'binary:logistic' was changed from 'error' to 'logloss'. Explicitly set eval_metric if you'd like to restore the old behavior.\n"
     ]
    },
    {
     "data": {
      "text/plain": [
       "({'gamma': 0.4}, 0.7242213880509657)"
      ]
     },
     "execution_count": 81,
     "metadata": {},
     "output_type": "execute_result"
    }
   ],
   "source": [
    "param_test3 = {\n",
    " 'gamma':[i/10.0 for i in range(0,5)]\n",
    "}\n",
    "gsearch3 = GridSearchCV(estimator = XGBClassifier( learning_rate = 0.1, n_estimators = 115, max_depth = 4,\n",
    " min_child_weight=6, gamma=0, subsample=0.8, colsample_bytree=0.8,\n",
    " objective= 'binary:logistic', nthread=4, scale_pos_weight=1,seed=27), \n",
    " param_grid = param_test3, scoring='roc_auc',n_jobs=4, cv=5)\n",
    "gsearch3.fit(data_c[predictors],data_c[target])\n",
    "gsearch3.best_params_, gsearch3.best_score_"
   ]
  },
  {
   "cell_type": "code",
   "execution_count": 82,
   "metadata": {
    "datalore": {
     "hide_input_from_viewers": false,
     "hide_output_from_viewers": false,
     "type": "CODE"
    }
   },
   "outputs": [
    {
     "name": "stdout",
     "output_type": "stream",
     "text": [
      "     train-auc-mean  train-auc-std  test-auc-mean  test-auc-std\n",
      "0          0.658419       0.006601       0.645905      0.012955\n",
      "1          0.679882       0.010985       0.663188      0.019786\n",
      "2          0.691012       0.006871       0.675100      0.015844\n",
      "3          0.696644       0.008540       0.678899      0.013526\n",
      "4          0.700587       0.007752       0.680180      0.014598\n",
      "..              ...            ...            ...           ...\n",
      "110        0.812709       0.003198       0.726552      0.008770\n",
      "111        0.813371       0.002953       0.726953      0.008671\n",
      "112        0.814084       0.002616       0.727301      0.008406\n",
      "113        0.814592       0.002572       0.727659      0.008169\n",
      "114        0.815455       0.002113       0.727675      0.008210\n",
      "\n",
      "[115 rows x 4 columns]\n",
      "\n",
      "Model Report\n",
      "Accuracy (test): 0.7235\n",
      "AUC Score (test): 0.806724\n"
     ]
    },
    {
     "data": {
      "image/png": "[encoded data removed]",
      "text/plain": [
       "<Figure size 1440x720 with 1 Axes>"
      ]
     },
     "metadata": {},
     "output_type": "display_data"
    }
   ],
   "source": [
    "xgb2 = XGBClassifier(\n",
    " learning_rate =0.1,\n",
    " n_estimators=115,\n",
    " max_depth=4,\n",
    " min_child_weight=6,\n",
    " gamma=0.4,\n",
    " subsample=0.8,\n",
    " colsample_bytree=0.8,\n",
    " objective= 'binary:logistic',\n",
    " nthread=4,\n",
    " scale_pos_weight=1,\n",
    " seed=27,\n",
    " use_label_encoder=False)\n",
    "\n",
    "\n",
    "modelfit(xgb2, data_c, predictors)"
   ]
  },
  {
   "cell_type": "markdown",
   "metadata": {
    "datalore": {
     "hide_input_from_viewers": false,
     "hide_output_from_viewers": false,
     "type": "MD"
    }
   },
   "source": [
    "### 5.3.5 Tune subsample and colsample_bytree"
   ]
  },
  {
   "cell_type": "code",
   "execution_count": 83,
   "metadata": {
    "datalore": {
     "hide_input_from_viewers": false,
     "hide_output_from_viewers": false,
     "type": "CODE"
    }
   },
   "outputs": [
    {
     "name": "stdout",
     "output_type": "stream",
     "text": [
      "[17:38:24] WARNING: C:/Users/Administrator/workspace/xgboost-win64_release_1.5.1/src/learner.cc:1115: Starting in XGBoost 1.3.0, the default evaluation metric used with the objective 'binary:logistic' was changed from 'error' to 'logloss'. Explicitly set eval_metric if you'd like to restore the old behavior.\n"
     ]
    },
    {
     "data": {
      "text/plain": [
       "({'colsample_bytree': 0.8, 'subsample': 0.7}, 0.7289859191391653)"
      ]
     },
     "execution_count": 83,
     "metadata": {},
     "output_type": "execute_result"
    }
   ],
   "source": [
    "param_test4 = {\n",
    " 'subsample':[i/10.0 for i in range(6,10)],\n",
    " 'colsample_bytree':[i/10.0 for i in range(6,10)]\n",
    "}\n",
    "gsearch4 = GridSearchCV(estimator = XGBClassifier( learning_rate = 0.1, n_estimators=115, max_depth=4,\n",
    " min_child_weight=6, gamma=0.4, subsample=0.8, colsample_bytree=0.8,\n",
    " objective= 'binary:logistic', nthread=4, scale_pos_weight=1,seed=27), \n",
    " param_grid = param_test4, scoring='roc_auc',n_jobs=4, cv=5)\n",
    "gsearch4.fit(data_c[predictors],data_c[target])\n",
    "gsearch4.best_params_, gsearch4.best_score_"
   ]
  },
  {
   "cell_type": "markdown",
   "metadata": {
    "datalore": {
     "hide_input_from_viewers": false,
     "hide_output_from_viewers": false,
     "type": "MD"
    }
   },
   "source": [
    "### 5.3.6 Tuning Regularization Parameters"
   ]
  },
  {
   "cell_type": "code",
   "execution_count": 86,
   "metadata": {
    "datalore": {
     "hide_input_from_viewers": false,
     "hide_output_from_viewers": false,
     "type": "CODE"
    }
   },
   "outputs": [
    {
     "name": "stdout",
     "output_type": "stream",
     "text": [
      "[17:40:09] WARNING: C:/Users/Administrator/workspace/xgboost-win64_release_1.5.1/src/learner.cc:1115: Starting in XGBoost 1.3.0, the default evaluation metric used with the objective 'binary:logistic' was changed from 'error' to 'logloss'. Explicitly set eval_metric if you'd like to restore the old behavior.\n"
     ]
    },
    {
     "data": {
      "text/plain": [
       "({'reg_alpha': 1e-05}, 0.7289856377470624)"
      ]
     },
     "execution_count": 86,
     "metadata": {},
     "output_type": "execute_result"
    }
   ],
   "source": [
    "param_test6 = {\n",
    " 'reg_alpha':[1e-5, 1e-2, 0.1]\n",
    "}\n",
    "gsearch6 = GridSearchCV(estimator = XGBClassifier( learning_rate =0.1, n_estimators=115, max_depth=4,\n",
    " min_child_weight=6, gamma=0.4, subsample=0.7, colsample_bytree=0.8,\n",
    " objective= 'binary:logistic', nthread=4, scale_pos_weight=1,seed=27), \n",
    " param_grid = param_test6, scoring='roc_auc',n_jobs=4, cv=5)\n",
    "gsearch6.fit(data_c[predictors],data_c[target])\n",
    "gsearch6.best_params_, gsearch6.best_score_"
   ]
  },
  {
   "cell_type": "markdown",
   "metadata": {
    "datalore": {
     "hide_input_from_viewers": false,
     "hide_output_from_viewers": false,
     "type": "MD"
    }
   },
   "source": [
    "### 5.3.7 Reducing Learning Rate"
   ]
  },
  {
   "cell_type": "code",
   "execution_count": 87,
   "metadata": {
    "datalore": {
     "hide_input_from_viewers": false,
     "hide_output_from_viewers": false,
     "type": "CODE"
    }
   },
   "outputs": [
    {
     "name": "stdout",
     "output_type": "stream",
     "text": [
      "      train-auc-mean  train-auc-std  test-auc-mean  test-auc-std\n",
      "0           0.658738       0.003892       0.645630      0.013370\n",
      "1           0.679603       0.005637       0.660850      0.019331\n",
      "2           0.685760       0.006912       0.668936      0.017555\n",
      "3           0.688290       0.005464       0.668662      0.012035\n",
      "4           0.691566       0.006833       0.668541      0.015455\n",
      "...              ...            ...            ...           ...\n",
      "1079        0.814591       0.001481       0.728653      0.008674\n",
      "1080        0.814653       0.001508       0.728683      0.008664\n",
      "1081        0.814681       0.001503       0.728674      0.008637\n",
      "1082        0.814747       0.001484       0.728700      0.008665\n",
      "1083        0.814769       0.001507       0.728708      0.008684\n",
      "\n",
      "[1084 rows x 4 columns]\n",
      "\n",
      "Model Report\n",
      "Accuracy (test): 0.7207\n",
      "AUC Score (test): 0.803883\n"
     ]
    },
    {
     "data": {
      "image/png": "[encoded data removed]",
      "text/plain": [
       "<Figure size 1440x720 with 1 Axes>"
      ]
     },
     "metadata": {},
     "output_type": "display_data"
    }
   ],
   "source": [
    "xgb_final = XGBClassifier(\n",
    " learning_rate =0.01,\n",
    " n_estimators=2000,\n",
    " max_depth=4,\n",
    " min_child_weight=6,\n",
    " gamma=0.4,\n",
    " subsample=0.7,\n",
    " colsample_bytree=0.8,\n",
    " reg_alpha=1e-5,\n",
    " objective= 'binary:logistic',\n",
    " nthread=4,\n",
    " scale_pos_weight=1,\n",
    " seed=27)\n",
    "modelfit(xgb_final, data_c, predictors)"
   ]
  },
  {
   "cell_type": "markdown",
   "metadata": {
    "datalore": {
     "hide_input_from_viewers": false,
     "hide_output_from_viewers": false,
     "type": "CODE"
    }
   },
   "source": [
    "### 5.3.8 XGBoost metrics"
   ]
  },
  {
   "cell_type": "code",
   "execution_count": 89,
   "metadata": {
    "datalore": {
     "hide_input_from_viewers": false,
     "hide_output_from_viewers": false,
     "type": "CODE"
    }
   },
   "outputs": [
    {
     "name": "stdout",
     "output_type": "stream",
     "text": [
      "[17:42:57] WARNING: C:/Users/Administrator/workspace/xgboost-win64_release_1.5.1/src/learner.cc:1115: Starting in XGBoost 1.3.0, the default evaluation metric used with the objective 'binary:logistic' was changed from 'error' to 'logloss'. Explicitly set eval_metric if you'd like to restore the old behavior.\n",
      "Current score: 0.6613333333333333 \n",
      "\n",
      "Confusion matrix: [[678 147]\n",
      " [361 314]] \n",
      "\n",
      "Metrics for model evaluation:               precision    recall  f1-score   support\n",
      "\n",
      "           0       0.65      0.82      0.73       825\n",
      "           1       0.68      0.47      0.55       675\n",
      "\n",
      "    accuracy                           0.66      1500\n",
      "   macro avg       0.67      0.64      0.64      1500\n",
      "weighted avg       0.67      0.66      0.65      1500\n",
      " \n",
      "\n"
     ]
    },
    {
     "data": {
      "image/png": "[encoded data removed]",
      "text/plain": [
       "<Figure size 1440x720 with 1 Axes>"
      ]
     },
     "metadata": {},
     "output_type": "display_data"
    }
   ],
   "source": [
    "gsearch = xgb_final\n",
    "gsearch.fit(X_train, y_train)\n",
    "# print(gsearch.best_params_)\n",
    "# print(gsearch.best_score_)\n",
    "# print(gsearch.score(X_test, y_test))\n",
    "# print(confusion_matrix(y_test, gsearch.predict(X_test)))\n",
    "print('Current score:', gsearch.score(X_test, y_test), '\\n')\n",
    "print('Confusion matrix:', confusion_matrix(y_test, gsearch.predict(X_test)), '\\n')\n",
    "print('Metrics for model evaluation:', evaluate_model(y_test, gsearch.predict(X_test)), '\\n')\n",
    "plotROC(gsearch, X_test, y_test, 'Gradient Boosting')"
   ]
  },
  {
   "cell_type": "markdown",
   "metadata": {},
   "source": [
    "# Final Conclusion"
   ]
  },
  {
   "cell_type": "markdown",
   "metadata": {},
   "source": [
    "**The best and most precise results were obtained by data_c dataset, which is the merged from classifications and experiments. In addition, ensembles provided the most decent values. Precision, f1_score, recall also have been calculated to identify how does our model works.**"
   ]
  }
 ],
 "metadata": {
  "datalore": {
   "base_environment": "default",
   "computation_mode": "JUPYTER",
   "package_manager": "pip",
   "packages": [],
   "version": 1
  },
  "kernelspec": {
   "display_name": "Python 3 (ipykernel)",
   "language": "python",
   "name": "python3"
  },
  "language_info": {
   "codemirror_mode": {
    "name": "ipython",
    "version": 3
   },
   "file_extension": ".py",
   "mimetype": "text/x-python",
   "name": "python",
   "nbconvert_exporter": "python",
   "pygments_lexer": "ipython3",
   "version": "3.9.5"
  }
 },
 "nbformat": 4,
 "nbformat_minor": 4
}
