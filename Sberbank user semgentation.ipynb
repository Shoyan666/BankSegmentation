{
 "cells": [
  {
   "cell_type": "markdown",
   "metadata": {},
   "source": [
    "# Table of contents\n",
    "\n",
    "Import libraries\n",
    "\n",
    "Import data\n",
    "1. Data observing\n",
    "2. Data cleaning\n",
    "3. EDA\n",
    "4. Feature engineering\n",
    "5. Data preprocessing\n",
    "6. RFM Analysis\n",
    "7. Model selection\n",
    "8. Final conclusion"
   ]
  },
  {
   "cell_type": "markdown",
   "metadata": {
    "datalore": {
     "sheet_delimiter": false,
     "type": "MD"
    },
    "jupyter": {
     "outputs_hidden": false,
     "source_hidden": false
    }
   },
   "source": [
    "Import libraries"
   ]
  },
  {
   "cell_type": "code",
   "execution_count": 1,
   "metadata": {
    "datalore": {
     "sheet_delimiter": false,
     "type": "CODE"
    },
    "jupyter": {
     "outputs_hidden": false,
     "source_hidden": false
    }
   },
   "outputs": [],
   "source": [
    "import pandas as pd\n",
    "import numpy as np\n",
    "import matplotlib.pyplot as plt\n",
    "import seaborn as sns\n",
    "import plotly.express as px\n",
    "import plotly.graph_objects as go\n",
    "import warnings\n",
    "warnings.filterwarnings('ignore')\n",
    "from datetime import datetime\n",
    "import random\n",
    "import matplotlib.ticker as tick\n",
    "\n",
    "\n",
    "%matplotlib inline"
   ]
  },
  {
   "cell_type": "markdown",
   "metadata": {
    "datalore": {
     "sheet_delimiter": false,
     "type": "MD"
    },
    "jupyter": {
     "outputs_hidden": false,
     "source_hidden": false
    }
   },
   "source": [
    "## Import data"
   ]
  },
  {
   "cell_type": "code",
   "execution_count": 2,
   "metadata": {
    "datalore": {
     "sheet_delimiter": false,
     "type": "CODE"
    },
    "jupyter": {
     "outputs_hidden": false,
     "source_hidden": false
    }
   },
   "outputs": [],
   "source": [
    "data = pd.read_csv('transactions.csv', sep=';')\n",
    "codes = pd.read_csv('codes.csv', sep=';')\n",
    "types = pd.read_csv('types.csv',sep=';')\n",
    "train = pd.read_csv('train_set.csv', sep=';')\n",
    "test = pd.read_csv('test_set.csv', sep=';')"
   ]
  },
  {
   "cell_type": "code",
   "execution_count": 3,
   "metadata": {
    "datalore": {
     "sheet_delimiter": false,
     "type": "CODE"
    },
    "jupyter": {
     "outputs_hidden": false,
     "source_hidden": false
    }
   },
   "outputs": [],
   "source": [
    "# only clients from train\n",
    "data = data.merge(train)"
   ]
  },
  {
   "cell_type": "code",
   "execution_count": 4,
   "metadata": {
    "datalore": {
     "sheet_delimiter": false,
     "type": "CODE"
    },
    "jupyter": {
     "outputs_hidden": false,
     "source_hidden": false
    }
   },
   "outputs": [
    {
     "data": {
      "text/html": [
       "<div>\n",
       "<style scoped>\n",
       "    .dataframe tbody tr th:only-of-type {\n",
       "        vertical-align: middle;\n",
       "    }\n",
       "\n",
       "    .dataframe tbody tr th {\n",
       "        vertical-align: top;\n",
       "    }\n",
       "\n",
       "    .dataframe thead th {\n",
       "        text-align: right;\n",
       "    }\n",
       "</style>\n",
       "<table border=\"1\" class=\"dataframe\">\n",
       "  <thead>\n",
       "    <tr style=\"text-align: right;\">\n",
       "      <th></th>\n",
       "      <th>client_id</th>\n",
       "      <th>datetime</th>\n",
       "      <th>code</th>\n",
       "      <th>type</th>\n",
       "      <th>sum</th>\n",
       "      <th>target</th>\n",
       "    </tr>\n",
       "  </thead>\n",
       "  <tbody>\n",
       "    <tr>\n",
       "      <th>0</th>\n",
       "      <td>96372458</td>\n",
       "      <td>421 06:33:15</td>\n",
       "      <td>6011</td>\n",
       "      <td>2010</td>\n",
       "      <td>-561478.94</td>\n",
       "      <td>0</td>\n",
       "    </tr>\n",
       "    <tr>\n",
       "      <th>1</th>\n",
       "      <td>96372458</td>\n",
       "      <td>270 06:16:18</td>\n",
       "      <td>6011</td>\n",
       "      <td>7010</td>\n",
       "      <td>224591.58</td>\n",
       "      <td>0</td>\n",
       "    </tr>\n",
       "    <tr>\n",
       "      <th>2</th>\n",
       "      <td>96372458</td>\n",
       "      <td>97 10:48:35</td>\n",
       "      <td>4829</td>\n",
       "      <td>2370</td>\n",
       "      <td>-11229.58</td>\n",
       "      <td>0</td>\n",
       "    </tr>\n",
       "    <tr>\n",
       "      <th>3</th>\n",
       "      <td>96372458</td>\n",
       "      <td>445 07:33:38</td>\n",
       "      <td>4829</td>\n",
       "      <td>2330</td>\n",
       "      <td>-417695.42</td>\n",
       "      <td>0</td>\n",
       "    </tr>\n",
       "    <tr>\n",
       "      <th>4</th>\n",
       "      <td>96372458</td>\n",
       "      <td>4 09:33:46</td>\n",
       "      <td>4814</td>\n",
       "      <td>1030</td>\n",
       "      <td>-2245.92</td>\n",
       "      <td>0</td>\n",
       "    </tr>\n",
       "  </tbody>\n",
       "</table>\n",
       "</div>"
      ],
      "text/plain": [
       "   client_id      datetime  code  type        sum  target\n",
       "0   96372458  421 06:33:15  6011  2010 -561478.94       0\n",
       "1   96372458  270 06:16:18  6011  7010  224591.58       0\n",
       "2   96372458   97 10:48:35  4829  2370  -11229.58       0\n",
       "3   96372458  445 07:33:38  4829  2330 -417695.42       0\n",
       "4   96372458    4 09:33:46  4814  1030   -2245.92       0"
      ]
     },
     "execution_count": 4,
     "metadata": {},
     "output_type": "execute_result"
    }
   ],
   "source": [
    "data.head()"
   ]
  },
  {
   "cell_type": "markdown",
   "metadata": {
    "datalore": {
     "sheet_delimiter": false,
     "type": "MD"
    },
    "jupyter": {
     "outputs_hidden": false,
     "source_hidden": false
    }
   },
   "source": [
    "# 1. Data observe"
   ]
  },
  {
   "cell_type": "markdown",
   "metadata": {
    "datalore": {
     "sheet_delimiter": false,
     "type": "MD"
    },
    "jupyter": {
     "outputs_hidden": false,
     "source_hidden": false
    }
   },
   "source": [
    "## 1.1 Data description"
   ]
  },
  {
   "cell_type": "code",
   "execution_count": 5,
   "metadata": {
    "datalore": {
     "sheet_delimiter": false,
     "type": "CODE"
    },
    "jupyter": {
     "outputs_hidden": false,
     "source_hidden": false
    }
   },
   "outputs": [
    {
     "data": {
      "text/plain": [
       "count    9.182600e+04\n",
       "mean    -1.666997e+04\n",
       "std      6.232297e+05\n",
       "min     -4.150030e+07\n",
       "25%     -2.156079e+04\n",
       "50%     -5.239160e+03\n",
       "75%     -1.122960e+03\n",
       "max      6.737747e+07\n",
       "Name: sum, dtype: float64"
      ]
     },
     "execution_count": 5,
     "metadata": {},
     "output_type": "execute_result"
    }
   ],
   "source": [
    "# representing description of sum column(quartiles, median, mean, std, max, min)\n",
    "data['sum'].describe()"
   ]
  },
  {
   "cell_type": "code",
   "execution_count": 6,
   "metadata": {
    "datalore": {
     "sheet_delimiter": false,
     "type": "CODE"
    },
    "jupyter": {
     "outputs_hidden": false,
     "source_hidden": false
    }
   },
   "outputs": [],
   "source": [
    "# get rid of '-' sign\n",
    "data_abs = data.copy()\n",
    "data_abs['abs_sum'] = data['sum'].apply(lambda x: abs(x))"
   ]
  },
  {
   "cell_type": "code",
   "execution_count": 7,
   "metadata": {
    "datalore": {
     "sheet_delimiter": false,
     "type": "CODE"
    },
    "jupyter": {
     "outputs_hidden": false,
     "source_hidden": false
    }
   },
   "outputs": [
    {
     "data": {
      "text/plain": [
       "count    9.182600e+04\n",
       "mean     8.147385e+04\n",
       "std      6.181061e+05\n",
       "min      2.200000e-01\n",
       "25%      3.520925e+03\n",
       "50%      1.082531e+04\n",
       "75%      3.630467e+04\n",
       "max      6.737747e+07\n",
       "Name: abs_sum, dtype: float64"
      ]
     },
     "execution_count": 7,
     "metadata": {},
     "output_type": "execute_result"
    }
   ],
   "source": [
    "# describe absolute values for sum\n",
    "data_abs['abs_sum'].describe()"
   ]
  },
  {
   "cell_type": "markdown",
   "metadata": {
    "datalore": {
     "sheet_delimiter": false,
     "type": "MD"
    },
    "jupyter": {
     "outputs_hidden": false,
     "source_hidden": false
    }
   },
   "source": [
    "## 1.3 Searching for outliers"
   ]
  },
  {
   "cell_type": "code",
   "execution_count": 8,
   "metadata": {
    "datalore": {
     "sheet_delimiter": false,
     "type": "CODE"
    },
    "jupyter": {
     "outputs_hidden": false,
     "source_hidden": false
    }
   },
   "outputs": [
    {
     "data": {
      "image/png": "[encoded data removed]",
      "text/plain": [
       "<Figure size 432x288 with 1 Axes>"
      ]
     },
     "metadata": {},
     "output_type": "display_data"
    }
   ],
   "source": [
    "# boxplot which represents ouliers in absolute sum column\n",
    "sns.set_theme(style=\"whitegrid\")\n",
    "ax = sns.boxplot(x=data_abs[\"abs_sum\"])"
   ]
  },
  {
   "cell_type": "markdown",
   "metadata": {
    "datalore": {
     "sheet_delimiter": false,
     "type": "MD"
    },
    "jupyter": {
     "outputs_hidden": false,
     "source_hidden": false
    }
   },
   "source": [
    "## 1.4 Removing outlier to observe new data"
   ]
  },
  {
   "cell_type": "code",
   "execution_count": 9,
   "metadata": {
    "datalore": {
     "sheet_delimiter": false,
     "type": "CODE"
    },
    "jupyter": {
     "outputs_hidden": false,
     "source_hidden": false
    }
   },
   "outputs": [
    {
     "data": {
      "text/plain": [
       "Text(0.5, 1.0, 'Absolute sum boxplot')"
      ]
     },
     "execution_count": 9,
     "metadata": {},
     "output_type": "execute_result"
    },
    {
     "data": {
      "image/png": "[encoded data removed]",
      "text/plain": [
       "<Figure size 1440x360 with 1 Axes>"
      ]
     },
     "metadata": {},
     "output_type": "display_data"
    }
   ],
   "source": [
    "\n",
    "Q1 = data_abs['abs_sum'].quantile(0.25)\n",
    "Q3 = data_abs['abs_sum'].quantile(0.75)\n",
    "IQR = Q3 - Q1\n",
    "\n",
    "No_outliers = []\n",
    "for i in data_abs['abs_sum']:\n",
    "    if i > (Q1 - 1.5 * IQR) and i < (Q3 + 1.5 * IQR):\n",
    "        No_outliers.append(i)\n",
    "\n",
    "No_outliers = pd.DataFrame(No_outliers)\n",
    "No_outliers = No_outliers.rename(columns={0:'sum'})\n",
    "\n",
    "plt.figure(figsize=(20, 5))\n",
    "\n",
    "plt.subplot(1, 1, 1)\n",
    "plt.boxplot(No_outliers['sum'], showfliers=False)\n",
    "plt.title('Absolute sum boxplot')"
   ]
  },
  {
   "cell_type": "markdown",
   "metadata": {
    "datalore": {
     "sheet_delimiter": false,
     "type": "MD"
    },
    "jupyter": {
     "outputs_hidden": false,
     "source_hidden": false
    }
   },
   "source": [
    "## 1.5 Conclusion"
   ]
  },
  {
   "cell_type": "markdown",
   "metadata": {
    "datalore": {
     "sheet_delimiter": false,
     "type": "MD"
    },
    "jupyter": {
     "outputs_hidden": false,
     "source_hidden": false
    }
   },
   "source": [
    "**Clearing such a large number of outliers will lead to the loss of the essence of the entire clustering, so the decision was made to keep everything.**"
   ]
  },
  {
   "cell_type": "markdown",
   "metadata": {
    "datalore": {
     "sheet_delimiter": false,
     "type": "MD"
    },
    "jupyter": {
     "outputs_hidden": false,
     "source_hidden": false
    }
   },
   "source": [
    "# 2. Data Cleaning"
   ]
  },
  {
   "cell_type": "markdown",
   "metadata": {
    "datalore": {
     "sheet_delimiter": false,
     "type": "MD"
    },
    "jupyter": {
     "outputs_hidden": false,
     "source_hidden": false
    }
   },
   "source": [
    "## 2.1 Missing values"
   ]
  },
  {
   "cell_type": "code",
   "execution_count": 10,
   "metadata": {
    "datalore": {
     "sheet_delimiter": false,
     "type": "CODE"
    },
    "jupyter": {
     "outputs_hidden": false,
     "source_hidden": false
    }
   },
   "outputs": [],
   "source": [
    "# copy dataset to identify missing values\n",
    "data_missing_values = data.copy()\n",
    "data_missing_value = data_missing_values.dropna(subset=['client_id'])"
   ]
  },
  {
   "cell_type": "code",
   "execution_count": 11,
   "metadata": {
    "datalore": {
     "sheet_delimiter": false,
     "type": "CODE"
    },
    "jupyter": {
     "outputs_hidden": false,
     "source_hidden": false
    }
   },
   "outputs": [
    {
     "name": "stdout",
     "output_type": "stream",
     "text": [
      "<class 'pandas.core.frame.DataFrame'>\n",
      "Int64Index: 91826 entries, 0 to 91825\n",
      "Data columns (total 6 columns):\n",
      " #   Column     Non-Null Count  Dtype  \n",
      "---  ------     --------------  -----  \n",
      " 0   client_id  91826 non-null  int64  \n",
      " 1   datetime   91826 non-null  object \n",
      " 2   code       91826 non-null  int64  \n",
      " 3   type       91826 non-null  int64  \n",
      " 4   sum        91826 non-null  float64\n",
      " 5   target     91826 non-null  int64  \n",
      "dtypes: float64(1), int64(4), object(1)\n",
      "memory usage: 4.9+ MB\n"
     ]
    }
   ],
   "source": [
    "# information about columns in dataset \n",
    "data_missing_values.info()"
   ]
  },
  {
   "cell_type": "code",
   "execution_count": 12,
   "metadata": {
    "datalore": {
     "sheet_delimiter": false,
     "type": "CODE"
    },
    "jupyter": {
     "outputs_hidden": false,
     "source_hidden": false
    }
   },
   "outputs": [
    {
     "data": {
      "text/plain": [
       "Text(0.5, 1.0, 'Ratio of missing values per columns')"
      ]
     },
     "execution_count": 12,
     "metadata": {},
     "output_type": "execute_result"
    },
    {
     "data": {
      "image/png": "[encoded data removed]",
      "text/plain": [
       "<Figure size 360x360 with 1 Axes>"
      ]
     },
     "metadata": {},
     "output_type": "display_data"
    }
   ],
   "source": [
    "# at this plot we can see that \n",
    "plt.figure(figsize=(5, 5))\n",
    "data_missing_values.isnull().mean(axis=0).plot.barh()\n",
    "plt.title(\"Ratio of missing values per columns\")"
   ]
  },
  {
   "cell_type": "markdown",
   "metadata": {
    "datalore": {
     "sheet_delimiter": false,
     "type": "MD"
    },
    "jupyter": {
     "outputs_hidden": false,
     "source_hidden": false
    }
   },
   "source": [
    "As the result, we can observe that the dataset has no missing values in it. Hence, it means that data was correctly scrapped."
   ]
  },
  {
   "cell_type": "markdown",
   "metadata": {
    "datalore": {
     "sheet_delimiter": false,
     "type": "MD"
    },
    "jupyter": {
     "outputs_hidden": false,
     "source_hidden": false
    }
   },
   "source": [
    "## 2.2 Drop duplicates"
   ]
  },
  {
   "cell_type": "code",
   "execution_count": 13,
   "metadata": {
    "datalore": {
     "sheet_delimiter": false,
     "type": "CODE"
    },
    "jupyter": {
     "outputs_hidden": false,
     "source_hidden": false
    }
   },
   "outputs": [],
   "source": [
    "data_duplicates = data.copy()"
   ]
  },
  {
   "cell_type": "code",
   "execution_count": 14,
   "metadata": {
    "datalore": {
     "sheet_delimiter": false,
     "type": "CODE"
    },
    "jupyter": {
     "outputs_hidden": false,
     "source_hidden": false
    }
   },
   "outputs": [
    {
     "name": "stdout",
     "output_type": "stream",
     "text": [
      "Dupplicate entries: 19\n"
     ]
    }
   ],
   "source": [
    "print('Dupplicate entries: {}'.format(data_duplicates.duplicated().sum()))\n",
    "data_duplicates.drop_duplicates(inplace = True)"
   ]
  },
  {
   "cell_type": "markdown",
   "metadata": {
    "datalore": {
     "sheet_delimiter": false,
     "type": "MD"
    },
    "jupyter": {
     "outputs_hidden": false,
     "source_hidden": false
    }
   },
   "source": [
    "## 2.3 Data with invalid code/type values"
   ]
  },
  {
   "cell_type": "markdown",
   "metadata": {
    "datalore": {
     "sheet_delimiter": false,
     "type": "MD"
    },
    "jupyter": {
     "outputs_hidden": false,
     "source_hidden": false
    }
   },
   "source": [
    "### 2.3.1 Removing rows if their type/code is not found in codes/types tables"
   ]
  },
  {
   "cell_type": "code",
   "execution_count": 15,
   "metadata": {
    "datalore": {
     "sheet_delimiter": false,
     "type": "CODE"
    },
    "jupyter": {
     "outputs_hidden": false,
     "source_hidden": false
    }
   },
   "outputs": [],
   "source": [
    "type_list = types['type'].to_list()\n",
    "code_list = codes['code'].to_list()\n",
    "data = data[data['type'].isin(type_list) & data['code'].isin(code_list)]\n",
    "\n",
    "# delete unnecessary lists\n",
    "del type_list, code_list"
   ]
  },
  {
   "cell_type": "markdown",
   "metadata": {
    "datalore": {
     "sheet_delimiter": false,
     "type": "MD"
    },
    "jupyter": {
     "outputs_hidden": false,
     "source_hidden": false
    }
   },
   "source": [
    "### 2.3.2 Removing rows if the description of their code/type values are invalid in codes/types tables"
   ]
  },
  {
   "cell_type": "code",
   "execution_count": 16,
   "metadata": {
    "datalore": {
     "sheet_delimiter": false,
     "type": "CODE"
    },
    "jupyter": {
     "outputs_hidden": false,
     "source_hidden": false
    }
   },
   "outputs": [],
   "source": [
    "# removing н/д\n",
    "nan_types = types['type'][types['type_description'] == 'н/д'].to_list()\n",
    "data = data[~data['type'].isin(nan_types)]"
   ]
  },
  {
   "cell_type": "markdown",
   "metadata": {
    "datalore": {
     "sheet_delimiter": false,
     "type": "MD"
    },
    "jupyter": {
     "outputs_hidden": false,
     "source_hidden": false
    }
   },
   "source": [
    "### 2.3.3 Due to types table contains duplicates in type description we shoud remove these duplicates and replace invalid types in general dataframe "
   ]
  },
  {
   "cell_type": "code",
   "execution_count": 17,
   "metadata": {
    "datalore": {
     "sheet_delimiter": false,
     "type": "CODE"
    },
    "jupyter": {
     "outputs_hidden": false,
     "source_hidden": false
    }
   },
   "outputs": [],
   "source": [
    "# deleting duplicates of types from general data\n",
    "\n",
    "dict_for_types = {}\n",
    "for row in types.values:\n",
    "    list_of_types = []\n",
    "    for row2 in types.values:\n",
    "        if row[1] == row2[1]:\n",
    "            list_of_types.append(row2[0])\n",
    "    while len(list_of_types) > 1:\n",
    "        dict_for_types[list_of_types[-1]] = list_of_types[0]\n",
    "        list_of_types = list_of_types[:-1]\n",
    "data['type'] = data['type'].apply(lambda x: dict_for_types.get(x) if dict_for_types.get(x) != None else x)"
   ]
  },
  {
   "cell_type": "markdown",
   "metadata": {
    "datalore": {
     "sheet_delimiter": false,
     "type": "MD"
    },
    "jupyter": {
     "outputs_hidden": false,
     "source_hidden": false
    }
   },
   "source": [
    "### 2.3.4 Removing duplicates and ivalid data from types table"
   ]
  },
  {
   "cell_type": "code",
   "execution_count": 18,
   "metadata": {
    "datalore": {
     "sheet_delimiter": false,
     "type": "CODE"
    },
    "jupyter": {
     "outputs_hidden": false,
     "source_hidden": false
    }
   },
   "outputs": [],
   "source": [
    "types = types.drop_duplicates('type_description', keep='first')\n",
    "types = types[~types['type_description'].str.contains('н/д')]\n",
    "types = types[~types['type_description'].str.contains('н/д(нет данных)')]\n",
    "types = types[~types['type_description'].str.contains('XXX')]"
   ]
  },
  {
   "cell_type": "markdown",
   "metadata": {
    "datalore": {
     "sheet_delimiter": false,
     "type": "MD"
    },
    "jupyter": {
     "outputs_hidden": false,
     "source_hidden": false
    }
   },
   "source": [
    "## 2.4 New dataframe with values from types and codes tables"
   ]
  },
  {
   "cell_type": "code",
   "execution_count": 19,
   "metadata": {
    "datalore": {
     "sheet_delimiter": false,
     "type": "CODE"
    },
    "jupyter": {
     "outputs_hidden": false,
     "source_hidden": false
    }
   },
   "outputs": [
    {
     "data": {
      "text/html": [
       "<div>\n",
       "<style scoped>\n",
       "    .dataframe tbody tr th:only-of-type {\n",
       "        vertical-align: middle;\n",
       "    }\n",
       "\n",
       "    .dataframe tbody tr th {\n",
       "        vertical-align: top;\n",
       "    }\n",
       "\n",
       "    .dataframe thead th {\n",
       "        text-align: right;\n",
       "    }\n",
       "</style>\n",
       "<table border=\"1\" class=\"dataframe\">\n",
       "  <thead>\n",
       "    <tr style=\"text-align: right;\">\n",
       "      <th></th>\n",
       "      <th>client_id</th>\n",
       "      <th>datetime</th>\n",
       "      <th>sum</th>\n",
       "      <th>target</th>\n",
       "      <th>type_description</th>\n",
       "      <th>code_description</th>\n",
       "    </tr>\n",
       "  </thead>\n",
       "  <tbody>\n",
       "    <tr>\n",
       "      <th>0</th>\n",
       "      <td>96372458</td>\n",
       "      <td>421 06:33:15</td>\n",
       "      <td>-561478.94</td>\n",
       "      <td>0</td>\n",
       "      <td>Выдача наличных в АТМ</td>\n",
       "      <td>Финансовые институты — снятие наличности автом...</td>\n",
       "    </tr>\n",
       "    <tr>\n",
       "      <th>1</th>\n",
       "      <td>96372458</td>\n",
       "      <td>68 02:04:11</td>\n",
       "      <td>-426724.00</td>\n",
       "      <td>0</td>\n",
       "      <td>Выдача наличных в АТМ</td>\n",
       "      <td>Финансовые институты — снятие наличности автом...</td>\n",
       "    </tr>\n",
       "    <tr>\n",
       "      <th>2</th>\n",
       "      <td>96372458</td>\n",
       "      <td>433 06:45:32</td>\n",
       "      <td>-112295.79</td>\n",
       "      <td>0</td>\n",
       "      <td>Выдача наличных в АТМ</td>\n",
       "      <td>Финансовые институты — снятие наличности автом...</td>\n",
       "    </tr>\n",
       "    <tr>\n",
       "      <th>3</th>\n",
       "      <td>21717441</td>\n",
       "      <td>55 13:38:47</td>\n",
       "      <td>-44918.32</td>\n",
       "      <td>0</td>\n",
       "      <td>Выдача наличных в АТМ</td>\n",
       "      <td>Финансовые институты — снятие наличности автом...</td>\n",
       "    </tr>\n",
       "    <tr>\n",
       "      <th>4</th>\n",
       "      <td>21717441</td>\n",
       "      <td>294 13:27:44</td>\n",
       "      <td>-898366.31</td>\n",
       "      <td>0</td>\n",
       "      <td>Выдача наличных в АТМ</td>\n",
       "      <td>Финансовые институты — снятие наличности автом...</td>\n",
       "    </tr>\n",
       "  </tbody>\n",
       "</table>\n",
       "</div>"
      ],
      "text/plain": [
       "   client_id      datetime        sum  target       type_description  \\\n",
       "0   96372458  421 06:33:15 -561478.94       0  Выдача наличных в АТМ   \n",
       "1   96372458   68 02:04:11 -426724.00       0  Выдача наличных в АТМ   \n",
       "2   96372458  433 06:45:32 -112295.79       0  Выдача наличных в АТМ   \n",
       "3   21717441   55 13:38:47  -44918.32       0  Выдача наличных в АТМ   \n",
       "4   21717441  294 13:27:44 -898366.31       0  Выдача наличных в АТМ   \n",
       "\n",
       "                                    code_description  \n",
       "0  Финансовые институты — снятие наличности автом...  \n",
       "1  Финансовые институты — снятие наличности автом...  \n",
       "2  Финансовые институты — снятие наличности автом...  \n",
       "3  Финансовые институты — снятие наличности автом...  \n",
       "4  Финансовые институты — снятие наличности автом...  "
      ]
     },
     "execution_count": 19,
     "metadata": {},
     "output_type": "execute_result"
    }
   ],
   "source": [
    "data_merged = data.merge(types).merge(codes)\n",
    "del data_merged['code'], data_merged['type']\n",
    "data_merged.head()"
   ]
  },
  {
   "cell_type": "markdown",
   "metadata": {
    "datalore": {
     "sheet_delimiter": false,
     "type": "MD"
    },
    "jupyter": {
     "outputs_hidden": false,
     "source_hidden": false
    }
   },
   "source": [
    "# 3. Exploratory Data Analysis"
   ]
  },
  {
   "cell_type": "markdown",
   "metadata": {
    "datalore": {
     "sheet_delimiter": false,
     "type": "MD"
    },
    "jupyter": {
     "outputs_hidden": false,
     "source_hidden": false
    }
   },
   "source": [
    "## 3.1 Transaction lineplots"
   ]
  },
  {
   "cell_type": "code",
   "execution_count": 20,
   "metadata": {
    "datalore": {
     "sheet_delimiter": false,
     "type": "CODE"
    },
    "jupyter": {
     "outputs_hidden": false,
     "source_hidden": false
    }
   },
   "outputs": [
    {
     "data": {
      "image/png": "[encoded data removed]",
      "text/plain": [
       "<Figure size 1080x648 with 1 Axes>"
      ]
     },
     "metadata": {},
     "output_type": "display_data"
    }
   ],
   "source": [
    "data_to_lineplot = data.copy()\n",
    "data_to_lineplot['day'] = data_to_lineplot['datetime'].apply(lambda x: int(x.split()[0]))\n",
    "data_to_lineplot['abs_sum'] = data_to_lineplot['sum'].apply(lambda x: abs(x))\n",
    "def reformat_values(val, pos):\n",
    "    if abs(val) >= 1000000000:\n",
    "        val = round(val/1000000000)\n",
    "        new_format = '{:}B'.format(val)\n",
    "    elif abs(val) >= 1000000:\n",
    "        val = round(val/1000000)\n",
    "        new_format = '{:}M'.format(val)\n",
    "    elif abs(val) >= 1000:\n",
    "        val = round(val/1000)\n",
    "        new_format = '{:}K'.format(val)\n",
    "    elif abs(val) < 1000:\n",
    "        new_format = round(val)\n",
    "    else:\n",
    "        new_format = val\n",
    "            \n",
    "    return new_format\n",
    "\n",
    "data_to_lineplot_grouped_by_day = data_to_lineplot[['day', 'abs_sum', 'sum']].groupby('day').sum()\n",
    "plt.figure(figsize = (15, 9))\n",
    "plt.plot(data_to_lineplot_grouped_by_day.index, \n",
    "        data_to_lineplot_grouped_by_day['abs_sum'])\n",
    "plt.xlabel('Days')\n",
    "plt.ylabel('Transaction sum')\n",
    "plt.title('Sum of all transactions by time')\n",
    "plt.gca().yaxis.set_major_formatter(tick.FuncFormatter(reformat_values))\n",
    "plt.show()"
   ]
  },
  {
   "cell_type": "markdown",
   "metadata": {
    "datalore": {
     "sheet_delimiter": false,
     "type": "MD"
    },
    "jupyter": {
     "outputs_hidden": false,
     "source_hidden": false
    }
   },
   "source": [
    "**Abnormal outliers were detected around day 200, so we are building another lineplot to determine if this was due to a withdrawal of money from the account or its replenishment.**"
   ]
  },
  {
   "cell_type": "code",
   "execution_count": 21,
   "metadata": {
    "datalore": {
     "sheet_delimiter": false,
     "type": "CODE"
    },
    "jupyter": {
     "outputs_hidden": false,
     "source_hidden": false
    }
   },
   "outputs": [
    {
     "data": {
      "image/png": "[encoded data removed]",
      "text/plain": [
       "<Figure size 1080x648 with 1 Axes>"
      ]
     },
     "metadata": {},
     "output_type": "display_data"
    }
   ],
   "source": [
    "data_to_lineplot_only_pos = data_to_lineplot[data_to_lineplot['sum']>=0]\n",
    "data_to_lineplot_only_neg = data_to_lineplot[data_to_lineplot['sum']<0]\n",
    "data_to_lineplot_only_pos_grouped_by_day = data_to_lineplot_only_pos.groupby('day').sum()\n",
    "data_to_lineplot_only_neg_grouped_by_day = data_to_lineplot_only_neg.groupby('day').sum()\n",
    "plt.figure(figsize = (15, 9))\n",
    "plt.plot(data_to_lineplot_grouped_by_day.index,\n",
    "         data_to_lineplot_grouped_by_day['sum'], label = 'All transactions', color = 'blue')\n",
    "plt.plot(data_to_lineplot_only_pos_grouped_by_day.index,\n",
    "         data_to_lineplot_only_pos_grouped_by_day['sum'], label = 'Only positive transactions', color = 'green')\n",
    "plt.plot(data_to_lineplot_only_neg_grouped_by_day.index,\n",
    "         data_to_lineplot_only_neg_grouped_by_day['sum'], label = 'Only negative transactions', color = 'red')\n",
    "plt.xlabel('Days')\n",
    "plt.ylabel('Transaction sum')\n",
    "plt.title('Sum of all transactions separated by their sign with respect to time')\n",
    "plt.gca().yaxis.set_major_formatter(tick.FuncFormatter(reformat_values))\n",
    "plt.legend()\n",
    "plt.show()"
   ]
  },
  {
   "cell_type": "markdown",
   "metadata": {
    "datalore": {
     "sheet_delimiter": false,
     "type": "MD"
    },
    "jupyter": {
     "outputs_hidden": false,
     "source_hidden": false
    }
   },
   "source": [
    "## 3.2 Descriptive analysis of 195th day"
   ]
  },
  {
   "cell_type": "code",
   "execution_count": 22,
   "metadata": {
    "datalore": {
     "sheet_delimiter": false,
     "type": "CODE"
    },
    "jupyter": {
     "outputs_hidden": false,
     "source_hidden": false
    }
   },
   "outputs": [],
   "source": [
    "data_day_195 = data_to_lineplot_only_pos[data_to_lineplot_only_pos['day'] == 195]"
   ]
  },
  {
   "cell_type": "code",
   "execution_count": 23,
   "metadata": {
    "datalore": {
     "sheet_delimiter": false,
     "type": "CODE"
    },
    "jupyter": {
     "outputs_hidden": false,
     "source_hidden": false
    }
   },
   "outputs": [],
   "source": [
    "data_day_195_code = data_day_195[['sum', 'code']].groupby(['code']).sum().reset_index()\n",
    "data_day_195_type = data_day_195[['sum', 'type']].groupby(['type']).sum().reset_index()"
   ]
  },
  {
   "cell_type": "code",
   "execution_count": 24,
   "metadata": {
    "datalore": {
     "sheet_delimiter": false,
     "type": "CODE"
    },
    "jupyter": {
     "outputs_hidden": false,
     "source_hidden": false
    }
   },
   "outputs": [
    {
     "data": {
      "text/html": [
       "<div>\n",
       "<style scoped>\n",
       "    .dataframe tbody tr th:only-of-type {\n",
       "        vertical-align: middle;\n",
       "    }\n",
       "\n",
       "    .dataframe tbody tr th {\n",
       "        vertical-align: top;\n",
       "    }\n",
       "\n",
       "    .dataframe thead th {\n",
       "        text-align: right;\n",
       "    }\n",
       "</style>\n",
       "<table border=\"1\" class=\"dataframe\">\n",
       "  <thead>\n",
       "    <tr style=\"text-align: right;\">\n",
       "      <th></th>\n",
       "      <th>code</th>\n",
       "      <th>sum</th>\n",
       "    </tr>\n",
       "  </thead>\n",
       "  <tbody>\n",
       "    <tr>\n",
       "      <th>0</th>\n",
       "      <td>5641</td>\n",
       "      <td>17944.87</td>\n",
       "    </tr>\n",
       "    <tr>\n",
       "      <th>1</th>\n",
       "      <td>6010</td>\n",
       "      <td>69386639.78</td>\n",
       "    </tr>\n",
       "    <tr>\n",
       "      <th>2</th>\n",
       "      <td>6011</td>\n",
       "      <td>393035.28</td>\n",
       "    </tr>\n",
       "    <tr>\n",
       "      <th>3</th>\n",
       "      <td>6012</td>\n",
       "      <td>134754.95</td>\n",
       "    </tr>\n",
       "  </tbody>\n",
       "</table>\n",
       "</div>"
      ],
      "text/plain": [
       "   code          sum\n",
       "0  5641     17944.87\n",
       "1  6010  69386639.78\n",
       "2  6011    393035.28\n",
       "3  6012    134754.95"
      ]
     },
     "execution_count": 24,
     "metadata": {},
     "output_type": "execute_result"
    }
   ],
   "source": [
    "data_day_195_code"
   ]
  },
  {
   "cell_type": "code",
   "execution_count": 25,
   "metadata": {
    "datalore": {
     "sheet_delimiter": false,
     "type": "CODE"
    },
    "jupyter": {
     "outputs_hidden": false,
     "source_hidden": false
    }
   },
   "outputs": [
    {
     "data": {
      "image/png": "[encoded data removed]",
      "text/plain": [
       "<Figure size 1080x720 with 1 Axes>"
      ]
     },
     "metadata": {},
     "output_type": "display_data"
    }
   ],
   "source": [
    "colors = sns.color_palette('pastel')[0:5]\n",
    "plt.figure(figsize=(15, 10))\n",
    "patches, texts = plt.pie(data_day_195_code['sum'])\n",
    "plt.legend(patches, labels=data_day_195_code['code'], loc=\"best\")\n",
    "plt.show()"
   ]
  },
  {
   "cell_type": "code",
   "execution_count": 26,
   "metadata": {
    "datalore": {
     "sheet_delimiter": false,
     "type": "CODE"
    },
    "jupyter": {
     "outputs_hidden": false,
     "source_hidden": false
    }
   },
   "outputs": [
    {
     "data": {
      "image/png": "[encoded data removed]",
      "text/plain": [
       "<Figure size 1080x720 with 1 Axes>"
      ]
     },
     "metadata": {},
     "output_type": "display_data"
    }
   ],
   "source": [
    "plt.figure(figsize=(15, 10))\n",
    "patches, texts = plt.pie(data_day_195_type['sum'])\n",
    "plt.legend(patches, data_day_195_type['type'], loc=\"best\")\n",
    "plt.show()"
   ]
  },
  {
   "cell_type": "markdown",
   "metadata": {
    "datalore": {
     "sheet_delimiter": false,
     "type": "MD"
    },
    "jupyter": {
     "outputs_hidden": false,
     "source_hidden": false
    }
   },
   "source": [
    "$$**As you can see, for transaction code 6010 and transaction type 7070, there are abnormal values for the amount of transactions.**"
   ]
  },
  {
   "cell_type": "code",
   "execution_count": 27,
   "metadata": {
    "datalore": {
     "sheet_delimiter": false,
     "type": "CODE"
    },
    "jupyter": {
     "outputs_hidden": false,
     "source_hidden": false
    }
   },
   "outputs": [
    {
     "data": {
      "image/png": "[encoded data removed]",
      "text/plain": [
       "<Figure size 720x432 with 1 Axes>"
      ]
     },
     "metadata": {},
     "output_type": "display_data"
    }
   ],
   "source": [
    "plt.figure(figsize=(10, 6))\n",
    "plt.boxplot(data_day_195['sum'], vert = False)\n",
    "plt.gca().xaxis.set_major_formatter(tick.FuncFormatter(reformat_values))\n",
    "plt.xlabel('Transaction sum')\n",
    "plt.title('Transaction data at the 195th day')\n",
    "plt.show()"
   ]
  },
  {
   "cell_type": "markdown",
   "metadata": {
    "datalore": {
     "sheet_delimiter": false,
     "type": "MD"
    },
    "jupyter": {
     "outputs_hidden": false,
     "source_hidden": false
    }
   },
   "source": [
    "**Exploring 195th day, we can see an outlier with thr transaction with the sum of about 70 million**"
   ]
  },
  {
   "cell_type": "code",
   "execution_count": 28,
   "metadata": {
    "datalore": {
     "sheet_delimiter": false,
     "type": "CODE"
    },
    "jupyter": {
     "outputs_hidden": false,
     "source_hidden": false
    }
   },
   "outputs": [
    {
     "name": "stdout",
     "output_type": "stream",
     "text": [
      "Mean transaction sum 13158693.38\n",
      "Median transaction sum 11229578.86\n"
     ]
    },
    {
     "data": {
      "image/png": "[encoded data removed]",
      "text/plain": [
       "<Figure size 720x432 with 1 Axes>"
      ]
     },
     "metadata": {},
     "output_type": "display_data"
    }
   ],
   "source": [
    "abnormalId = list(data_day_195[data_day_195['sum']>50000000]['client_id'])[0]\n",
    "abnormalClientData = data_to_lineplot[data_to_lineplot['client_id'] == abnormalId]\n",
    "print('Mean transaction sum', round(np.mean(abnormalClientData['abs_sum']), 2))\n",
    "print('Median transaction sum', np.median(abnormalClientData['abs_sum']))\n",
    "plt.figure(figsize=(10, 6))\n",
    "plt.boxplot(abnormalClientData['abs_sum'], vert = False)\n",
    "plt.title('Transaction data of client with abnormal transaction sum')\n",
    "plt.gca().xaxis.set_major_formatter(tick.FuncFormatter(reformat_values))\n",
    "plt.show()"
   ]
  },
  {
   "cell_type": "markdown",
   "metadata": {
    "datalore": {
     "sheet_delimiter": false,
     "type": "MD"
    },
    "jupyter": {
     "outputs_hidden": false,
     "source_hidden": false
    }
   },
   "source": [
    "**It seems that we have reached out to Putin.**"
   ]
  },
  {
   "cell_type": "markdown",
   "metadata": {
    "datalore": {
     "sheet_delimiter": false,
     "type": "MD"
    },
    "jupyter": {
     "outputs_hidden": false,
     "source_hidden": false
    }
   },
   "source": [
    "**Diving into history of client that made huge transaction, affecting whole 195th day, we can get access to his data**"
   ]
  },
  {
   "cell_type": "markdown",
   "metadata": {
    "datalore": {
     "sheet_delimiter": false,
     "type": "MD"
    },
    "jupyter": {
     "outputs_hidden": false,
     "source_hidden": false
    }
   },
   "source": [
    "## 3.3 Distribution of all transactions split by their type descriptions"
   ]
  },
  {
   "cell_type": "code",
   "execution_count": 29,
   "metadata": {
    "datalore": {
     "sheet_delimiter": false,
     "type": "CODE"
    },
    "jupyter": {
     "outputs_hidden": false,
     "source_hidden": false
    }
   },
   "outputs": [],
   "source": [
    "data_merged['abs_sum'] = data_merged['sum'].apply(lambda x: abs(x))\n",
    "data_to_piechart_type = data_merged.groupby('type_description').sum().sort_values('abs_sum', ascending = False).drop(['sum', \n",
    "'client_id', 'target'], axis = 1).reset_index().sort_values('abs_sum', ascending=False)\n",
    "data_to_piechart_type = pd.concat([data_to_piechart_type.head(), pd.DataFrame({'type_description':'Other', \n",
    "'abs_sum':data_to_piechart_type.iloc[10:].sum()[1]}, index=[11])])\n",
    "data_to_piechart_code = data_merged.groupby('code_description').sum().sort_values('abs_sum', ascending = False).drop(['sum',\n",
    "'client_id', 'target'], axis = 1).reset_index().sort_values('abs_sum', ascending=False)\n",
    "data_to_piechart_code = pd.concat([data_to_piechart_code.head(), pd.DataFrame({'code_description':'Other',\n",
    "'abs_sum':data_to_piechart_code.iloc[10:].sum()[1]}, index=[11])])\n",
    "explode = data_to_piechart_type['abs_sum'].apply(lambda x:x > 1000000000)\n",
    "explode = explode.apply(lambda x:0.1 if x == True else 0)"
   ]
  },
  {
   "cell_type": "code",
   "execution_count": 30,
   "metadata": {
    "datalore": {
     "sheet_delimiter": false,
     "type": "CODE"
    },
    "jupyter": {
     "outputs_hidden": false,
     "source_hidden": false
    }
   },
   "outputs": [
    {
     "data": {
      "text/plain": [
       "<matplotlib.legend.Legend at 0x21362728cd0>"
      ]
     },
     "execution_count": 30,
     "metadata": {},
     "output_type": "execute_result"
    },
    {
     "data": {
      "image/png": "[encoded data removed]",
      "text/plain": [
       "<Figure size 1152x648 with 1 Axes>"
      ]
     },
     "metadata": {},
     "output_type": "display_data"
    }
   ],
   "source": [
    "plt.figure(figsize=(16, 9))\n",
    "patches, texts, perc = plt.pie(data_to_piechart_type['abs_sum'], explode = explode, autopct='%1.1f%%',shadow=True)\n",
    "plt.legend(patches, data_to_piechart_type['type_description'], loc=\"best\")"
   ]
  },
  {
   "cell_type": "markdown",
   "metadata": {
    "datalore": {
     "sheet_delimiter": false,
     "type": "MD"
    },
    "jupyter": {
     "outputs_hidden": false,
     "source_hidden": false
    }
   },
   "source": [
    "## 3.4 Transactions distribution by time"
   ]
  },
  {
   "cell_type": "code",
   "execution_count": 31,
   "metadata": {
    "datalore": {
     "sheet_delimiter": false,
     "type": "CODE"
    },
    "jupyter": {
     "outputs_hidden": false,
     "source_hidden": false
    }
   },
   "outputs": [],
   "source": [
    "# copy dataset to work with time\n",
    "hours_distribution = data.copy()\n",
    "# split days and time from column datetime\n",
    "hours_distribution[['day', 'time']] = hours_distribution['datetime'].str.split(' ', 1, expand=True)\n",
    "# get only hours from time column\n",
    "hours_distribution['time'] = pd.to_datetime(hours_distribution['time'], format='%H:%M:%S')\n",
    "hours_distribution['hh']= hours_distribution['time'].dt.hour\n",
    "\n",
    "time_hh = []\n",
    "for i in hours_distribution['hh']:\n",
    "    if i >=0 and i < 13:\n",
    "        time_hh.append(\"Morning\")\n",
    "    elif i >= 13 and i<=17:\n",
    "        time_hh.append(\"Afternoon\")\n",
    "    elif i > 17 and i <= 19:\n",
    "        time_hh.append(\"Evening\")\n",
    "    elif i > 19:\n",
    "        time_hh.append(\"Night\")\n",
    "\n",
    "# inserting times in transactions time of day column\n",
    "hours_distribution[\"TransactionTimeOfDay\"] = time_hh"
   ]
  },
  {
   "cell_type": "code",
   "execution_count": 32,
   "metadata": {
    "datalore": {
     "sheet_delimiter": false,
     "type": "CODE"
    },
    "jupyter": {
     "outputs_hidden": false,
     "source_hidden": false
    }
   },
   "outputs": [],
   "source": [
    "# creating dictionary with colors\n",
    "cnames = {\n",
    "'aqua': '#00FFFF',\n",
    "'aquamarine': '#7FFFD4',\n",
    "'bisque': '#FFE4C4',\n",
    "'black': '#000000',\n",
    "'blanchedalmond': '#FFEBCD',\n",
    "'blue': '#0000FF',\n",
    "'blueviolet': '#8A2BE2',\n",
    "'brown': '#A52A2A',\n",
    "'burlywood': '#DEB887',\n",
    "'cadetblue': '#5F9EA0',\n",
    "'chartreuse': '#7FFF00',\n",
    "'chocolate': '#D2691E',\n",
    "'coral': '#FF7F50',\n",
    "'cornflowerblue': '#6495ED',\n",
    "'crimson': '#DC143C',\n",
    "'cyan': '#00FFFF',\n",
    "'darkblue': '#00008B',\n",
    "'darkcyan': '#008B8B',\n",
    "'darkgoldenrod': '#B8860B',\n",
    "'darkgray': '#A9A9A9',\n",
    "'darkgreen': '#006400',\n",
    "'darkkhaki': '#BDB76B',\n",
    "'darkmagenta': '#8B008B',\n",
    "'darkolivegreen': '#556B2F',\n",
    "'darkorange': '#FF8C00',\n",
    "'darkorchid': '#9932CC',\n",
    "'darkred': '#8B0000',\n",
    "'darksalmon': '#E9967A',\n",
    "'darkseagreen': '#8FBC8F',\n",
    "'darkslateblue': '#483D8B',\n",
    "'darkslategray': '#2F4F4F',\n",
    "'darkturquoise': '#00CED1',\n",
    "'darkviolet': '#9400D3',\n",
    "'deeppink': '#FF1493',\n",
    "'deepskyblue': '#00BFFF',\n",
    "'dodgerblue': '#1E90FF',\n",
    "'firebrick': '#B22222',\n",
    "'forestgreen': '#228B22',\n",
    "'fuchsia': '#FF00FF',\n",
    "'gainsboro': '#DCDCDC',\n",
    "'gold': '#FFD700',\n",
    "'goldenrod': '#DAA520',\n",
    "'gray': '#808080',\n",
    "'green': '#008000',\n",
    "'greenyellow': '#ADFF2F',\n",
    "'hotpink': '#FF69B4',\n",
    "'indianred': '#CD5C5C',\n",
    "'indigo': '#4B0082',\n",
    "'khaki': '#F0E68C',\n",
    "'lavender': '#E6E6FA',\n",
    "'lawngreen': '#7CFC00',\n",
    "'lightcoral': '#F08080',\n",
    "'lightcyan': '#E0FFFF',\n",
    "'lightgreen': '#90EE90',\n",
    "'lightsalmon': '#FFA07A',\n",
    "'lightseagreen': '#20B2AA',\n",
    "'lightskyblue': '#87CEFA',\n",
    "'lightsteelblue': '#B0C4DE',\n",
    "'lime': '#00FF00',\n",
    "'limegreen': '#32CD32',\n",
    "'linen': '#FAF0E6',\n",
    "'magenta': '#FF00FF',\n",
    "'maroon': '#800000',\n",
    "'mediumaquamarine': '#66CDAA',\n",
    "'mediumblue': '#0000CD',\n",
    "'mediumorchid': '#BA55D3',\n",
    "'mediumpurple': '#9370DB',\n",
    "'mediumseagreen': '#3CB371',\n",
    "'mediumslateblue': '#7B68EE',\n",
    "'mediumspringgreen': '#00FA9A',\n",
    "'mediumturquoise': '#48D1CC',\n",
    "'mediumvioletred': '#C71585',\n",
    "'midnightblue': '#191970',\n",
    "'mistyrose': '#FFE4E1',\n",
    "'moccasin': '#FFE4B5',\n",
    "'navy': '#000080',\n",
    "'olive': '#808000',\n",
    "'olivedrab': '#6B8E23',\n",
    "'orange': '#FFA500',\n",
    "'orangered': '#FF4500',\n",
    "'orchid': '#DA70D6',\n",
    "'palegoldenrod': '#EEE8AA',\n",
    "'palegreen': '#98FB98',\n",
    "'paleturquoise': '#AFEEEE',\n",
    "'palevioletred': '#DB7093',\n",
    "'papayawhip': '#FFEFD5',\n",
    "'peachpuff': '#FFDAB9',\n",
    "'peru': '#CD853F',\n",
    "'pink': '#FFC0CB',\n",
    "'plum': '#DDA0DD',\n",
    "'powderblue': '#B0E0E6',\n",
    "'purple': '#800080',\n",
    "'red': '#FF0000',\n",
    "'rosybrown': '#BC8F8F',\n",
    "'royalblue': '#4169E1',\n",
    "'saddlebrown': '#8B4513',\n",
    "'salmon': '#FA8072',\n",
    "'sandybrown': '#FAA460',\n",
    "'seagreen': '#2E8B57',\n",
    "'sienna': '#A0522D',\n",
    "'silver': '#C0C0C0',\n",
    "'skyblue': '#87CEEB',\n",
    "'slateblue': '#6A5ACD',\n",
    "'slategray': '#708090',\n",
    "'springgreen': '#00FF7F',\n",
    "'steelblue': '#4682B4',\n",
    "'tan': '#D2B48C',\n",
    "'teal': '#008080',\n",
    "'thistle': '#D8BFD8',\n",
    "'tomato': '#FF6347',\n",
    "'turquoise': '#40E0D0',\n",
    "'violet': '#EE82EE',\n",
    "'yellow': '#FFFF00',\n",
    "'yellowgreen': '#9ACD32'}\n",
    "colors = list(cnames.keys())"
   ]
  },
  {
   "cell_type": "code",
   "execution_count": 33,
   "metadata": {
    "datalore": {
     "sheet_delimiter": false,
     "type": "CODE"
    },
    "jupyter": {
     "outputs_hidden": false,
     "source_hidden": false
    }
   },
   "outputs": [
    {
     "data": {
      "image/png": "[encoded data removed]",
      "text/plain": [
       "<Figure size 1080x360 with 1 Axes>"
      ]
     },
     "metadata": {},
     "output_type": "display_data"
    }
   ],
   "source": [
    "plt.figure(figsize=(15,5))\n",
    "random.shuffle(colors)\n",
    "un, count = np.unique(hours_distribution.hh.values.astype('int32'),return_counts=True)\n",
    "un, count = zip(*sorted(zip(un, count)))\n",
    "plt.title(\"Transaction Hour of Day Distribution\")\n",
    "plt.xlabel(\"Hour of Day\")\n",
    "plt.ylabel(\"Count\")\n",
    "plt.tick_params(bottom=False,left=False)\n",
    "plt.bar([str(i) for i in un], count, color=colors)\n",
    "plt.show()"
   ]
  },
  {
   "cell_type": "markdown",
   "metadata": {
    "datalore": {
     "sheet_delimiter": false,
     "type": "MD"
    },
    "jupyter": {
     "outputs_hidden": false,
     "source_hidden": false
    }
   },
   "source": [
    "This plot represents transactions distribution by time. The majority of transactions were completed at midnight. Hence, we can suggest that it was the subscription to services(e.g. Apple Music, Netflix, Spotify, YandexPlus)"
   ]
  },
  {
   "cell_type": "code",
   "execution_count": 34,
   "metadata": {
    "datalore": {
     "sheet_delimiter": false,
     "type": "CODE"
    },
    "jupyter": {
     "outputs_hidden": false,
     "source_hidden": false
    }
   },
   "outputs": [
    {
     "data": {
      "image/png": "[encoded data removed]",
      "text/plain": [
       "<Figure size 1080x360 with 1 Axes>"
      ]
     },
     "metadata": {},
     "output_type": "display_data"
    }
   ],
   "source": [
    "plt.figure(figsize=(15,5))\n",
    "random.shuffle(colors)\n",
    "un, count = np.unique(hours_distribution.TransactionTimeOfDay.values,return_counts=True)\n",
    "count, un = zip(*sorted(zip(count, un)))\n",
    "plt.title(\"Transaction Time of Day Distribution\")\n",
    "plt.xlabel(\"Time of Day\")\n",
    "plt.ylabel(\"Count\")\n",
    "plt.tick_params(bottom=False,left=False)\n",
    "plt.bar(un, count, color=colors)\n",
    "plt.show()"
   ]
  },
  {
   "cell_type": "markdown",
   "metadata": {
    "datalore": {
     "sheet_delimiter": false,
     "type": "MD"
    },
    "jupyter": {
     "outputs_hidden": false,
     "source_hidden": false
    }
   },
   "source": [
    "Since we put '00' (midnight) at 'morning' in the list 'the time of the day', the graph represents column 'morning' as the highest one because of the subscriptions."
   ]
  },
  {
   "cell_type": "markdown",
   "metadata": {
    "datalore": {
     "sheet_delimiter": false,
     "type": "MD"
    },
    "jupyter": {
     "outputs_hidden": false,
     "source_hidden": false
    }
   },
   "source": [
    "# 4. Feature Engineering"
   ]
  },
  {
   "cell_type": "markdown",
   "metadata": {
    "datalore": {
     "sheet_delimiter": false,
     "type": "MD"
    },
    "jupyter": {
     "outputs_hidden": false,
     "source_hidden": false
    }
   },
   "source": [
    "**At this stage, we are going to create a new dataframe step by step by adding new features.**"
   ]
  },
  {
   "cell_type": "markdown",
   "metadata": {
    "datalore": {
     "sheet_delimiter": false,
     "type": "MD"
    },
    "jupyter": {
     "outputs_hidden": false,
     "source_hidden": false
    }
   },
   "source": [
    "## 4.1 Absolute sum of transactions (abs_sum) and account balance (sum)"
   ]
  },
  {
   "cell_type": "code",
   "execution_count": 35,
   "metadata": {
    "datalore": {
     "sheet_delimiter": false,
     "type": "CODE"
    },
    "jupyter": {
     "outputs_hidden": false,
     "source_hidden": false
    }
   },
   "outputs": [],
   "source": [
    "data_to_clusterization = data.copy()\n",
    "data_to_clusterization['abs_sum'] = data_to_clusterization['sum'].apply(lambda x: abs(x))\n",
    "data_to_clusterization = data_to_clusterization[['sum', 'abs_sum', 'client_id']].groupby('client_id').sum()"
   ]
  },
  {
   "cell_type": "markdown",
   "metadata": {
    "datalore": {
     "sheet_delimiter": false,
     "type": "MD"
    },
    "jupyter": {
     "outputs_hidden": false,
     "source_hidden": false
    }
   },
   "source": [
    "## 4.2 Number of transactions (n_transactions)"
   ]
  },
  {
   "cell_type": "code",
   "execution_count": 36,
   "metadata": {
    "datalore": {
     "sheet_delimiter": false,
     "type": "CODE"
    },
    "jupyter": {
     "outputs_hidden": false,
     "source_hidden": false
    }
   },
   "outputs": [],
   "source": [
    "data_to_clusterization = data_to_clusterization.join(data['client_id'].value_counts()).rename(columns={'client_id':'n_transactions'})"
   ]
  },
  {
   "cell_type": "markdown",
   "metadata": {
    "datalore": {
     "sheet_delimiter": false,
     "type": "MD"
    },
    "jupyter": {
     "outputs_hidden": false,
     "source_hidden": false
    }
   },
   "source": [
    "## 4.3 Average transaction (average_transaction)"
   ]
  },
  {
   "cell_type": "code",
   "execution_count": 37,
   "metadata": {
    "datalore": {
     "sheet_delimiter": false,
     "type": "CODE"
    },
    "jupyter": {
     "outputs_hidden": false,
     "source_hidden": false
    }
   },
   "outputs": [],
   "source": [
    "data_to_clusterization['average_transaction'] = data_to_clusterization['abs_sum']/data_to_clusterization['n_transactions']"
   ]
  },
  {
   "cell_type": "markdown",
   "metadata": {
    "datalore": {
     "sheet_delimiter": false,
     "type": "MD"
    },
    "jupyter": {
     "outputs_hidden": false,
     "source_hidden": false
    }
   },
   "source": [
    "## 4.4 Gender (gender)"
   ]
  },
  {
   "cell_type": "code",
   "execution_count": 38,
   "metadata": {
    "datalore": {
     "sheet_delimiter": false,
     "type": "CODE"
    },
    "jupyter": {
     "outputs_hidden": false,
     "source_hidden": false
    }
   },
   "outputs": [],
   "source": [
    "data_to_clusterization = data_to_clusterization.join(data[['client_id', 'target']].drop_duplicates('client_id').set_index('client_id'))\n",
    "data_to_clusterization.rename(columns={'target':'gender'}, inplace=True)"
   ]
  },
  {
   "cell_type": "markdown",
   "metadata": {
    "datalore": {
     "sheet_delimiter": false,
     "type": "MD"
    },
    "jupyter": {
     "outputs_hidden": false,
     "source_hidden": false
    }
   },
   "source": [
    "## 4.5 Percentage from total sum of transactions (percentage)"
   ]
  },
  {
   "cell_type": "code",
   "execution_count": 39,
   "metadata": {
    "datalore": {
     "sheet_delimiter": false,
     "type": "CODE"
    },
    "jupyter": {
     "outputs_hidden": false,
     "source_hidden": false
    }
   },
   "outputs": [],
   "source": [
    "data_merged_A = data_merged.loc[:, ['client_id', 'sum']]\n",
    "data_merged_A = pd.DataFrame(data_merged_A.groupby('client_id')['sum'].apply(lambda c: c.abs().sum())).reset_index()\n",
    "percentage = pd.DataFrame(data_merged_A.groupby('client_id')['sum'].apply(lambda c: c.abs().sum()) / data_merged['sum'].abs().sum()).reset_index()\n",
    "data_to_clusterization = data_to_clusterization.join(percentage.set_index('client_id').rename(columns={'sum':'percentage'}))"
   ]
  },
  {
   "cell_type": "markdown",
   "metadata": {
    "datalore": {
     "sheet_delimiter": false,
     "type": "MD"
    },
    "jupyter": {
     "outputs_hidden": false,
     "source_hidden": false
    }
   },
   "source": [
    "## 4.6 Number of transactions for each cluster of code and type"
   ]
  },
  {
   "cell_type": "markdown",
   "metadata": {
    "datalore": {
     "sheet_delimiter": false,
     "type": "MD"
    },
    "jupyter": {
     "outputs_hidden": false,
     "source_hidden": false
    }
   },
   "source": [
    "### 4.6.1 Installing required library and its modules"
   ]
  },
  {
   "cell_type": "code",
   "execution_count": 40,
   "metadata": {
    "datalore": {
     "sheet_delimiter": false,
     "type": "CODE"
    },
    "jupyter": {
     "outputs_hidden": false,
     "source_hidden": false
    }
   },
   "outputs": [
    {
     "name": "stdout",
     "output_type": "stream",
     "text": [
      "Requirement already satisfied: nltk in d:\\anconda\\lib\\site-packages (3.5)\n",
      "Requirement already satisfied: click in d:\\anconda\\lib\\site-packages (from nltk) (7.1.2)\n",
      "Requirement already satisfied: tqdm in d:\\anconda\\lib\\site-packages (from nltk) (4.47.0)\n",
      "Requirement already satisfied: joblib in d:\\anconda\\lib\\site-packages (from nltk) (0.16.0)\n",
      "Requirement already satisfied: regex in d:\\anconda\\lib\\site-packages (from nltk) (2020.6.8)\n"
     ]
    },
    {
     "name": "stderr",
     "output_type": "stream",
     "text": [
      "[nltk_data] Downloading package stopwords to\n",
      "[nltk_data]     C:\\Users\\Галамат\\AppData\\Roaming\\nltk_data...\n",
      "[nltk_data]   Unzipping corpora\\stopwords.zip.\n",
      "[nltk_data] Downloading package punkt to\n",
      "[nltk_data]     C:\\Users\\Галамат\\AppData\\Roaming\\nltk_data...\n",
      "[nltk_data]   Unzipping tokenizers\\punkt.zip.\n"
     ]
    },
    {
     "data": {
      "text/plain": [
       "True"
      ]
     },
     "execution_count": 40,
     "metadata": {},
     "output_type": "execute_result"
    }
   ],
   "source": [
    "!pip install nltk\n",
    "import nltk\n",
    "nltk.download('stopwords')\n",
    "nltk.download('punkt')"
   ]
  },
  {
   "cell_type": "markdown",
   "metadata": {
    "datalore": {
     "sheet_delimiter": false,
     "type": "MD"
    },
    "jupyter": {
     "outputs_hidden": false,
     "source_hidden": false
    }
   },
   "source": [
    "### 4.6.2 Lists of code and type descriptions for clusterization"
   ]
  },
  {
   "cell_type": "code",
   "execution_count": 41,
   "metadata": {
    "datalore": {
     "sheet_delimiter": false,
     "type": "CODE"
    },
    "jupyter": {
     "outputs_hidden": false,
     "source_hidden": false
    }
   },
   "outputs": [],
   "source": [
    "codes_text = codes['code_description'].to_list()\n",
    "types_text = types['type_description'].to_list()"
   ]
  },
  {
   "cell_type": "markdown",
   "metadata": {
    "datalore": {
     "sheet_delimiter": false,
     "type": "MD"
    },
    "jupyter": {
     "outputs_hidden": false,
     "source_hidden": false
    }
   },
   "source": [
    "### 4.6.3 KMeans clusterization functions"
   ]
  },
  {
   "cell_type": "code",
   "execution_count": 42,
   "metadata": {
    "datalore": {
     "sheet_delimiter": false,
     "type": "CODE"
    },
    "jupyter": {
     "outputs_hidden": false,
     "source_hidden": false
    }
   },
   "outputs": [],
   "source": [
    "import string\n",
    "import collections\n",
    " \n",
    "from nltk import word_tokenize\n",
    "from nltk.stem import PorterStemmer\n",
    "from nltk.corpus import stopwords\n",
    "from sklearn.cluster import KMeans\n",
    "from sklearn.feature_extraction.text import TfidfVectorizer\n",
    " \n",
    "def process_text(text, stem=True):\n",
    "    \"\"\" Tokenize text and stem words removing punctuation \"\"\"\n",
    "    text = text.translate(string.punctuation)\n",
    "    tokens = word_tokenize(text)\n",
    " \n",
    "    if stem:\n",
    "        stemmer = PorterStemmer()\n",
    "        tokens = [stemmer.stem(t) for t in tokens]\n",
    " \n",
    "    return tokens\n",
    " \n",
    "def cluster_texts(texts, codes, prefix, clusters=3):\n",
    "    \"\"\" Transform texts to Tf-Idf coordinates and cluster texts using K-Means \"\"\"\n",
    "    vectorizer = TfidfVectorizer(tokenizer=process_text,\n",
    "                                 stop_words=stopwords.words('russian'),\n",
    "                                 max_df=0.5,\n",
    "                                 min_df=0.1,\n",
    "                                 lowercase=True)\n",
    " \n",
    "    tfidf_model = vectorizer.fit_transform(texts)\n",
    "    km_model = KMeans(n_clusters=clusters)\n",
    "    km_model.fit(tfidf_model)\n",
    " \n",
    "    clustering = collections.defaultdict(list)\n",
    " \n",
    "    for idx, label in enumerate(km_model.labels_):\n",
    "        clustering[prefix + str(label+1)].append(codes[idx-1])\n",
    " \n",
    "    return clustering\n",
    "\n",
    "articles = codes_text\n",
    "codes_clusters = cluster_texts(articles, codes['code'].to_list(), 'code cluster ', 7)\n",
    "articles = types_text\n",
    "types_clusters = cluster_texts(articles, types['type'].to_list(),'type cluster ', 7 )"
   ]
  },
  {
   "cell_type": "markdown",
   "metadata": {
    "datalore": {
     "sheet_delimiter": false,
     "type": "MD"
    },
    "jupyter": {
     "outputs_hidden": false,
     "source_hidden": false
    }
   },
   "source": [
    "### 4.6.4 Adding new features which got from description clusterization (cluster <code/type> number)"
   ]
  },
  {
   "cell_type": "code",
   "execution_count": 43,
   "metadata": {
    "datalore": {
     "sheet_delimiter": false,
     "type": "CODE"
    },
    "jupyter": {
     "outputs_hidden": false,
     "source_hidden": false
    }
   },
   "outputs": [],
   "source": [
    "def join_clusters_to_data(data_general, data, clusters, type_or_code):\n",
    "    \"\"\"\n",
    "    For given clusters of codes/types, count the number of transaction of clusters for each client\n",
    "    \"\"\"\n",
    "    data_clusters = data_general[['client_id', type_or_code]].copy()\n",
    "    c = 1\n",
    "    for key, value in dict(clusters).items():\n",
    "        data_clusters[key] = 0\n",
    "        c+=1\n",
    "        for row in data_clusters.values:\n",
    "            if row[1] in value:\n",
    "                row[c] = 1\n",
    "    data_clusters = data_clusters.groupby('client_id').sum()\n",
    "    del data_clusters[type_or_code]\n",
    "    data = data.join(data_clusters)\n",
    "    return data\n",
    "\n",
    "data_to_clusterization = join_clusters_to_data(data, data_to_clusterization, codes_clusters, 'code')\n",
    "data_to_clusterization = join_clusters_to_data(data, data_to_clusterization, types_clusters, 'type')"
   ]
  },
  {
   "cell_type": "markdown",
   "metadata": {
    "datalore": {
     "sheet_delimiter": false,
     "type": "MD"
    },
    "jupyter": {
     "outputs_hidden": false,
     "source_hidden": false
    }
   },
   "source": [
    "## 4.7 Time of registration in minutes (time_of_registration) and difference between transactions in minutes (transaction_frequecy)"
   ]
  },
  {
   "cell_type": "code",
   "execution_count": 44,
   "metadata": {
    "datalore": {
     "sheet_delimiter": false,
     "type": "CODE"
    },
    "jupyter": {
     "outputs_hidden": false,
     "source_hidden": false
    }
   },
   "outputs": [],
   "source": [
    "data_with_time = data[['client_id', 'datetime']].copy()\n",
    "data_with_time['day'] = data['datetime'].apply(lambda x: int(x.split()[0]))\n",
    "data_with_time['time'] = data['datetime'].apply(lambda x: x.split()[1])\n",
    "data_with_time['hh'] = data_with_time['time'].apply(lambda x: int(x.split(':')[0]))\n",
    "data_with_time['mm'] = data_with_time['time'].apply(lambda x: int(x.split(':')[1]))\n",
    "data_with_time['time_of_registration'] = 24*60*data_with_time['day'] + 60 * 24*60*data_with_time['hh'] + data_with_time['mm']\n",
    "last_date = data_with_time['time_of_registration'].max()\n",
    "del data_with_time['time']\n",
    "del data_with_time['datetime']\n",
    "del data_with_time['day']\n",
    "del data_with_time['hh']\n",
    "del data_with_time['mm']"
   ]
  },
  {
   "cell_type": "code",
   "execution_count": 45,
   "metadata": {
    "datalore": {
     "sheet_delimiter": false,
     "type": "CODE"
    },
    "jupyter": {
     "outputs_hidden": false,
     "source_hidden": false
    }
   },
   "outputs": [],
   "source": [
    "data_with_time = data_with_time.sort_values('time_of_registration').drop_duplicates('client_id', keep='first')\n",
    "data_with_time = data_with_time.set_index('client_id').join(data_to_clusterization['n_transactions'])"
   ]
  },
  {
   "cell_type": "code",
   "execution_count": 46,
   "metadata": {
    "datalore": {
     "sheet_delimiter": false,
     "type": "CODE"
    },
    "jupyter": {
     "outputs_hidden": false,
     "source_hidden": false
    }
   },
   "outputs": [],
   "source": [
    "data_with_time['transaction_frequecy'] = (last_date - data_with_time['time_of_registration'])/data_with_time['n_transactions']"
   ]
  },
  {
   "cell_type": "code",
   "execution_count": 47,
   "metadata": {
    "datalore": {
     "sheet_delimiter": false,
     "type": "CODE"
    },
    "jupyter": {
     "outputs_hidden": false,
     "source_hidden": false
    }
   },
   "outputs": [],
   "source": [
    "del data_with_time['n_transactions']\n",
    "data_to_clusterization = data_to_clusterization.join(data_with_time)"
   ]
  },
  {
   "cell_type": "markdown",
   "metadata": {
    "datalore": {
     "sheet_delimiter": false,
     "type": "MD"
    },
    "jupyter": {
     "outputs_hidden": false,
     "source_hidden": false
    }
   },
   "source": [
    "## 4.8 RFM features - Recency, Frequency, Monetary values"
   ]
  },
  {
   "cell_type": "markdown",
   "metadata": {
    "datalore": {
     "sheet_delimiter": false,
     "type": "MD"
    },
    "jupyter": {
     "outputs_hidden": false,
     "source_hidden": false
    }
   },
   "source": [
    "Calculate and add 3 features that will be used in RFM analysis - Recency(how long ago was last action done), Frequency(how much transactions were made overall), Monetary - total sum of transaction"
   ]
  },
  {
   "cell_type": "code",
   "execution_count": 48,
   "metadata": {
    "datalore": {
     "sheet_delimiter": false,
     "type": "CODE"
    },
    "jupyter": {
     "outputs_hidden": false,
     "source_hidden": false
    }
   },
   "outputs": [],
   "source": [
    "rfmData = data.copy()\n",
    "rfmData.drop_duplicates(inplace = True)\n",
    "rfmData[['day', 'datetime']] = rfmData['datetime'].str.split(' ', 1, expand=True)\n",
    "rfmData2 = rfmData.copy()\n",
    "rfmData2['monetary'] = rfmData2['sum'].apply(lambda x: float(abs(x)))\n",
    "groupedRfm = rfmData2.groupby('client_id').sum().drop(['code', 'type', 'target', 'sum'], axis = 1)\n",
    "groupedRfm['recency'] = rfmData2.groupby('client_id').max()['day'].apply(lambda x: 457 - int(x)).to_list()\n",
    "groupedRfm['frequency'] = rfmData2.groupby('client_id').count()['day'].to_list()"
   ]
  },
  {
   "cell_type": "code",
   "execution_count": 49,
   "metadata": {
    "datalore": {
     "sheet_delimiter": false,
     "type": "CODE"
    },
    "jupyter": {
     "outputs_hidden": false,
     "source_hidden": false
    }
   },
   "outputs": [
    {
     "data": {
      "text/html": [
       "<div>\n",
       "<style scoped>\n",
       "    .dataframe tbody tr th:only-of-type {\n",
       "        vertical-align: middle;\n",
       "    }\n",
       "\n",
       "    .dataframe tbody tr th {\n",
       "        vertical-align: top;\n",
       "    }\n",
       "\n",
       "    .dataframe thead th {\n",
       "        text-align: right;\n",
       "    }\n",
       "</style>\n",
       "<table border=\"1\" class=\"dataframe\">\n",
       "  <thead>\n",
       "    <tr style=\"text-align: right;\">\n",
       "      <th></th>\n",
       "      <th>monetary</th>\n",
       "      <th>recency</th>\n",
       "      <th>frequency</th>\n",
       "    </tr>\n",
       "    <tr>\n",
       "      <th>client_id</th>\n",
       "      <th></th>\n",
       "      <th></th>\n",
       "      <th></th>\n",
       "    </tr>\n",
       "  </thead>\n",
       "  <tbody>\n",
       "    <tr>\n",
       "      <th>22899</th>\n",
       "      <td>119842.08</td>\n",
       "      <td>391</td>\n",
       "      <td>9</td>\n",
       "    </tr>\n",
       "    <tr>\n",
       "      <th>27914</th>\n",
       "      <td>83098.89</td>\n",
       "      <td>165</td>\n",
       "      <td>4</td>\n",
       "    </tr>\n",
       "    <tr>\n",
       "      <th>28753</th>\n",
       "      <td>3937349.75</td>\n",
       "      <td>366</td>\n",
       "      <td>13</td>\n",
       "    </tr>\n",
       "    <tr>\n",
       "      <th>38084</th>\n",
       "      <td>2810132.96</td>\n",
       "      <td>377</td>\n",
       "      <td>26</td>\n",
       "    </tr>\n",
       "    <tr>\n",
       "      <th>49793</th>\n",
       "      <td>1436315.95</td>\n",
       "      <td>376</td>\n",
       "      <td>21</td>\n",
       "    </tr>\n",
       "  </tbody>\n",
       "</table>\n",
       "</div>"
      ],
      "text/plain": [
       "             monetary  recency  frequency\n",
       "client_id                                \n",
       "22899       119842.08      391          9\n",
       "27914        83098.89      165          4\n",
       "28753      3937349.75      366         13\n",
       "38084      2810132.96      377         26\n",
       "49793      1436315.95      376         21"
      ]
     },
     "execution_count": 49,
     "metadata": {},
     "output_type": "execute_result"
    }
   ],
   "source": [
    "groupedRfm.head()"
   ]
  },
  {
   "cell_type": "markdown",
   "metadata": {
    "datalore": {
     "sheet_delimiter": false,
     "type": "MD"
    },
    "jupyter": {
     "outputs_hidden": false,
     "source_hidden": false
    }
   },
   "source": [
    "## 4.9 Final results of Feature Engineering"
   ]
  },
  {
   "cell_type": "code",
   "execution_count": 50,
   "metadata": {
    "datalore": {
     "sheet_delimiter": false,
     "type": "CODE"
    },
    "jupyter": {
     "outputs_hidden": false,
     "source_hidden": false
    }
   },
   "outputs": [
    {
     "data": {
      "text/html": [
       "<div>\n",
       "<style scoped>\n",
       "    .dataframe tbody tr th:only-of-type {\n",
       "        vertical-align: middle;\n",
       "    }\n",
       "\n",
       "    .dataframe tbody tr th {\n",
       "        vertical-align: top;\n",
       "    }\n",
       "\n",
       "    .dataframe thead th {\n",
       "        text-align: right;\n",
       "    }\n",
       "</style>\n",
       "<table border=\"1\" class=\"dataframe\">\n",
       "  <thead>\n",
       "    <tr style=\"text-align: right;\">\n",
       "      <th></th>\n",
       "      <th>sum</th>\n",
       "      <th>abs_sum</th>\n",
       "      <th>n_transactions</th>\n",
       "      <th>average_transaction</th>\n",
       "      <th>gender</th>\n",
       "      <th>percentage</th>\n",
       "      <th>code cluster 5</th>\n",
       "      <th>code cluster 3</th>\n",
       "      <th>code cluster 1</th>\n",
       "      <th>code cluster 2</th>\n",
       "      <th>...</th>\n",
       "      <th>code cluster 7</th>\n",
       "      <th>type cluster 4</th>\n",
       "      <th>type cluster 3</th>\n",
       "      <th>type cluster 2</th>\n",
       "      <th>type cluster 7</th>\n",
       "      <th>type cluster 5</th>\n",
       "      <th>type cluster 6</th>\n",
       "      <th>type cluster 1</th>\n",
       "      <th>time_of_registration</th>\n",
       "      <th>transaction_frequecy</th>\n",
       "    </tr>\n",
       "    <tr>\n",
       "      <th>client_id</th>\n",
       "      <th></th>\n",
       "      <th></th>\n",
       "      <th></th>\n",
       "      <th></th>\n",
       "      <th></th>\n",
       "      <th></th>\n",
       "      <th></th>\n",
       "      <th></th>\n",
       "      <th></th>\n",
       "      <th></th>\n",
       "      <th></th>\n",
       "      <th></th>\n",
       "      <th></th>\n",
       "      <th></th>\n",
       "      <th></th>\n",
       "      <th></th>\n",
       "      <th></th>\n",
       "      <th></th>\n",
       "      <th></th>\n",
       "      <th></th>\n",
       "      <th></th>\n",
       "    </tr>\n",
       "  </thead>\n",
       "  <tbody>\n",
       "    <tr>\n",
       "      <th>22899</th>\n",
       "      <td>50847.54</td>\n",
       "      <td>119842.08</td>\n",
       "      <td>9</td>\n",
       "      <td>13315.786667</td>\n",
       "      <td>1</td>\n",
       "      <td>0.000016</td>\n",
       "      <td>1</td>\n",
       "      <td>5</td>\n",
       "      <td>1</td>\n",
       "      <td>0</td>\n",
       "      <td>...</td>\n",
       "      <td>0</td>\n",
       "      <td>1</td>\n",
       "      <td>1</td>\n",
       "      <td>3</td>\n",
       "      <td>0</td>\n",
       "      <td>0</td>\n",
       "      <td>2</td>\n",
       "      <td>2</td>\n",
       "      <td>1018130</td>\n",
       "      <td>180480.222222</td>\n",
       "    </tr>\n",
       "    <tr>\n",
       "      <th>27914</th>\n",
       "      <td>74115.21</td>\n",
       "      <td>83098.89</td>\n",
       "      <td>4</td>\n",
       "      <td>20774.722500</td>\n",
       "      <td>1</td>\n",
       "      <td>0.000011</td>\n",
       "      <td>2</td>\n",
       "      <td>1</td>\n",
       "      <td>0</td>\n",
       "      <td>0</td>\n",
       "      <td>...</td>\n",
       "      <td>0</td>\n",
       "      <td>0</td>\n",
       "      <td>0</td>\n",
       "      <td>2</td>\n",
       "      <td>0</td>\n",
       "      <td>1</td>\n",
       "      <td>0</td>\n",
       "      <td>1</td>\n",
       "      <td>1153473</td>\n",
       "      <td>372244.750000</td>\n",
       "    </tr>\n",
       "    <tr>\n",
       "      <th>28753</th>\n",
       "      <td>-2589800.29</td>\n",
       "      <td>3937349.75</td>\n",
       "      <td>13</td>\n",
       "      <td>302873.057692</td>\n",
       "      <td>0</td>\n",
       "      <td>0.000527</td>\n",
       "      <td>3</td>\n",
       "      <td>5</td>\n",
       "      <td>1</td>\n",
       "      <td>3</td>\n",
       "      <td>...</td>\n",
       "      <td>0</td>\n",
       "      <td>0</td>\n",
       "      <td>0</td>\n",
       "      <td>10</td>\n",
       "      <td>0</td>\n",
       "      <td>0</td>\n",
       "      <td>0</td>\n",
       "      <td>3</td>\n",
       "      <td>161280</td>\n",
       "      <td>190859.384615</td>\n",
       "    </tr>\n",
       "    <tr>\n",
       "      <th>38084</th>\n",
       "      <td>693495.66</td>\n",
       "      <td>2810132.96</td>\n",
       "      <td>26</td>\n",
       "      <td>108082.036923</td>\n",
       "      <td>0</td>\n",
       "      <td>0.000376</td>\n",
       "      <td>3</td>\n",
       "      <td>13</td>\n",
       "      <td>0</td>\n",
       "      <td>9</td>\n",
       "      <td>...</td>\n",
       "      <td>0</td>\n",
       "      <td>0</td>\n",
       "      <td>0</td>\n",
       "      <td>16</td>\n",
       "      <td>0</td>\n",
       "      <td>0</td>\n",
       "      <td>0</td>\n",
       "      <td>10</td>\n",
       "      <td>171360</td>\n",
       "      <td>95042.000000</td>\n",
       "    </tr>\n",
       "    <tr>\n",
       "      <th>49793</th>\n",
       "      <td>-1382413.97</td>\n",
       "      <td>1436315.95</td>\n",
       "      <td>21</td>\n",
       "      <td>68395.997619</td>\n",
       "      <td>1</td>\n",
       "      <td>0.000192</td>\n",
       "      <td>6</td>\n",
       "      <td>5</td>\n",
       "      <td>0</td>\n",
       "      <td>10</td>\n",
       "      <td>...</td>\n",
       "      <td>0</td>\n",
       "      <td>0</td>\n",
       "      <td>0</td>\n",
       "      <td>19</td>\n",
       "      <td>0</td>\n",
       "      <td>0</td>\n",
       "      <td>0</td>\n",
       "      <td>2</td>\n",
       "      <td>73440</td>\n",
       "      <td>122333.904762</td>\n",
       "    </tr>\n",
       "  </tbody>\n",
       "</table>\n",
       "<p>5 rows × 22 columns</p>\n",
       "</div>"
      ],
      "text/plain": [
       "                  sum     abs_sum  n_transactions  average_transaction  \\\n",
       "client_id                                                                \n",
       "22899        50847.54   119842.08               9         13315.786667   \n",
       "27914        74115.21    83098.89               4         20774.722500   \n",
       "28753     -2589800.29  3937349.75              13        302873.057692   \n",
       "38084       693495.66  2810132.96              26        108082.036923   \n",
       "49793     -1382413.97  1436315.95              21         68395.997619   \n",
       "\n",
       "           gender  percentage  code cluster 5  code cluster 3  code cluster 1  \\\n",
       "client_id                                                                       \n",
       "22899           1    0.000016               1               5               1   \n",
       "27914           1    0.000011               2               1               0   \n",
       "28753           0    0.000527               3               5               1   \n",
       "38084           0    0.000376               3              13               0   \n",
       "49793           1    0.000192               6               5               0   \n",
       "\n",
       "           code cluster 2  ...  code cluster 7  type cluster 4  \\\n",
       "client_id                  ...                                   \n",
       "22899                   0  ...               0               1   \n",
       "27914                   0  ...               0               0   \n",
       "28753                   3  ...               0               0   \n",
       "38084                   9  ...               0               0   \n",
       "49793                  10  ...               0               0   \n",
       "\n",
       "           type cluster 3  type cluster 2  type cluster 7  type cluster 5  \\\n",
       "client_id                                                                   \n",
       "22899                   1               3               0               0   \n",
       "27914                   0               2               0               1   \n",
       "28753                   0              10               0               0   \n",
       "38084                   0              16               0               0   \n",
       "49793                   0              19               0               0   \n",
       "\n",
       "           type cluster 6  type cluster 1  time_of_registration  \\\n",
       "client_id                                                         \n",
       "22899                   2               2               1018130   \n",
       "27914                   0               1               1153473   \n",
       "28753                   0               3                161280   \n",
       "38084                   0              10                171360   \n",
       "49793                   0               2                 73440   \n",
       "\n",
       "           transaction_frequecy  \n",
       "client_id                        \n",
       "22899             180480.222222  \n",
       "27914             372244.750000  \n",
       "28753             190859.384615  \n",
       "38084              95042.000000  \n",
       "49793             122333.904762  \n",
       "\n",
       "[5 rows x 22 columns]"
      ]
     },
     "execution_count": 50,
     "metadata": {},
     "output_type": "execute_result"
    }
   ],
   "source": [
    "data_to_clusterization.head()"
   ]
  },
  {
   "cell_type": "markdown",
   "metadata": {
    "datalore": {
     "sheet_delimiter": false,
     "type": "MD"
    },
    "jupyter": {
     "outputs_hidden": false,
     "source_hidden": false
    }
   },
   "source": [
    "# 5. Data Preprocessing"
   ]
  },
  {
   "cell_type": "code",
   "execution_count": 51,
   "metadata": {
    "datalore": {
     "sheet_delimiter": false,
     "type": "CODE"
    },
    "jupyter": {
     "outputs_hidden": false,
     "source_hidden": false
    }
   },
   "outputs": [],
   "source": [
    "from sklearn.preprocessing import QuantileTransformer\n",
    "from sklearn.preprocessing import Normalizer"
   ]
  },
  {
   "cell_type": "markdown",
   "metadata": {
    "datalore": {
     "sheet_delimiter": false,
     "type": "MD"
    },
    "jupyter": {
     "outputs_hidden": false,
     "source_hidden": false
    }
   },
   "source": [
    "## 5.1 Non-linear transformation. Mapping to a Uniform distribution (Quantile transformer)"
   ]
  },
  {
   "cell_type": "code",
   "execution_count": 52,
   "metadata": {
    "datalore": {
     "sheet_delimiter": false,
     "type": "CODE"
    },
    "jupyter": {
     "outputs_hidden": false,
     "source_hidden": false
    }
   },
   "outputs": [],
   "source": [
    "data_exp = QuantileTransformer(n_quantiles=10, random_state=0, output_distribution='normal').fit_transform(np.sort(data_to_clusterization))"
   ]
  },
  {
   "cell_type": "markdown",
   "metadata": {
    "datalore": {
     "sheet_delimiter": false,
     "type": "MD"
    },
    "jupyter": {
     "outputs_hidden": false,
     "source_hidden": false
    }
   },
   "source": [
    "## 5.2 Normalization"
   ]
  },
  {
   "cell_type": "code",
   "execution_count": 53,
   "metadata": {
    "datalore": {
     "sheet_delimiter": false,
     "type": "CODE"
    },
    "jupyter": {
     "outputs_hidden": false,
     "source_hidden": false
    }
   },
   "outputs": [],
   "source": [
    "data_exp_norm = Normalizer().fit(data_exp).transform(data_exp)"
   ]
  },
  {
   "cell_type": "markdown",
   "metadata": {
    "datalore": {
     "sheet_delimiter": false,
     "type": "MD"
    },
    "jupyter": {
     "outputs_hidden": false,
     "source_hidden": false
    }
   },
   "source": [
    "## Conclusion"
   ]
  },
  {
   "cell_type": "markdown",
   "metadata": {
    "datalore": {
     "sheet_delimiter": false,
     "type": "MD"
    },
    "jupyter": {
     "outputs_hidden": false,
     "source_hidden": false
    }
   },
   "source": [
    "**Spending a huge amount of time on the selection and testing of possible combinations of standardization, non-linear transformation, normalization and other preprocessing activities we have found through experience that the most appropriate course of action at this stage would be non-linear transformation (Quantile transformer) an normalization(Normalizer).**\n",
    "\n",
    "**It is with this combination that machine learning models give the best result.**\n",
    "\n",
    "**This can be explained by the fact that both methods are robust to outliers.**"
   ]
  },
  {
   "cell_type": "code",
   "execution_count": 54,
   "metadata": {
    "datalore": {
     "sheet_delimiter": false,
     "type": "CODE"
    },
    "jupyter": {
     "outputs_hidden": false,
     "source_hidden": false
    }
   },
   "outputs": [
    {
     "data": {
      "text/plain": [
       "<matplotlib.axes._subplots.AxesSubplot at 0x2135cfdf760>"
      ]
     },
     "execution_count": 54,
     "metadata": {},
     "output_type": "execute_result"
    },
    {
     "data": {
      "image/png": "[encoded data removed]",
      "text/plain": [
       "<Figure size 432x288 with 1 Axes>"
      ]
     },
     "metadata": {},
     "output_type": "display_data"
    }
   ],
   "source": [
    "sns.boxplot(data = data_exp_norm)"
   ]
  },
  {
   "cell_type": "markdown",
   "metadata": {
    "datalore": {
     "sheet_delimiter": false,
     "type": "MD"
    },
    "jupyter": {
     "outputs_hidden": false,
     "source_hidden": false
    }
   },
   "source": [
    "# 6. RFM Analysis"
   ]
  },
  {
   "cell_type": "markdown",
   "metadata": {
    "datalore": {
     "sheet_delimiter": false,
     "type": "MD"
    },
    "jupyter": {
     "outputs_hidden": false,
     "source_hidden": false
    }
   },
   "source": [
    "## 6.1 Calculating feature scores."
   ]
  },
  {
   "cell_type": "code",
   "execution_count": 55,
   "metadata": {
    "datalore": {
     "sheet_delimiter": false,
     "type": "CODE"
    },
    "jupyter": {
     "outputs_hidden": false,
     "source_hidden": false
    }
   },
   "outputs": [
    {
     "data": {
      "text/html": [
       "<div>\n",
       "<style scoped>\n",
       "    .dataframe tbody tr th:only-of-type {\n",
       "        vertical-align: middle;\n",
       "    }\n",
       "\n",
       "    .dataframe tbody tr th {\n",
       "        vertical-align: top;\n",
       "    }\n",
       "\n",
       "    .dataframe thead th {\n",
       "        text-align: right;\n",
       "    }\n",
       "</style>\n",
       "<table border=\"1\" class=\"dataframe\">\n",
       "  <thead>\n",
       "    <tr style=\"text-align: right;\">\n",
       "      <th></th>\n",
       "      <th>monetary</th>\n",
       "      <th>recency</th>\n",
       "      <th>frequency</th>\n",
       "      <th>recencyScore</th>\n",
       "      <th>frequencyScore</th>\n",
       "      <th>monetaryScore</th>\n",
       "      <th>rfmScore</th>\n",
       "      <th>rfmStr</th>\n",
       "    </tr>\n",
       "    <tr>\n",
       "      <th>client_id</th>\n",
       "      <th></th>\n",
       "      <th></th>\n",
       "      <th></th>\n",
       "      <th></th>\n",
       "      <th></th>\n",
       "      <th></th>\n",
       "      <th></th>\n",
       "      <th></th>\n",
       "    </tr>\n",
       "  </thead>\n",
       "  <tbody>\n",
       "    <tr>\n",
       "      <th>22899</th>\n",
       "      <td>119842.08</td>\n",
       "      <td>391</td>\n",
       "      <td>9</td>\n",
       "      <td>1</td>\n",
       "      <td>2</td>\n",
       "      <td>1</td>\n",
       "      <td>4</td>\n",
       "      <td>121</td>\n",
       "    </tr>\n",
       "    <tr>\n",
       "      <th>27914</th>\n",
       "      <td>83098.89</td>\n",
       "      <td>165</td>\n",
       "      <td>4</td>\n",
       "      <td>3</td>\n",
       "      <td>1</td>\n",
       "      <td>1</td>\n",
       "      <td>5</td>\n",
       "      <td>311</td>\n",
       "    </tr>\n",
       "    <tr>\n",
       "      <th>28753</th>\n",
       "      <td>3937349.75</td>\n",
       "      <td>366</td>\n",
       "      <td>13</td>\n",
       "      <td>2</td>\n",
       "      <td>3</td>\n",
       "      <td>4</td>\n",
       "      <td>9</td>\n",
       "      <td>234</td>\n",
       "    </tr>\n",
       "    <tr>\n",
       "      <th>38084</th>\n",
       "      <td>2810132.96</td>\n",
       "      <td>377</td>\n",
       "      <td>26</td>\n",
       "      <td>2</td>\n",
       "      <td>4</td>\n",
       "      <td>4</td>\n",
       "      <td>10</td>\n",
       "      <td>244</td>\n",
       "    </tr>\n",
       "    <tr>\n",
       "      <th>49793</th>\n",
       "      <td>1436315.95</td>\n",
       "      <td>376</td>\n",
       "      <td>21</td>\n",
       "      <td>2</td>\n",
       "      <td>4</td>\n",
       "      <td>4</td>\n",
       "      <td>10</td>\n",
       "      <td>244</td>\n",
       "    </tr>\n",
       "    <tr>\n",
       "      <th>...</th>\n",
       "      <td>...</td>\n",
       "      <td>...</td>\n",
       "      <td>...</td>\n",
       "      <td>...</td>\n",
       "      <td>...</td>\n",
       "      <td>...</td>\n",
       "      <td>...</td>\n",
       "      <td>...</td>\n",
       "    </tr>\n",
       "    <tr>\n",
       "      <th>99900908</th>\n",
       "      <td>72052.13</td>\n",
       "      <td>146</td>\n",
       "      <td>5</td>\n",
       "      <td>3</td>\n",
       "      <td>1</td>\n",
       "      <td>1</td>\n",
       "      <td>5</td>\n",
       "      <td>311</td>\n",
       "    </tr>\n",
       "    <tr>\n",
       "      <th>99911226</th>\n",
       "      <td>667589.93</td>\n",
       "      <td>363</td>\n",
       "      <td>12</td>\n",
       "      <td>3</td>\n",
       "      <td>3</td>\n",
       "      <td>3</td>\n",
       "      <td>9</td>\n",
       "      <td>333</td>\n",
       "    </tr>\n",
       "    <tr>\n",
       "      <th>99967537</th>\n",
       "      <td>336887.37</td>\n",
       "      <td>125</td>\n",
       "      <td>1</td>\n",
       "      <td>3</td>\n",
       "      <td>1</td>\n",
       "      <td>2</td>\n",
       "      <td>6</td>\n",
       "      <td>312</td>\n",
       "    </tr>\n",
       "    <tr>\n",
       "      <th>99985917</th>\n",
       "      <td>224591.58</td>\n",
       "      <td>396</td>\n",
       "      <td>1</td>\n",
       "      <td>1</td>\n",
       "      <td>1</td>\n",
       "      <td>2</td>\n",
       "      <td>4</td>\n",
       "      <td>112</td>\n",
       "    </tr>\n",
       "    <tr>\n",
       "      <th>99991245</th>\n",
       "      <td>737513.82</td>\n",
       "      <td>82</td>\n",
       "      <td>4</td>\n",
       "      <td>3</td>\n",
       "      <td>1</td>\n",
       "      <td>3</td>\n",
       "      <td>7</td>\n",
       "      <td>313</td>\n",
       "    </tr>\n",
       "  </tbody>\n",
       "</table>\n",
       "<p>6000 rows × 8 columns</p>\n",
       "</div>"
      ],
      "text/plain": [
       "             monetary  recency  frequency  recencyScore  frequencyScore  \\\n",
       "client_id                                                                 \n",
       "22899       119842.08      391          9             1               2   \n",
       "27914        83098.89      165          4             3               1   \n",
       "28753      3937349.75      366         13             2               3   \n",
       "38084      2810132.96      377         26             2               4   \n",
       "49793      1436315.95      376         21             2               4   \n",
       "...               ...      ...        ...           ...             ...   \n",
       "99900908     72052.13      146          5             3               1   \n",
       "99911226    667589.93      363         12             3               3   \n",
       "99967537    336887.37      125          1             3               1   \n",
       "99985917    224591.58      396          1             1               1   \n",
       "99991245    737513.82       82          4             3               1   \n",
       "\n",
       "           monetaryScore  rfmScore rfmStr  \n",
       "client_id                                  \n",
       "22899                  1         4    121  \n",
       "27914                  1         5    311  \n",
       "28753                  4         9    234  \n",
       "38084                  4        10    244  \n",
       "49793                  4        10    244  \n",
       "...                  ...       ...    ...  \n",
       "99900908               1         5    311  \n",
       "99911226               3         9    333  \n",
       "99967537               2         6    312  \n",
       "99985917               2         4    112  \n",
       "99991245               3         7    313  \n",
       "\n",
       "[6000 rows x 8 columns]"
      ]
     },
     "execution_count": 55,
     "metadata": {},
     "output_type": "execute_result"
    }
   ],
   "source": [
    "groupedRfm[\"recencyScore\"] = pd.cut(groupedRfm[\"recency\"],\n",
    "                                       bins=[0, \n",
    "                                         np.percentile(groupedRfm[\"recency\"], 25), \n",
    "                                             np.percentile(groupedRfm[\"recency\"], 50), \n",
    "                                             np.percentile(groupedRfm[\"recency\"], 75), \n",
    "                                             groupedRfm[\"recency\"].max()], \n",
    "                                       labels=[4, 3, 2, 1]).astype(\"int\")\n",
    "groupedRfm[\"frequencyScore\"] = pd.cut(groupedRfm[\"frequency\"], \n",
    "                                       bins=[0, \n",
    "                                         np.percentile(groupedRfm[\"frequency\"], 25), \n",
    "                                             np.percentile(groupedRfm[\"frequency\"], 50), \n",
    "                                             np.percentile(groupedRfm[\"frequency\"], 75), \n",
    "                                             groupedRfm[\"frequency\"].max()], \n",
    "                                       labels=[1, 2, 3, 4]).astype(\"int\")\n",
    "groupedRfm[\"monetaryScore\"] = pd.cut(groupedRfm[\"monetary\"], \n",
    "                                       bins=[0, \n",
    "                                         np.percentile(groupedRfm[\"monetary\"], 25), \n",
    "                                             np.percentile(groupedRfm[\"monetary\"], 50), \n",
    "                                             np.percentile(groupedRfm[\"monetary\"], 75), \n",
    "                                             groupedRfm[\"monetary\"].max()], \n",
    "                                       labels=[1, 2, 3, 4]).astype(\"int\")\n",
    "groupedRfm['rfmScore'] = groupedRfm[\"monetaryScore\"] + groupedRfm[\"recencyScore\"] + groupedRfm[\"frequencyScore\"]\n",
    "groupedRfm['rfmStr'] = groupedRfm[\"recencyScore\"].apply(lambda x: str(x)) \\\n",
    "    + groupedRfm[\"frequencyScore\"].apply(lambda x: str(x)) + groupedRfm[\"monetaryScore\"].apply(lambda x: str(x))\n",
    "groupedRfm"
   ]
  },
  {
   "cell_type": "markdown",
   "metadata": {
    "datalore": {
     "sheet_delimiter": false,
     "type": "MD"
    },
    "jupyter": {
     "outputs_hidden": false,
     "source_hidden": false
    }
   },
   "source": [
    "## 6.2 Segment customers to find lost and most active bank users"
   ]
  },
  {
   "cell_type": "code",
   "execution_count": 56,
   "metadata": {
    "datalore": {
     "sheet_delimiter": false,
     "type": "CODE"
    },
    "jupyter": {
     "outputs_hidden": false,
     "source_hidden": false
    }
   },
   "outputs": [
    {
     "name": "stdout",
     "output_type": "stream",
     "text": [
      "Most valuable bank users\n",
      "There are 50 \"golden\" customers\n"
     ]
    },
    {
     "data": {
      "text/html": [
       "<div>\n",
       "<style scoped>\n",
       "    .dataframe tbody tr th:only-of-type {\n",
       "        vertical-align: middle;\n",
       "    }\n",
       "\n",
       "    .dataframe tbody tr th {\n",
       "        vertical-align: top;\n",
       "    }\n",
       "\n",
       "    .dataframe thead th {\n",
       "        text-align: right;\n",
       "    }\n",
       "</style>\n",
       "<table border=\"1\" class=\"dataframe\">\n",
       "  <thead>\n",
       "    <tr style=\"text-align: right;\">\n",
       "      <th></th>\n",
       "      <th>rfmStr</th>\n",
       "      <th>recency</th>\n",
       "      <th>frequency</th>\n",
       "      <th>monetary</th>\n",
       "    </tr>\n",
       "    <tr>\n",
       "      <th>client_id</th>\n",
       "      <th></th>\n",
       "      <th></th>\n",
       "      <th></th>\n",
       "      <th></th>\n",
       "    </tr>\n",
       "  </thead>\n",
       "  <tbody>\n",
       "    <tr>\n",
       "      <th>374768</th>\n",
       "      <td>444</td>\n",
       "      <td>31</td>\n",
       "      <td>25</td>\n",
       "      <td>2105227.79</td>\n",
       "    </tr>\n",
       "    <tr>\n",
       "      <th>683284</th>\n",
       "      <td>444</td>\n",
       "      <td>24</td>\n",
       "      <td>20</td>\n",
       "      <td>1901972.65</td>\n",
       "    </tr>\n",
       "    <tr>\n",
       "      <th>1013842</th>\n",
       "      <td>444</td>\n",
       "      <td>4</td>\n",
       "      <td>31</td>\n",
       "      <td>27173352.45</td>\n",
       "    </tr>\n",
       "    <tr>\n",
       "      <th>3075545</th>\n",
       "      <td>444</td>\n",
       "      <td>1</td>\n",
       "      <td>52</td>\n",
       "      <td>5015754.14</td>\n",
       "    </tr>\n",
       "    <tr>\n",
       "      <th>3453773</th>\n",
       "      <td>444</td>\n",
       "      <td>9</td>\n",
       "      <td>28</td>\n",
       "      <td>3487012.22</td>\n",
       "    </tr>\n",
       "  </tbody>\n",
       "</table>\n",
       "</div>"
      ],
      "text/plain": [
       "          rfmStr  recency  frequency     monetary\n",
       "client_id                                        \n",
       "374768       444       31         25   2105227.79\n",
       "683284       444       24         20   1901972.65\n",
       "1013842      444        4         31  27173352.45\n",
       "3075545      444        1         52   5015754.14\n",
       "3453773      444        9         28   3487012.22"
      ]
     },
     "execution_count": 56,
     "metadata": {},
     "output_type": "execute_result"
    }
   ],
   "source": [
    "rfmData = groupedRfm[['rfmStr', 'recency', 'frequency', 'monetary']]\n",
    "print('Most valuable bank users')\n",
    "print('There are', rfmData[rfmData['rfmStr'] == '444'].shape[0], '\"golden\" customers')\n",
    "rfmData[rfmData['rfmStr'] == '444'].head()"
   ]
  },
  {
   "cell_type": "code",
   "execution_count": 57,
   "metadata": {
    "datalore": {
     "sheet_delimiter": false,
     "type": "CODE"
    },
    "jupyter": {
     "outputs_hidden": false,
     "source_hidden": false
    }
   },
   "outputs": [
    {
     "name": "stdout",
     "output_type": "stream",
     "text": [
      "Bank users that used to make large transactions in past\n",
      "There are 1258 lost customers\n"
     ]
    },
    {
     "data": {
      "text/html": [
       "<div>\n",
       "<style scoped>\n",
       "    .dataframe tbody tr th:only-of-type {\n",
       "        vertical-align: middle;\n",
       "    }\n",
       "\n",
       "    .dataframe tbody tr th {\n",
       "        vertical-align: top;\n",
       "    }\n",
       "\n",
       "    .dataframe thead th {\n",
       "        text-align: right;\n",
       "    }\n",
       "</style>\n",
       "<table border=\"1\" class=\"dataframe\">\n",
       "  <thead>\n",
       "    <tr style=\"text-align: right;\">\n",
       "      <th></th>\n",
       "      <th>rfmStr</th>\n",
       "      <th>recency</th>\n",
       "      <th>frequency</th>\n",
       "      <th>monetary</th>\n",
       "    </tr>\n",
       "    <tr>\n",
       "      <th>client_id</th>\n",
       "      <th></th>\n",
       "      <th></th>\n",
       "      <th></th>\n",
       "      <th></th>\n",
       "    </tr>\n",
       "  </thead>\n",
       "  <tbody>\n",
       "    <tr>\n",
       "      <th>28753</th>\n",
       "      <td>234</td>\n",
       "      <td>366</td>\n",
       "      <td>13</td>\n",
       "      <td>3937349.75</td>\n",
       "    </tr>\n",
       "    <tr>\n",
       "      <th>38084</th>\n",
       "      <td>244</td>\n",
       "      <td>377</td>\n",
       "      <td>26</td>\n",
       "      <td>2810132.96</td>\n",
       "    </tr>\n",
       "    <tr>\n",
       "      <th>49793</th>\n",
       "      <td>244</td>\n",
       "      <td>376</td>\n",
       "      <td>21</td>\n",
       "      <td>1436315.95</td>\n",
       "    </tr>\n",
       "    <tr>\n",
       "      <th>126081</th>\n",
       "      <td>243</td>\n",
       "      <td>366</td>\n",
       "      <td>22</td>\n",
       "      <td>665846.66</td>\n",
       "    </tr>\n",
       "    <tr>\n",
       "      <th>218079</th>\n",
       "      <td>233</td>\n",
       "      <td>371</td>\n",
       "      <td>15</td>\n",
       "      <td>429203.71</td>\n",
       "    </tr>\n",
       "    <tr>\n",
       "      <th>...</th>\n",
       "      <td>...</td>\n",
       "      <td>...</td>\n",
       "      <td>...</td>\n",
       "      <td>...</td>\n",
       "    </tr>\n",
       "    <tr>\n",
       "      <th>99452850</th>\n",
       "      <td>234</td>\n",
       "      <td>375</td>\n",
       "      <td>15</td>\n",
       "      <td>2649199.15</td>\n",
       "    </tr>\n",
       "    <tr>\n",
       "      <th>99483281</th>\n",
       "      <td>244</td>\n",
       "      <td>375</td>\n",
       "      <td>30</td>\n",
       "      <td>1684460.45</td>\n",
       "    </tr>\n",
       "    <tr>\n",
       "      <th>99568688</th>\n",
       "      <td>134</td>\n",
       "      <td>393</td>\n",
       "      <td>17</td>\n",
       "      <td>2526062.77</td>\n",
       "    </tr>\n",
       "    <tr>\n",
       "      <th>99785861</th>\n",
       "      <td>234</td>\n",
       "      <td>383</td>\n",
       "      <td>14</td>\n",
       "      <td>1281402.76</td>\n",
       "    </tr>\n",
       "    <tr>\n",
       "      <th>99876778</th>\n",
       "      <td>243</td>\n",
       "      <td>368</td>\n",
       "      <td>22</td>\n",
       "      <td>504212.62</td>\n",
       "    </tr>\n",
       "  </tbody>\n",
       "</table>\n",
       "<p>1258 rows × 4 columns</p>\n",
       "</div>"
      ],
      "text/plain": [
       "          rfmStr  recency  frequency    monetary\n",
       "client_id                                       \n",
       "28753        234      366         13  3937349.75\n",
       "38084        244      377         26  2810132.96\n",
       "49793        244      376         21  1436315.95\n",
       "126081       243      366         22   665846.66\n",
       "218079       233      371         15   429203.71\n",
       "...          ...      ...        ...         ...\n",
       "99452850     234      375         15  2649199.15\n",
       "99483281     244      375         30  1684460.45\n",
       "99568688     134      393         17  2526062.77\n",
       "99785861     234      383         14  1281402.76\n",
       "99876778     243      368         22   504212.62\n",
       "\n",
       "[1258 rows x 4 columns]"
      ]
     },
     "execution_count": 57,
     "metadata": {},
     "output_type": "execute_result"
    }
   ],
   "source": [
    "wereActive = rfmData[(groupedRfm['recencyScore'] < 3) & (groupedRfm['frequencyScore'] > 2) & (groupedRfm['monetaryScore'] > 2)]\n",
    "print('Bank users that used to make large transactions in past')\n",
    "print('There are', wereActive.shape[0], 'lost customers')\n",
    "wereActive"
   ]
  },
  {
   "cell_type": "markdown",
   "metadata": {
    "datalore": {
     "sheet_delimiter": false,
     "type": "MD"
    },
    "jupyter": {
     "outputs_hidden": false,
     "source_hidden": false
    }
   },
   "source": [
    "## 6.3 Conclusion\n",
    "\n",
    "We segmented customers according to their total RFM score. Each customer has its own calculated score which depends on his transaction activity and recency. Score can vary in range of 3-12 and the larger score, the more valuable customer is. However, total score itself cannot give descriptive information, that's why we decided to make RFM score with respect to each feature and it ranges from '111' till '444', where each number accords to Recency, Frequency, Monetary features respectively.\n",
    "\n",
    "After calculating descriptive, string-like RFM score, we can segment bank users by their activity, as we did few cells ago. We got the most active and valuable, so-called 'golden' customers, who often use our bank and make transactions with big sums. This customers must be rewarded for their trust to bank by giving them special offers or privileges.\n",
    "\n",
    "We also found 'lost' customers that used to use our bank quite often and make large transactions, but for some reason they stopped using our bank. Such customers must be involved in our bamk again, by sending them target messages with special offers or having phone calls."
   ]
  },
  {
   "cell_type": "markdown",
   "metadata": {
    "datalore": {
     "sheet_delimiter": false,
     "type": "MD"
    },
    "jupyter": {
     "outputs_hidden": false,
     "source_hidden": false
    }
   },
   "source": [
    "# 7. Model Selection"
   ]
  },
  {
   "cell_type": "markdown",
   "metadata": {
    "datalore": {
     "sheet_delimiter": false,
     "type": "MD"
    },
    "jupyter": {
     "outputs_hidden": false,
     "source_hidden": false
    }
   },
   "source": [
    "**In this chapter, we are going to implement 2 of the most popular clustering algorithms: KMeans and Agglomerative Clustering. There will also be selected optimal hyperparameters, and the performance of the models will be evaluated by metrics. At the end, we will create a visualization of the results obtained and compare them.**"
   ]
  },
  {
   "cell_type": "code",
   "execution_count": 58,
   "metadata": {
    "datalore": {
     "sheet_delimiter": false,
     "type": "CODE"
    },
    "jupyter": {
     "outputs_hidden": false,
     "source_hidden": false
    }
   },
   "outputs": [],
   "source": [
    "from sklearn.cluster import KMeans\n",
    "from sklearn.model_selection import cross_val_score\n",
    "from sklearn.model_selection import ShuffleSplit\n",
    "from sklearn import metrics\n",
    "from sklearn.manifold import TSNE\n",
    "tsne = TSNE(n_components = 2)"
   ]
  },
  {
   "cell_type": "markdown",
   "metadata": {
    "datalore": {
     "sheet_delimiter": false,
     "type": "MD"
    },
    "jupyter": {
     "outputs_hidden": false,
     "source_hidden": false
    }
   },
   "source": [
    "## 7.1 KMeans clusterization"
   ]
  },
  {
   "cell_type": "markdown",
   "metadata": {
    "datalore": {
     "sheet_delimiter": false,
     "type": "MD"
    },
    "jupyter": {
     "outputs_hidden": false,
     "source_hidden": false
    }
   },
   "source": [
    "### 7.1.1 Choosing the optimal number of clusters"
   ]
  },
  {
   "cell_type": "code",
   "execution_count": 59,
   "metadata": {
    "datalore": {
     "sheet_delimiter": false,
     "type": "CODE"
    },
    "jupyter": {
     "outputs_hidden": false,
     "source_hidden": false
    }
   },
   "outputs": [],
   "source": [
    "def drawSSEPlot(df, column_indices, n_clusters=50, max_iter=300, tol=1e-04, init='k-means++', n_init=10, algorithm='auto'):\n",
    "    \"\"\"\n",
    "    For given dataframe, construct a lineplot of SSE for KMeans clustering\n",
    "    \"\"\"\n",
    "    import matplotlib.pyplot as plt\n",
    "    inertia_values = []\n",
    "    for i in range(1, n_clusters+1):\n",
    "        km = KMeans(n_clusters=i, max_iter=max_iter, tol=tol, init=init, n_init=n_init, random_state=1, algorithm=algorithm)\n",
    "        km.fit_predict(df.iloc[:, column_indices])\n",
    "        inertia_values.append(km.inertia_)\n",
    "    fig, ax = plt.subplots(figsize=(8, 6))\n",
    "    plt.plot(range(1, n_clusters+1), inertia_values, color='red')\n",
    "    plt.xlabel('No. of Clusters', fontsize=15)\n",
    "    plt.ylabel('SSE / Inertia', fontsize=15)\n",
    "    plt.title('SSE / Inertia vs No. Of Clusters', fontsize=15)\n",
    "    plt.grid()\n",
    "    plt.show()"
   ]
  },
  {
   "cell_type": "code",
   "execution_count": 60,
   "metadata": {
    "datalore": {
     "sheet_delimiter": false,
     "type": "CODE"
    },
    "jupyter": {
     "outputs_hidden": false,
     "source_hidden": false
    }
   },
   "outputs": [
    {
     "data": {
      "image/png": "[encoded data removed]",
      "text/plain": [
       "<Figure size 576x432 with 1 Axes>"
      ]
     },
     "metadata": {},
     "output_type": "display_data"
    }
   ],
   "source": [
    "drawSSEPlot(pd.DataFrame(data_exp_norm), list(range(0, 22)))"
   ]
  },
  {
   "cell_type": "markdown",
   "metadata": {
    "datalore": {
     "sheet_delimiter": false,
     "type": "MD"
    },
    "jupyter": {
     "outputs_hidden": false,
     "source_hidden": false
    }
   },
   "source": [
    "**Sum Squared Error (SSE) is an accuracy measure where the errors are squared, then added. It is used to determine the accuracy of the forecasting model when the data points are similar in magnitude.**"
   ]
  },
  {
   "cell_type": "code",
   "execution_count": 61,
   "metadata": {
    "datalore": {
     "sheet_delimiter": false,
     "type": "CODE"
    },
    "jupyter": {
     "outputs_hidden": false,
     "source_hidden": false
    }
   },
   "outputs": [],
   "source": [
    "list_scores_1 = []\n",
    "list_scores_2 = []\n",
    "list_scores_3 = []\n",
    "for i in range(2, 50):\n",
    "    kmeans = KMeans(n_clusters=i, n_init=50).fit(data_exp_norm)\n",
    "    labels = kmeans.labels_\n",
    "    labels2 = kmeans.fit_predict(data_exp_norm)\n",
    "    list_scores_1.append(metrics.silhouette_score(data_exp_norm, labels))\n",
    "    list_scores_2.append(metrics.calinski_harabasz_score(data_exp_norm, labels))\n",
    "    list_scores_3.append(metrics.davies_bouldin_score(data_exp_norm, labels2))"
   ]
  },
  {
   "cell_type": "code",
   "execution_count": 62,
   "metadata": {
    "datalore": {
     "sheet_delimiter": false,
     "type": "CODE"
    },
    "jupyter": {
     "outputs_hidden": false,
     "source_hidden": false
    }
   },
   "outputs": [
    {
     "data": {
      "text/plain": [
       "[<matplotlib.lines.Line2D at 0x2136875ca30>]"
      ]
     },
     "execution_count": 62,
     "metadata": {},
     "output_type": "execute_result"
    },
    {
     "data": {
      "image/png": "[encoded data removed]",
      "text/plain": [
       "<Figure size 432x288 with 1 Axes>"
      ]
     },
     "metadata": {},
     "output_type": "display_data"
    }
   ],
   "source": [
    "plt.plot(list(range(2, 50)), list_scores_1, 'bx-')"
   ]
  },
  {
   "cell_type": "markdown",
   "metadata": {
    "datalore": {
     "sheet_delimiter": false,
     "type": "MD"
    },
    "jupyter": {
     "outputs_hidden": false,
     "source_hidden": false
    }
   },
   "source": [
    "**The Silhouette Coefficient is an example of such an evaluation, where a higher Silhouette Coefficient score relates to a model with better defined clusters. The score is higher when clusters are dense and well separated, which relates to a standard concept of a cluster.**"
   ]
  },
  {
   "cell_type": "code",
   "execution_count": 63,
   "metadata": {
    "datalore": {
     "sheet_delimiter": false,
     "type": "CODE"
    },
    "jupyter": {
     "outputs_hidden": false,
     "source_hidden": false
    }
   },
   "outputs": [
    {
     "data": {
      "text/plain": [
       "[<matplotlib.lines.Line2D at 0x21300022ee0>]"
      ]
     },
     "execution_count": 63,
     "metadata": {},
     "output_type": "execute_result"
    },
    {
     "data": {
      "image/png": "[encoded data removed]",
      "text/plain": [
       "<Figure size 432x288 with 1 Axes>"
      ]
     },
     "metadata": {},
     "output_type": "display_data"
    }
   ],
   "source": [
    "plt.plot(list(range(2, 50)), list_scores_2, 'bx-')"
   ]
  },
  {
   "cell_type": "markdown",
   "metadata": {
    "datalore": {
     "sheet_delimiter": false,
     "type": "MD"
    },
    "jupyter": {
     "outputs_hidden": false,
     "source_hidden": false
    }
   },
   "source": [
    "**The Calinski-Harabasz index - can be used to evaluate the model, where a higher Calinski-Harabasz score relates to a model with better defined clusters. The score is higher when clusters are dense and well separated, which relates to a standard concept of a cluster.**"
   ]
  },
  {
   "cell_type": "code",
   "execution_count": 64,
   "metadata": {
    "datalore": {
     "sheet_delimiter": false,
     "type": "CODE"
    },
    "jupyter": {
     "outputs_hidden": false,
     "source_hidden": false
    }
   },
   "outputs": [
    {
     "data": {
      "text/plain": [
       "[<matplotlib.lines.Line2D at 0x21300056e80>]"
      ]
     },
     "execution_count": 64,
     "metadata": {},
     "output_type": "execute_result"
    },
    {
     "data": {
      "image/png": "[encoded data removed]",
      "text/plain": [
       "<Figure size 432x288 with 1 Axes>"
      ]
     },
     "metadata": {},
     "output_type": "display_data"
    }
   ],
   "source": [
    "plt.plot(list(range(2, 50)), list_scores_3, 'bx-')"
   ]
  },
  {
   "cell_type": "markdown",
   "metadata": {
    "datalore": {
     "sheet_delimiter": false,
     "type": "MD"
    },
    "jupyter": {
     "outputs_hidden": false,
     "source_hidden": false
    }
   },
   "source": [
    "**The Davies-Bouldin index can be used to evaluate the model, where a lower Davies-Bouldin index relates to a model with better separation between the clusters.**"
   ]
  },
  {
   "cell_type": "markdown",
   "metadata": {
    "datalore": {
     "sheet_delimiter": false,
     "type": "MD"
    },
    "jupyter": {
     "outputs_hidden": false,
     "source_hidden": false
    }
   },
   "source": [
    "### 7.1.1.1 Conclusion from chapter above"
   ]
  },
  {
   "cell_type": "markdown",
   "metadata": {
    "datalore": {
     "sheet_delimiter": false,
     "type": "MD"
    },
    "jupyter": {
     "outputs_hidden": false,
     "source_hidden": false
    }
   },
   "source": [
    "**Based on the graphs above, we can assume that the optimal number of clusters will be 14 clusters.**"
   ]
  },
  {
   "cell_type": "markdown",
   "metadata": {
    "datalore": {
     "sheet_delimiter": false,
     "type": "MD"
    },
    "jupyter": {
     "outputs_hidden": false,
     "source_hidden": false
    }
   },
   "source": [
    "### 7.1.2 KMeans model"
   ]
  },
  {
   "cell_type": "code",
   "execution_count": 65,
   "metadata": {
    "datalore": {
     "sheet_delimiter": false,
     "type": "CODE"
    },
    "jupyter": {
     "outputs_hidden": false,
     "source_hidden": false
    }
   },
   "outputs": [],
   "source": [
    "kmeans = KMeans(n_clusters=14, n_init=100).fit(data_exp_norm)\n",
    "kmeans_labels = kmeans.labels_"
   ]
  },
  {
   "cell_type": "markdown",
   "metadata": {
    "datalore": {
     "sheet_delimiter": false,
     "type": "MD"
    },
    "jupyter": {
     "outputs_hidden": false,
     "source_hidden": false
    }
   },
   "source": [
    "### 7.1.3 Cross-Validation Score"
   ]
  },
  {
   "cell_type": "code",
   "execution_count": 66,
   "metadata": {
    "datalore": {
     "sheet_delimiter": false,
     "type": "CODE"
    },
    "jupyter": {
     "outputs_hidden": false,
     "source_hidden": false
    }
   },
   "outputs": [
    {
     "data": {
      "text/plain": [
       "array([48.69961848, 49.89048535, 49.01143839, 49.22346761, 49.44969741])"
      ]
     },
     "execution_count": 66,
     "metadata": {},
     "output_type": "execute_result"
    }
   ],
   "source": [
    "cv = ShuffleSplit(n_splits=5, test_size=0.3, random_state=0)\n",
    "abs(cross_val_score(kmeans, data_exp_norm, cv=cv))"
   ]
  },
  {
   "cell_type": "markdown",
   "metadata": {
    "datalore": {
     "sheet_delimiter": false,
     "type": "MD"
    },
    "jupyter": {
     "outputs_hidden": false,
     "source_hidden": false
    }
   },
   "source": [
    "**How you can see above, Cross-Validation Score is very small that says about well-chosen hyperparameters and good data preprocessing.**"
   ]
  },
  {
   "cell_type": "markdown",
   "metadata": {
    "datalore": {
     "sheet_delimiter": false,
     "type": "MD"
    },
    "jupyter": {
     "outputs_hidden": false,
     "source_hidden": false
    }
   },
   "source": [
    "### 7.1.4 TSNE Visualization"
   ]
  },
  {
   "cell_type": "code",
   "execution_count": 67,
   "metadata": {
    "datalore": {
     "sheet_delimiter": false,
     "type": "CODE"
    },
    "jupyter": {
     "outputs_hidden": false,
     "source_hidden": false
    }
   },
   "outputs": [
    {
     "data": {
      "image/png": "[encoded data removed]",
      "text/plain": [
       "<Figure size 720x720 with 1 Axes>"
      ]
     },
     "metadata": {},
     "output_type": "display_data"
    }
   ],
   "source": [
    "proj = tsne.fit_transform(data_exp_norm)\n",
    "plt.figure(figsize=(10,10))\n",
    "plt.scatter(proj[:,0], proj[:,1], c=kmeans_labels)\n",
    "plt.title(\"Visualization of the clustering with TSNE\", fontsize=\"20\")\n",
    "plt.show()"
   ]
  },
  {
   "cell_type": "markdown",
   "metadata": {
    "datalore": {
     "sheet_delimiter": false,
     "type": "MD"
    },
    "jupyter": {
     "outputs_hidden": false,
     "source_hidden": false
    }
   },
   "source": [
    "**You can clearly see how qualitatively the data is divided into clusters.**"
   ]
  },
  {
   "cell_type": "markdown",
   "metadata": {
    "datalore": {
     "sheet_delimiter": false,
     "type": "MD"
    },
    "jupyter": {
     "outputs_hidden": false,
     "source_hidden": false
    }
   },
   "source": [
    "## 7.2 Agglomerative Clustering"
   ]
  },
  {
   "cell_type": "code",
   "execution_count": 68,
   "metadata": {
    "datalore": {
     "sheet_delimiter": false,
     "type": "CODE"
    },
    "jupyter": {
     "outputs_hidden": false,
     "source_hidden": false
    }
   },
   "outputs": [],
   "source": [
    "from sklearn.cluster import AgglomerativeClustering\n",
    "from scipy.cluster.hierarchy import dendrogram\n",
    "import scipy.cluster.hierarchy as shc"
   ]
  },
  {
   "cell_type": "markdown",
   "metadata": {
    "datalore": {
     "sheet_delimiter": false,
     "type": "MD"
    },
    "jupyter": {
     "outputs_hidden": false,
     "source_hidden": false
    }
   },
   "source": [
    "### 7.2.1 Agglomerative clustering model"
   ]
  },
  {
   "cell_type": "markdown",
   "metadata": {
    "datalore": {
     "sheet_delimiter": false,
     "type": "MD"
    },
    "jupyter": {
     "outputs_hidden": false,
     "source_hidden": false
    }
   },
   "source": [
    "**After doing a lot of experiments and relying on the same metrics as in KMeans clustering, it was determined that the best linkage for agglomerative clustering is \"ward\".**"
   ]
  },
  {
   "cell_type": "code",
   "execution_count": 73,
   "metadata": {
    "datalore": {
     "sheet_delimiter": false,
     "type": "CODE"
    },
    "jupyter": {
     "outputs_hidden": false,
     "source_hidden": false
    }
   },
   "outputs": [],
   "source": [
    "linkage = 'ward'\n",
    "aggclustering = AgglomerativeClustering(n_clusters=12, linkage=linkage, affinity='euclidean').fit(data_exp_norm)"
   ]
  },
  {
   "cell_type": "markdown",
   "metadata": {
    "datalore": {
     "sheet_delimiter": false,
     "type": "MD"
    },
    "jupyter": {
     "outputs_hidden": false,
     "source_hidden": false
    }
   },
   "source": [
    "### 7.2.2 Metrics"
   ]
  },
  {
   "cell_type": "code",
   "execution_count": 74,
   "metadata": {
    "datalore": {
     "sheet_delimiter": false,
     "type": "CODE"
    },
    "jupyter": {
     "outputs_hidden": false,
     "source_hidden": false
    }
   },
   "outputs": [
    {
     "name": "stdout",
     "output_type": "stream",
     "text": [
      "Silhouette Score: 0.4604\n",
      "Calinski Harabasz Score: 4016.2789\n",
      "Davies Bouldin Score: 0.9554\n"
     ]
    }
   ],
   "source": [
    "aggclustering_2 = AgglomerativeClustering(n_clusters=12, linkage=linkage, affinity='euclidean').fit_predict(data_exp_norm)\n",
    "\n",
    "# retrieve unique clusters\n",
    "clusters = np.unique(aggclustering)\n",
    "\n",
    "# Calculate cluster validation metrics\n",
    "score_AGclustering_s = metrics.silhouette_score(data_exp_norm, aggclustering.labels_, metric='euclidean')\n",
    "score_AGclustering_c = metrics.calinski_harabasz_score(data_exp_norm, aggclustering.labels_)\n",
    "score_AGclustering_d = metrics.davies_bouldin_score(data_exp_norm, aggclustering_2)\n",
    "print('Silhouette Score: %.4f' % score_AGclustering_s)\n",
    "print('Calinski Harabasz Score: %.4f' % score_AGclustering_c)\n",
    "print('Davies Bouldin Score: %.4f' % score_AGclustering_d)"
   ]
  },
  {
   "cell_type": "markdown",
   "metadata": {
    "datalore": {
     "sheet_delimiter": false,
     "type": "MD"
    },
    "jupyter": {
     "outputs_hidden": false,
     "source_hidden": false
    }
   },
   "source": [
    "**Exactly because of ward linkage, the model produces the greatest result in Silhouette, Calinski and Davis Bouldin metrics.**"
   ]
  },
  {
   "cell_type": "markdown",
   "metadata": {
    "datalore": {
     "sheet_delimiter": false,
     "type": "MD"
    },
    "jupyter": {
     "outputs_hidden": false,
     "source_hidden": false
    }
   },
   "source": [
    "### 7.2.3 Match with KMeans results"
   ]
  },
  {
   "cell_type": "code",
   "execution_count": 75,
   "metadata": {
    "datalore": {
     "sheet_delimiter": false,
     "type": "CODE"
    },
    "jupyter": {
     "outputs_hidden": false,
     "source_hidden": false
    }
   },
   "outputs": [
    {
     "name": "stdout",
     "output_type": "stream",
     "text": [
      "0.9935\n"
     ]
    }
   ],
   "source": [
    "aggclust_labels = aggclustering.labels_\n",
    "correlation_btw_kmeans_aggclust = 0\n",
    "for i in np.unique(kmeans_labels):\n",
    "    correlation_btw_kmeans_aggclust += sum(np.sort(np.unique(aggclust_labels[np.where(kmeans_labels == i)], return_counts=True)[1])[::-1][1:])\n",
    "print(1 - correlation_btw_kmeans_aggclust / len(kmeans_labels))"
   ]
  },
  {
   "cell_type": "markdown",
   "metadata": {
    "datalore": {
     "sheet_delimiter": false,
     "type": "MD"
    },
    "jupyter": {
     "outputs_hidden": false,
     "source_hidden": false
    }
   },
   "source": [
    "**And as you can see, the results are 99% the same as those obtained with KMeans clustering.**"
   ]
  },
  {
   "cell_type": "markdown",
   "metadata": {
    "datalore": {
     "sheet_delimiter": false,
     "type": "MD"
    },
    "jupyter": {
     "outputs_hidden": false,
     "source_hidden": false
    }
   },
   "source": [
    "### 7.2.4 Dendogram"
   ]
  },
  {
   "cell_type": "code",
   "execution_count": 76,
   "metadata": {
    "datalore": {
     "sheet_delimiter": false,
     "type": "CODE"
    },
    "jupyter": {
     "outputs_hidden": false,
     "source_hidden": false
    }
   },
   "outputs": [
    {
     "data": {
      "image/png": "[encoded data removed]",
      "text/plain": [
       "<Figure size 720x504 with 1 Axes>"
      ]
     },
     "metadata": {},
     "output_type": "display_data"
    }
   ],
   "source": [
    "import scipy.cluster.hierarchy as shc\n",
    "from matplotlib import pyplot\n",
    "pyplot.figure(figsize=(10, 7))  \n",
    "pyplot.title(\"Dendrograms\")  \n",
    "dend = shc.dendrogram(shc.linkage(data_exp_norm, method='ward'))"
   ]
  },
  {
   "cell_type": "markdown",
   "metadata": {
    "datalore": {
     "sheet_delimiter": false,
     "type": "MD"
    },
    "jupyter": {
     "outputs_hidden": false,
     "source_hidden": false
    }
   },
   "source": [
    "### 7.2.5 TSNE Visualization"
   ]
  },
  {
   "cell_type": "code",
   "execution_count": 77,
   "metadata": {
    "datalore": {
     "sheet_delimiter": false,
     "type": "CODE"
    },
    "jupyter": {
     "outputs_hidden": false,
     "source_hidden": false
    }
   },
   "outputs": [
    {
     "data": {
      "image/png": "[encoded data removed]",
      "text/plain": [
       "<Figure size 720x720 with 1 Axes>"
      ]
     },
     "metadata": {},
     "output_type": "display_data"
    }
   ],
   "source": [
    "proj = tsne.fit_transform(data_exp_norm)\n",
    "plt.figure(figsize=(10,10))\n",
    "plt.scatter(proj[:,0], proj[:,1], c=aggclust_labels)\n",
    "plt.title(\"Visualization of the clustering with TSNE\", fontsize=\"20\")\n",
    "plt.show()"
   ]
  },
  {
   "cell_type": "markdown",
   "metadata": {
    "datalore": {
     "sheet_delimiter": false,
     "type": "MD"
    },
    "jupyter": {
     "outputs_hidden": false,
     "source_hidden": false
    }
   },
   "source": [
    "## 7.3 Conclusion"
   ]
  },
  {
   "cell_type": "markdown",
   "metadata": {
    "datalore": {
     "sheet_delimiter": false,
     "type": "MD"
    },
    "jupyter": {
     "outputs_hidden": false,
     "source_hidden": false
    }
   },
   "source": [
    "**In this section, we segmented customer data into 14 clusters.**\n",
    "\n",
    "**This number was chosen based on the conducted model selection, after which the models of KMeans and Agglomerative clustering algorithms were created.**\n",
    "\n",
    "**According to the assessment, it can be concluded that both algorithms give impressive results: there are no outliers and stratifications of clusters, their boundaries are very clearly defined and they are able to characterize one or another feature of their group.**"
   ]
  },
  {
   "cell_type": "markdown",
   "metadata": {
    "datalore": {
     "sheet_delimiter": false,
     "type": "MD"
    },
    "jupyter": {
     "outputs_hidden": false,
     "source_hidden": false
    }
   },
   "source": [
    "# 8. Final conclusion"
   ]
  },
  {
   "cell_type": "code",
   "execution_count": 80,
   "metadata": {
    "datalore": {
     "sheet_delimiter": false,
     "type": "CODE"
    },
    "jupyter": {
     "outputs_hidden": false,
     "source_hidden": false
    }
   },
   "outputs": [
    {
     "data": {
      "text/html": [
       "<div>\n",
       "<style scoped>\n",
       "    .dataframe tbody tr th:only-of-type {\n",
       "        vertical-align: middle;\n",
       "    }\n",
       "\n",
       "    .dataframe tbody tr th {\n",
       "        vertical-align: top;\n",
       "    }\n",
       "\n",
       "    .dataframe thead th {\n",
       "        text-align: right;\n",
       "    }\n",
       "</style>\n",
       "<table border=\"1\" class=\"dataframe\">\n",
       "  <thead>\n",
       "    <tr style=\"text-align: right;\">\n",
       "      <th></th>\n",
       "      <th>sum</th>\n",
       "      <th>abs_sum</th>\n",
       "      <th>n_transactions</th>\n",
       "      <th>average_transaction</th>\n",
       "      <th>gender</th>\n",
       "      <th>percentage</th>\n",
       "      <th>code cluster 5</th>\n",
       "      <th>code cluster 3</th>\n",
       "      <th>code cluster 1</th>\n",
       "      <th>code cluster 2</th>\n",
       "      <th>...</th>\n",
       "      <th>code cluster 7</th>\n",
       "      <th>type cluster 4</th>\n",
       "      <th>type cluster 3</th>\n",
       "      <th>type cluster 2</th>\n",
       "      <th>type cluster 7</th>\n",
       "      <th>type cluster 5</th>\n",
       "      <th>type cluster 6</th>\n",
       "      <th>type cluster 1</th>\n",
       "      <th>time_of_registration</th>\n",
       "      <th>transaction_frequecy</th>\n",
       "    </tr>\n",
       "  </thead>\n",
       "  <tbody>\n",
       "    <tr>\n",
       "      <th>0</th>\n",
       "      <td>-405200.0</td>\n",
       "      <td>1265410.0</td>\n",
       "      <td>19.0</td>\n",
       "      <td>79677.0</td>\n",
       "      <td>0.0</td>\n",
       "      <td>0.0</td>\n",
       "      <td>3.0</td>\n",
       "      <td>6.0</td>\n",
       "      <td>1.0</td>\n",
       "      <td>6.0</td>\n",
       "      <td>...</td>\n",
       "      <td>0.0</td>\n",
       "      <td>1.0</td>\n",
       "      <td>1.0</td>\n",
       "      <td>14.0</td>\n",
       "      <td>0.0</td>\n",
       "      <td>0.0</td>\n",
       "      <td>0.0</td>\n",
       "      <td>2.0</td>\n",
       "      <td>452374.0</td>\n",
       "      <td>152591.0</td>\n",
       "    </tr>\n",
       "    <tr>\n",
       "      <th>1</th>\n",
       "      <td>-238197.0</td>\n",
       "      <td>271015.0</td>\n",
       "      <td>7.0</td>\n",
       "      <td>44396.0</td>\n",
       "      <td>0.0</td>\n",
       "      <td>0.0</td>\n",
       "      <td>2.0</td>\n",
       "      <td>3.0</td>\n",
       "      <td>0.0</td>\n",
       "      <td>2.0</td>\n",
       "      <td>...</td>\n",
       "      <td>0.0</td>\n",
       "      <td>0.0</td>\n",
       "      <td>0.0</td>\n",
       "      <td>7.0</td>\n",
       "      <td>0.0</td>\n",
       "      <td>0.0</td>\n",
       "      <td>0.0</td>\n",
       "      <td>0.0</td>\n",
       "      <td>771820.0</td>\n",
       "      <td>320922.0</td>\n",
       "    </tr>\n",
       "    <tr>\n",
       "      <th>2</th>\n",
       "      <td>-391144.0</td>\n",
       "      <td>3217654.0</td>\n",
       "      <td>37.0</td>\n",
       "      <td>110600.0</td>\n",
       "      <td>1.0</td>\n",
       "      <td>0.0</td>\n",
       "      <td>4.0</td>\n",
       "      <td>8.0</td>\n",
       "      <td>2.0</td>\n",
       "      <td>9.0</td>\n",
       "      <td>...</td>\n",
       "      <td>0.0</td>\n",
       "      <td>3.0</td>\n",
       "      <td>11.0</td>\n",
       "      <td>17.0</td>\n",
       "      <td>1.0</td>\n",
       "      <td>0.0</td>\n",
       "      <td>1.0</td>\n",
       "      <td>5.0</td>\n",
       "      <td>328011.0</td>\n",
       "      <td>107611.0</td>\n",
       "    </tr>\n",
       "    <tr>\n",
       "      <th>3</th>\n",
       "      <td>-76633.0</td>\n",
       "      <td>1828015.0</td>\n",
       "      <td>15.0</td>\n",
       "      <td>85929.0</td>\n",
       "      <td>0.0</td>\n",
       "      <td>0.0</td>\n",
       "      <td>3.0</td>\n",
       "      <td>5.0</td>\n",
       "      <td>1.0</td>\n",
       "      <td>5.0</td>\n",
       "      <td>...</td>\n",
       "      <td>0.0</td>\n",
       "      <td>0.0</td>\n",
       "      <td>0.0</td>\n",
       "      <td>12.0</td>\n",
       "      <td>0.0</td>\n",
       "      <td>0.0</td>\n",
       "      <td>0.0</td>\n",
       "      <td>2.0</td>\n",
       "      <td>528215.0</td>\n",
       "      <td>185284.0</td>\n",
       "    </tr>\n",
       "    <tr>\n",
       "      <th>4</th>\n",
       "      <td>-261170.0</td>\n",
       "      <td>278454.0</td>\n",
       "      <td>5.0</td>\n",
       "      <td>73357.0</td>\n",
       "      <td>0.0</td>\n",
       "      <td>0.0</td>\n",
       "      <td>1.0</td>\n",
       "      <td>2.0</td>\n",
       "      <td>0.0</td>\n",
       "      <td>1.0</td>\n",
       "      <td>...</td>\n",
       "      <td>0.0</td>\n",
       "      <td>0.0</td>\n",
       "      <td>0.0</td>\n",
       "      <td>5.0</td>\n",
       "      <td>0.0</td>\n",
       "      <td>0.0</td>\n",
       "      <td>0.0</td>\n",
       "      <td>0.0</td>\n",
       "      <td>987093.0</td>\n",
       "      <td>417846.0</td>\n",
       "    </tr>\n",
       "    <tr>\n",
       "      <th>5</th>\n",
       "      <td>-356965.0</td>\n",
       "      <td>595916.0</td>\n",
       "      <td>12.0</td>\n",
       "      <td>64801.0</td>\n",
       "      <td>0.0</td>\n",
       "      <td>0.0</td>\n",
       "      <td>2.0</td>\n",
       "      <td>4.0</td>\n",
       "      <td>0.0</td>\n",
       "      <td>4.0</td>\n",
       "      <td>...</td>\n",
       "      <td>0.0</td>\n",
       "      <td>0.0</td>\n",
       "      <td>0.0</td>\n",
       "      <td>10.0</td>\n",
       "      <td>0.0</td>\n",
       "      <td>0.0</td>\n",
       "      <td>0.0</td>\n",
       "      <td>1.0</td>\n",
       "      <td>608247.0</td>\n",
       "      <td>235934.0</td>\n",
       "    </tr>\n",
       "    <tr>\n",
       "      <th>6</th>\n",
       "      <td>710291.0</td>\n",
       "      <td>5897245.0</td>\n",
       "      <td>39.0</td>\n",
       "      <td>161051.0</td>\n",
       "      <td>1.0</td>\n",
       "      <td>0.0</td>\n",
       "      <td>4.0</td>\n",
       "      <td>11.0</td>\n",
       "      <td>3.0</td>\n",
       "      <td>12.0</td>\n",
       "      <td>...</td>\n",
       "      <td>0.0</td>\n",
       "      <td>3.0</td>\n",
       "      <td>5.0</td>\n",
       "      <td>22.0</td>\n",
       "      <td>1.0</td>\n",
       "      <td>1.0</td>\n",
       "      <td>1.0</td>\n",
       "      <td>7.0</td>\n",
       "      <td>230867.0</td>\n",
       "      <td>75396.0</td>\n",
       "    </tr>\n",
       "    <tr>\n",
       "      <th>7</th>\n",
       "      <td>-104422.0</td>\n",
       "      <td>104422.0</td>\n",
       "      <td>1.0</td>\n",
       "      <td>104422.0</td>\n",
       "      <td>0.0</td>\n",
       "      <td>0.0</td>\n",
       "      <td>0.0</td>\n",
       "      <td>1.0</td>\n",
       "      <td>0.0</td>\n",
       "      <td>0.0</td>\n",
       "      <td>...</td>\n",
       "      <td>0.0</td>\n",
       "      <td>0.0</td>\n",
       "      <td>0.0</td>\n",
       "      <td>1.0</td>\n",
       "      <td>0.0</td>\n",
       "      <td>0.0</td>\n",
       "      <td>0.0</td>\n",
       "      <td>0.0</td>\n",
       "      <td>1449169.0</td>\n",
       "      <td>1193283.0</td>\n",
       "    </tr>\n",
       "    <tr>\n",
       "      <th>8</th>\n",
       "      <td>-526827.0</td>\n",
       "      <td>1874200.0</td>\n",
       "      <td>23.0</td>\n",
       "      <td>92550.0</td>\n",
       "      <td>1.0</td>\n",
       "      <td>0.0</td>\n",
       "      <td>3.0</td>\n",
       "      <td>7.0</td>\n",
       "      <td>1.0</td>\n",
       "      <td>7.0</td>\n",
       "      <td>...</td>\n",
       "      <td>0.0</td>\n",
       "      <td>1.0</td>\n",
       "      <td>3.0</td>\n",
       "      <td>15.0</td>\n",
       "      <td>0.0</td>\n",
       "      <td>0.0</td>\n",
       "      <td>0.0</td>\n",
       "      <td>3.0</td>\n",
       "      <td>379654.0</td>\n",
       "      <td>133312.0</td>\n",
       "    </tr>\n",
       "    <tr>\n",
       "      <th>9</th>\n",
       "      <td>84853.0</td>\n",
       "      <td>3426097.0</td>\n",
       "      <td>39.0</td>\n",
       "      <td>115339.0</td>\n",
       "      <td>1.0</td>\n",
       "      <td>0.0</td>\n",
       "      <td>4.0</td>\n",
       "      <td>9.0</td>\n",
       "      <td>3.0</td>\n",
       "      <td>10.0</td>\n",
       "      <td>...</td>\n",
       "      <td>0.0</td>\n",
       "      <td>4.0</td>\n",
       "      <td>9.0</td>\n",
       "      <td>19.0</td>\n",
       "      <td>1.0</td>\n",
       "      <td>0.0</td>\n",
       "      <td>1.0</td>\n",
       "      <td>5.0</td>\n",
       "      <td>290576.0</td>\n",
       "      <td>91568.0</td>\n",
       "    </tr>\n",
       "    <tr>\n",
       "      <th>10</th>\n",
       "      <td>-205446.0</td>\n",
       "      <td>205446.0</td>\n",
       "      <td>3.0</td>\n",
       "      <td>72473.0</td>\n",
       "      <td>0.0</td>\n",
       "      <td>0.0</td>\n",
       "      <td>1.0</td>\n",
       "      <td>2.0</td>\n",
       "      <td>0.0</td>\n",
       "      <td>0.0</td>\n",
       "      <td>...</td>\n",
       "      <td>0.0</td>\n",
       "      <td>0.0</td>\n",
       "      <td>0.0</td>\n",
       "      <td>3.0</td>\n",
       "      <td>0.0</td>\n",
       "      <td>0.0</td>\n",
       "      <td>0.0</td>\n",
       "      <td>0.0</td>\n",
       "      <td>1126876.0</td>\n",
       "      <td>557683.0</td>\n",
       "    </tr>\n",
       "    <tr>\n",
       "      <th>11</th>\n",
       "      <td>-335364.0</td>\n",
       "      <td>471317.0</td>\n",
       "      <td>10.0</td>\n",
       "      <td>57517.0</td>\n",
       "      <td>0.0</td>\n",
       "      <td>0.0</td>\n",
       "      <td>2.0</td>\n",
       "      <td>4.0</td>\n",
       "      <td>0.0</td>\n",
       "      <td>3.0</td>\n",
       "      <td>...</td>\n",
       "      <td>0.0</td>\n",
       "      <td>0.0</td>\n",
       "      <td>0.0</td>\n",
       "      <td>9.0</td>\n",
       "      <td>0.0</td>\n",
       "      <td>0.0</td>\n",
       "      <td>0.0</td>\n",
       "      <td>1.0</td>\n",
       "      <td>688708.0</td>\n",
       "      <td>251926.0</td>\n",
       "    </tr>\n",
       "    <tr>\n",
       "      <th>12</th>\n",
       "      <td>-90532.0</td>\n",
       "      <td>178753.0</td>\n",
       "      <td>2.0</td>\n",
       "      <td>97477.0</td>\n",
       "      <td>0.0</td>\n",
       "      <td>0.0</td>\n",
       "      <td>0.0</td>\n",
       "      <td>1.0</td>\n",
       "      <td>0.0</td>\n",
       "      <td>0.0</td>\n",
       "      <td>...</td>\n",
       "      <td>0.0</td>\n",
       "      <td>0.0</td>\n",
       "      <td>0.0</td>\n",
       "      <td>1.0</td>\n",
       "      <td>0.0</td>\n",
       "      <td>0.0</td>\n",
       "      <td>0.0</td>\n",
       "      <td>0.0</td>\n",
       "      <td>1142276.0</td>\n",
       "      <td>789624.0</td>\n",
       "    </tr>\n",
       "    <tr>\n",
       "      <th>13</th>\n",
       "      <td>1321084.0</td>\n",
       "      <td>11116623.0</td>\n",
       "      <td>79.0</td>\n",
       "      <td>160290.0</td>\n",
       "      <td>1.0</td>\n",
       "      <td>0.0</td>\n",
       "      <td>7.0</td>\n",
       "      <td>15.0</td>\n",
       "      <td>6.0</td>\n",
       "      <td>18.0</td>\n",
       "      <td>...</td>\n",
       "      <td>0.0</td>\n",
       "      <td>9.0</td>\n",
       "      <td>13.0</td>\n",
       "      <td>29.0</td>\n",
       "      <td>4.0</td>\n",
       "      <td>1.0</td>\n",
       "      <td>1.0</td>\n",
       "      <td>22.0</td>\n",
       "      <td>161184.0</td>\n",
       "      <td>57382.0</td>\n",
       "    </tr>\n",
       "  </tbody>\n",
       "</table>\n",
       "<p>14 rows × 22 columns</p>\n",
       "</div>"
      ],
      "text/plain": [
       "          sum     abs_sum  n_transactions  average_transaction  gender  \\\n",
       "0   -405200.0   1265410.0            19.0              79677.0     0.0   \n",
       "1   -238197.0    271015.0             7.0              44396.0     0.0   \n",
       "2   -391144.0   3217654.0            37.0             110600.0     1.0   \n",
       "3    -76633.0   1828015.0            15.0              85929.0     0.0   \n",
       "4   -261170.0    278454.0             5.0              73357.0     0.0   \n",
       "5   -356965.0    595916.0            12.0              64801.0     0.0   \n",
       "6    710291.0   5897245.0            39.0             161051.0     1.0   \n",
       "7   -104422.0    104422.0             1.0             104422.0     0.0   \n",
       "8   -526827.0   1874200.0            23.0              92550.0     1.0   \n",
       "9     84853.0   3426097.0            39.0             115339.0     1.0   \n",
       "10  -205446.0    205446.0             3.0              72473.0     0.0   \n",
       "11  -335364.0    471317.0            10.0              57517.0     0.0   \n",
       "12   -90532.0    178753.0             2.0              97477.0     0.0   \n",
       "13  1321084.0  11116623.0            79.0             160290.0     1.0   \n",
       "\n",
       "    percentage  code cluster 5  code cluster 3  code cluster 1  \\\n",
       "0          0.0             3.0             6.0             1.0   \n",
       "1          0.0             2.0             3.0             0.0   \n",
       "2          0.0             4.0             8.0             2.0   \n",
       "3          0.0             3.0             5.0             1.0   \n",
       "4          0.0             1.0             2.0             0.0   \n",
       "5          0.0             2.0             4.0             0.0   \n",
       "6          0.0             4.0            11.0             3.0   \n",
       "7          0.0             0.0             1.0             0.0   \n",
       "8          0.0             3.0             7.0             1.0   \n",
       "9          0.0             4.0             9.0             3.0   \n",
       "10         0.0             1.0             2.0             0.0   \n",
       "11         0.0             2.0             4.0             0.0   \n",
       "12         0.0             0.0             1.0             0.0   \n",
       "13         0.0             7.0            15.0             6.0   \n",
       "\n",
       "    code cluster 2  ...  code cluster 7  type cluster 4  type cluster 3  \\\n",
       "0              6.0  ...             0.0             1.0             1.0   \n",
       "1              2.0  ...             0.0             0.0             0.0   \n",
       "2              9.0  ...             0.0             3.0            11.0   \n",
       "3              5.0  ...             0.0             0.0             0.0   \n",
       "4              1.0  ...             0.0             0.0             0.0   \n",
       "5              4.0  ...             0.0             0.0             0.0   \n",
       "6             12.0  ...             0.0             3.0             5.0   \n",
       "7              0.0  ...             0.0             0.0             0.0   \n",
       "8              7.0  ...             0.0             1.0             3.0   \n",
       "9             10.0  ...             0.0             4.0             9.0   \n",
       "10             0.0  ...             0.0             0.0             0.0   \n",
       "11             3.0  ...             0.0             0.0             0.0   \n",
       "12             0.0  ...             0.0             0.0             0.0   \n",
       "13            18.0  ...             0.0             9.0            13.0   \n",
       "\n",
       "    type cluster 2  type cluster 7  type cluster 5  type cluster 6  \\\n",
       "0             14.0             0.0             0.0             0.0   \n",
       "1              7.0             0.0             0.0             0.0   \n",
       "2             17.0             1.0             0.0             1.0   \n",
       "3             12.0             0.0             0.0             0.0   \n",
       "4              5.0             0.0             0.0             0.0   \n",
       "5             10.0             0.0             0.0             0.0   \n",
       "6             22.0             1.0             1.0             1.0   \n",
       "7              1.0             0.0             0.0             0.0   \n",
       "8             15.0             0.0             0.0             0.0   \n",
       "9             19.0             1.0             0.0             1.0   \n",
       "10             3.0             0.0             0.0             0.0   \n",
       "11             9.0             0.0             0.0             0.0   \n",
       "12             1.0             0.0             0.0             0.0   \n",
       "13            29.0             4.0             1.0             1.0   \n",
       "\n",
       "    type cluster 1  time_of_registration  transaction_frequecy  \n",
       "0              2.0              452374.0              152591.0  \n",
       "1              0.0              771820.0              320922.0  \n",
       "2              5.0              328011.0              107611.0  \n",
       "3              2.0              528215.0              185284.0  \n",
       "4              0.0              987093.0              417846.0  \n",
       "5              1.0              608247.0              235934.0  \n",
       "6              7.0              230867.0               75396.0  \n",
       "7              0.0             1449169.0             1193283.0  \n",
       "8              3.0              379654.0              133312.0  \n",
       "9              5.0              290576.0               91568.0  \n",
       "10             0.0             1126876.0              557683.0  \n",
       "11             1.0              688708.0              251926.0  \n",
       "12             0.0             1142276.0              789624.0  \n",
       "13            22.0              161184.0               57382.0  \n",
       "\n",
       "[14 rows x 22 columns]"
      ]
     },
     "execution_count": 80,
     "metadata": {},
     "output_type": "execute_result"
    }
   ],
   "source": [
    "list_mean = []\n",
    "for i in np.unique(kmeans_labels):\n",
    "    list_mean.append(data_to_clusterization[kmeans_labels == i].mean().round())\n",
    "clusters_final = pd.DataFrame(list_mean)\n",
    "clusters_final"
   ]
  },
  {
   "cell_type": "markdown",
   "metadata": {
    "datalore": {
     "sheet_delimiter": false,
     "type": "MD"
    },
    "jupyter": {
     "outputs_hidden": false,
     "source_hidden": false
    }
   },
   "source": [
    "Best customers:\n",
    "\n",
    "The 13s cluster represents best customers according to their transactions. The thing we can notice here that these customers are  has the biggest amount of money and their money flow is high as well. They have the same amount of transaction with the 9th cluster (61/61). The gender of these class are males.\n",
    "\n",
    "The 9th cluster shows us information about customers who created their accounts earlier then best customers and use SberBank for transactions more often then other customers.\n",
    "\n",
    "The 3rd cluster contains customers with positive amount of money on their accounts, however money on their accounts, the whole money flow, and amount of transactions are twice lower then first two clusters.\n",
    "\n",
    "These 3 clusters are our best customers and use SberBank fuctionality really often. We also can say they are the oldest customers of this bank. From code Clusters its  obvious golden customers to many transactions on code cluster 1 and code cluster 4 types of services or stuff and prefer to use type 4 cluster for transactions.\n",
    "\n",
    "Big spenders:\n",
    "\n",
    "The 7th cluster is people who have almost the lowest amount on their accounts but their total sum of transaction is the biggest. This cluster really near by to the best customers they are quite good, they do not do that much of transactions (35 in average) but amount of avereage transaction is bigger in commparison with other clusters.\n",
    "\n",
    "The 5th cluster has a lot in common with the 7th one. Spent lots of money, not that often, but by the big amount of money in average.\n",
    "\n",
    "These two clusters are good enough, might be for some reason they dont do as many transactions as best customers, we can say at first they have registered later, at second during less time and less transaction number they spend more money in total.\n",
    "\n",
    "Average customers:\n",
    "\n",
    "The 1st cluster of customers are not that loyal, they do 20 transactions and far away from our standarts of the best customers. We can say that  this cluster in total is in the middle. There is nothing to specify about it. But they have the lowest amount of money on their accounts.\n",
    "\n",
    "The 11th, 4th and 2nd clusters are also pretty average. We cant say much about them, they have registered comparatively recently, so we need give them a bit more time.\n",
    "\n",
    "Almost lost:\n",
    "\n",
    "The 6th cluster, these customers are do rare transactions and average transactions of threse customers are low as well. \n",
    "\n",
    "The 12th cluster with the smallest amount of transaction money. But in the same time they do transaction more often then other 3 clusters in our almost lost type.\n",
    "\n",
    "The 0th cluster is something in the middle between 6th, 12th and 8th, 10th clusters, we almost lost them so we need to pay more attention to them.\n",
    "\n",
    "The 8th cluster represents the customers we almost lost, interesting thing about it that this cluser majorly represented by males. Meanwhile all other male clusters are best customers according to their features. \n",
    "\n",
    "The 10th cluster customers do most rare transaction, and usage of time is the smallest as well.\n",
    "\n"
   ]
  },
  {
   "cell_type": "markdown",
   "metadata": {
    "datalore": {
     "sheet_delimiter": false,
     "type": "MD"
    },
    "jupyter": {
     "outputs_hidden": false,
     "source_hidden": false
    }
   },
   "source": [
    "<img src = 'https://c.tenor.com/O9UBlrcr_HwAAAAC/amelia-watson-watson.gif'>\n",
    "<img src = 'https://c.tenor.com/KuhLbye2DeAAAAAC/amelia-watson-hololive.gif'>"
   ]
  }
 ],
 "metadata": {
  "datalore": {
   "base_environment": "default",
   "computation_mode": "JUPYTER",
   "package_manager": "pip",
   "packages": [],
   "version": 1
  },
  "kernelspec": {
   "display_name": "Python 3",
   "language": "python",
   "name": "python3"
  },
  "language_info": {
   "codemirror_mode": {
    "name": "ipython",
    "version": 3
   },
   "file_extension": ".py",
   "mimetype": "text/x-python",
   "name": "python",
   "nbconvert_exporter": "python",
   "pygments_lexer": "ipython3",
   "version": "3.8.3"
  }
 },
 "nbformat": 4,
 "nbformat_minor": 4
}
